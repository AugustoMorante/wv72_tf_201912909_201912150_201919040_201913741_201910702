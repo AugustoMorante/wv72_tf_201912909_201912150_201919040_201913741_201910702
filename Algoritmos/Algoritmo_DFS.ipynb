{
  "nbformat": 4,
  "nbformat_minor": 0,
  "metadata": {
    "colab": {
      "name": "Algoritmo DFS",
      "provenance": []
    },
    "kernelspec": {
      "name": "python3",
      "display_name": "Python 3"
    },
    "language_info": {
      "name": "python"
    }
  },
  "cells": [
    {
      "cell_type": "markdown",
      "metadata": {
        "id": "1ur5h9GtDsL1"
      },
      "source": [
        "## ALGORITMO DE DEPTH FIRST SEARCH (BFS)\n",
        "\n",
        "---\n",
        "\n",
        "\n",
        "# Implementación en pseudocódigo\n",
        "\n",
        "    DFS(Grafo G, nodo_fuente s)\n",
        "    n = tamaño de G \n",
        "    visited = False\n",
        "    parent = NULL\n",
        "    stack = [s]\n",
        "\n",
        "    Mientras stack no esté vacío hacer\n",
        "      u = extraer_primero(stack)\n",
        "        Si visited[u] es falso hacer\n",
        "          visited[u] = verdadero\n",	
        "          Por cada v en G[u] hacer\n",
        "            Si visited[v] es falso hacer\n",
        "              parent[v] = u\n",
        "              colocar al final de stack v \n",
        "\n",
        "#Posible orden de complejidad\n",
        "La complejidad de un dfs puede expresarse como:\n",
        "\n",
        "\n",
        "$$O\\left(|V| + |E|\\right)$$ \n",
        "\n",
        "Donde: \n",
        "\n",
        "|V| es el número de nodos\n",
        "\n",
        "|E| es el número de aristas\n",
        "\n",
        "\n",
        "**El peor caso consistiría en que la solución a encontrar este en las últimas posiciones en cuanto a la profundidad o en los nodos siguientes que contengan otra profundidad, lo cual provocaría un tiempo de ejecución muy elevado.**\n"
      ]
    }
