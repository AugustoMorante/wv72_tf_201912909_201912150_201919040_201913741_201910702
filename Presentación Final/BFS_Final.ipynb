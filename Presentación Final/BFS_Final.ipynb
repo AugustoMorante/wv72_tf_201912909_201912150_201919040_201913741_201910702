{
  "nbformat": 4,
  "nbformat_minor": 0,
  "metadata": {
    "colab": {
      "name": "BFS_Algoritmo_Final.ipynb",
      "provenance": [],
      "collapsed_sections": []
    },
    "kernelspec": {
      "name": "python3",
      "display_name": "Python 3"
    },
    "language_info": {
      "name": "python"
    }
  },
  "cells": [
    {
      "cell_type": "markdown",
      "metadata": {
        "id": "7evld9BNIRku"
      },
      "source": [
        "# Algoritmo BFS\n",
        "## Crear grafo"
      ]
    },
    {
      "cell_type": "code",
      "metadata": {
        "id": "2pJBh3apiOhy"
      },
      "source": [
        "import graphviz as gv\n",
        "import numpy as np\n",
        "import pandas as pd\n",
        "import heapq as hq\n",
        "import math"
      ],
      "execution_count": 87,
      "outputs": []
    },
    {
      "cell_type": "code",
      "metadata": {
        "id": "YYXKXSvzjHEQ"
      },
      "source": [
        "def readAdjl(fn, haslabels=False, weighted=False, sep=\"|\"):\n",
        "  with open(fn) as f:\n",
        "    labels = None\n",
        "    if haslabels:\n",
        "      labels = f.readline().strip().split()\n",
        "    L = []\n",
        "    for line in f:\n",
        "      if weighted:\n",
        "        L.append([tuple(map(int, p.split(sep))) for p in line.strip().split()])\n",
        "        # line => \"1|3 2|5 4|4\" ==> [(1, 3), (2, 5), (4, 4)]\n",
        "      else: \n",
        "        L.append(list(map(int, line.strip().split()))) # \"1 3 5\" => [1, 3, 5]\n",
        "        # L.append([int(x) for x in line.strip().split()])\n",
        "  return L, labels\n",
        "\n",
        "def adjlShow(L, labels=None, directed=False, weighted=False, path=[],\n",
        "             layout=\"sfdp\"):\n",
        "  g = gv.Digraph(\"G\") if directed else gv.Graph(\"G\")\n",
        "  g.graph_attr[\"layout\"] = layout\n",
        "  g.edge_attr[\"color\"] = \"gray\"\n",
        "  g.node_attr[\"color\"] = \"orangered\"\n",
        "  g.node_attr[\"width\"] = \"0.1\"\n",
        "  g.node_attr[\"height\"] = \"0.1\"\n",
        "  g.node_attr[\"fontsize\"] = \"8\"\n",
        "  g.node_attr[\"fontcolor\"] = \"mediumslateblue\"\n",
        "  g.node_attr[\"fontname\"] = \"monospace\"\n",
        "  g.edge_attr[\"fontsize\"] = \"8\"\n",
        "  g.edge_attr[\"fontname\"] = \"monospace\"\n",
        "  n = len(L)\n",
        "  for u in range(n):\n",
        "    g.node(str(u), labels[u] if labels else str(u))\n",
        "  added = set()\n",
        "  for v, u in enumerate(path):\n",
        "    if u != None:\n",
        "      if weighted:\n",
        "        for vi, w in G[u]:\n",
        "          if vi == v:\n",
        "            break\n",
        "        g.edge(str(u), str(v), str(w), dir=\"forward\", penwidth=\"2\", color=\"orange\")\n",
        "      else:\n",
        "        g.edge(str(u), str(v), dir=\"forward\", penwidth=\"2\", color=\"orange\")\n",
        "      added.add(f\"{u},{v}\")\n",
        "      added.add(f\"{v},{u}\")\n",
        "  if weighted:\n",
        "    for u in range(n):\n",
        "      for v, w in L[u]:\n",
        "        if not directed and not f\"{u},{v}\" in added:\n",
        "          added.add(f\"{u},{v}\")\n",
        "          added.add(f\"{v},{u}\")\n",
        "          g.edge(str(u), str(v), str(w))\n",
        "        elif directed:\n",
        "          g.edge(str(u), str(v), str(w))\n",
        "  else:\n",
        "    for u in range(n):\n",
        "      for v in L[u]:\n",
        "        if not directed and not f\"{u},{v}\" in added:\n",
        "          added.add(f\"{u},{v}\")\n",
        "          added.add(f\"{v},{u}\")\n",
        "          g.edge(str(u), str(v))\n",
        "        elif directed:\n",
        "          g.edge(str(u), str(v))\n",
        "  return g"
      ],
      "execution_count": 88,
      "outputs": []
    },
    {
      "cell_type": "code",
      "metadata": {
        "id": "LhuHrxM1jKq_"
      },
      "source": [
        "def conversor(x, y, n): ##Ingresar coordenada X, Y y el numero de nodos en cada lado (ejemplo el nodo que nos piden es de 1000x1000 es decir ingresa 1000 como 'n')\n",
        "  r = x*n + y\n",
        "  return r"
      ],
      "execution_count": 3,
      "outputs": []
    },
    {
      "cell_type": "code",
      "metadata": {
        "id": "DFc6o8zDjNmf"
      },
      "source": [
        "GR, _ = readAdjl(\"Archivos/grafo-complejidad.txt\", weighted=True) ##Cuando quiera leer de otro archivo .txt cambia el nombre de \"1.txt\" x el de tu archivo\n",
        "##for i, edges in enumerate(G):\n",
        "  ##print(f\"{i:2}: {edges}\")\n",
        "##adjlShow(G, weighted=True)"
      ],
      "execution_count": 57,
      "outputs": []
    },
    {
      "cell_type": "code",
      "metadata": {
        "id": "jgux3rEzjbYo"
      },
      "source": [
        "import csv"
      ],
      "execution_count": 58,
      "outputs": []
    },
    {
      "cell_type": "code",
      "metadata": {
        "id": "r7wGft84jdQP"
      },
      "source": [
        "almacenes = [] ##Arreglo de almacenes [Nombre del almacen, Nodo en el q se encuentra]\n",
        "with open(\"Archivos/almacenes.csv\", newline=\"\") as csvfile:\n",
        "    reader = csv.reader(csvfile, delimiter=\",\")\n",
        "    for row in reader:\n",
        "      if row[0] != 'Almacenes':\n",
        "        row[1] = conversor(int(row[1]),int(row[2]), 1000) \n",
        "        row.pop(2)\n",
        "        almacenes.append(row)  \n",
        "    print(almacenes)"
      ],
      "execution_count": null,
      "outputs": []
    },
    {
      "cell_type": "code",
      "metadata": {
        "id": "6OuDFhSajfkA"
      },
      "source": [
        "puntosEntrega = [] ##Arreglo de puntos de entrega [Nombre del punto, Nodo en el q se encuentra]\n",
        "with open(\"Archivos/puntos_entrega.csv\", newline=\"\") as csvfile:\n",
        "    reader = csv.reader(csvfile, delimiter=\",\")\n",
        "    for row in reader:\n",
        "      if row[0] != 'Puntos de Entrega':\n",
        "        row[1] = conversor(int(row[1]),int(row[2]), 1000) \n",
        "        row.pop(2)\n",
        "        puntosEntrega.append(row)  \n",
        "    print(puntosEntrega)"
      ],
      "execution_count": null,
      "outputs": []
    },
    {
      "cell_type": "markdown",
      "metadata": {
        "id": "hP7CVy5hjsGv"
      },
      "source": [
        "#BFS"
      ]
    },
    {
      "cell_type": "code",
      "metadata": {
        "id": "Y59ycvZHeJcE"
      },
      "source": [
        "def bfs(G, s):\n",
        "  n = len(G)\n",
        "  visited = [False]*n\n",
        "  parent = [None]*n\n",
        "  queue = [s]\n",
        "  visited[s] = True\n",
        "\n",
        "  while queue:\n",
        "    u = queue.pop(0)\n",
        "    for v in G[u]:\n",
        "      if not visited[v]:\n",
        "        visited[v] = True\n",
        "        parent[v] = u\n",
        "        queue.append(v)\n",
        "\n",
        "  return parent"
      ],
      "execution_count": 115,
      "outputs": []
    },
    {
      "cell_type": "markdown",
      "metadata": {
        "id": "c70u_kK4jvBB"
      },
      "source": [
        "Algoritmo BFS punto a punto"
      ]
    },
    {
      "cell_type": "code",
      "metadata": {
        "id": "DVBFM-QwBIXd"
      },
      "source": [
        "def bfsPointToPoint(G, s, t):\n",
        "  n = len(G)\n",
        "  visited = [False]*n\n",
        "  parent = [None]*n\n",
        "  queue = [s]\n",
        "  visited[s] = True\n",
        "\n",
        "  while queue and visited[t] == False:\n",
        "    u = queue.pop(0)\n",
        "    for v in G[u]:\n",
        "      if not visited[v]:\n",
        "        visited[v] = True\n",
        "        parent[v] = u\n",
        "        queue.append(v)\n",
        "\n",
        "  return parent, parent[t]"
      ],
      "execution_count": 116,
      "outputs": []
    },
    {
      "cell_type": "code",
      "metadata": {
        "id": "uHR3IupAprvw"
      },
      "source": [
        "def showInfoBFS(G, source, target):\n",
        "  path,_ = bfsPointToPoint(G, source, target)\n",
        "  t = target\n",
        "  targetPath = []\n",
        "  targetPath.append(target)\n",
        "  targetPath.append(path[t])\n",
        "  while path[t] != source:\n",
        "    t = path[t]\n",
        "    targetPath.append(path[t])\n",
        "\n",
        "  truePath = path\n",
        "  for i in range(len(truePath)):\n",
        "    if i not in targetPath and i != target:\n",
        "      truePath[i] = None \n",
        "\n",
        "  return targetPath, truePath, len(targetPath)-1"
      ],
      "execution_count": 118,
      "outputs": []
    },
    {
      "cell_type": "markdown",
      "metadata": {
        "id": "a3gUtXOeKcE8"
      },
      "source": [
        "#Prueba con grafo de 100 nodos"
      ]
    },
    {
      "cell_type": "code",
      "metadata": {
        "id": "9xUac_DBkVtI"
      },
      "source": [
        "def crearGrafoVersion1(n):\n",
        "  t = [[] for i in range(n**2)]\n",
        "  for i in range(n**2):\n",
        "    if i == 0:\n",
        "      t[i].append([i,i+1])\n",
        "      t[i].append([i,i+n])\n",
        "    elif i in range(1,n-1):\n",
        "      t[i].append([i,i-1])\n",
        "      t[i].append([i,i+1])\n",
        "      t[i].append([i,i+n])\n",
        "    elif i == n-1:\n",
        "      t[i].append([i,i-1])\n",
        "      t[i].append([i,i+n])\n",
        "    elif i%n == 0 and i != 0 and i != n*(n-1):\n",
        "      t[i].append([i,i+1])\n",
        "      t[i].append([i,i+n])\n",
        "      t[i].append([i,i-n])\n",
        "    elif (i+1)%n == 0 and i != n-1 and i != (n**2)-1:\n",
        "      t[i].append([i,i-1])\n",
        "      t[i].append([i,i+n])\n",
        "      t[i].append([i,i-n])\n",
        "    elif i == n*(n-1):\n",
        "      t[i].append([i,i+1])\n",
        "      t[i].append([i,i-n])\n",
        "    elif i in range(n*(n-1)+1,(n**2)-1):\n",
        "      t[i].append([i,i-1])\n",
        "      t[i].append([i,i+1])\n",
        "      t[i].append([i,i-n])\n",
        "    elif i == (n**2)-1:\n",
        "      t[i].append([i,i-1])\n",
        "      t[i].append([i,i-n])\n",
        "    else:\n",
        "      t[i].append([i,i-1])\n",
        "      t[i].append([i,i+1])\n",
        "      t[i].append([i,i+n])\n",
        "      t[i].append([i,i-n])\n",
        "\n",
        "  return t"
      ],
      "execution_count": 119,
      "outputs": []
    },
    {
      "cell_type": "code",
      "metadata": {
        "id": "ZVz4mc2Lkckf"
      },
      "source": [
        "t = crearGrafoVersion1(10)"
      ],
      "execution_count": 120,
      "outputs": []
    },
    {
      "cell_type": "code",
      "metadata": {
        "id": "YImIMmddluoP"
      },
      "source": [
        "fichero = open(\"1.txt\", 'w')\n",
        "for i in range(len(t)):\n",
        "    for j in range(len(t[i])):\n",
        "      fichero.write(str(t[i][j][1]) + '|1' + \" \")\n",
        "    fichero.write('\\n')\n",
        "fichero.close()"
      ],
      "execution_count": 121,
      "outputs": []
    },
    {
      "cell_type": "code",
      "metadata": {
        "id": "53YA2hoHlxpg"
      },
      "source": [
        "G, _ = readAdjl(\"1.txt\", weighted=True) ##Cuando quiera leer de otro archivo .txt cambia el nombre de \"1.txt\" x el de tu archivo\n",
        "for i, edges in enumerate(G):\n",
        "  print(f\"{i:2}: {edges}\")\n",
        "adjlShow(G, weighted=True)"
      ],
      "execution_count": null,
      "outputs": []
    },
    {
      "cell_type": "code",
      "metadata": {
        "id": "wjughLb-pXh5"
      },
      "source": [
        "def quitarPeso(G):\n",
        "  L = []\n",
        "  PL = []\n",
        "  for i, edges in enumerate(G):\n",
        "    for j in edges:\n",
        "      PL.append(j[0])\n",
        "    L.append(PL)\n",
        "    PL = []\n",
        "  return L"
      ],
      "execution_count": 123,
      "outputs": []
    },
    {
      "cell_type": "code",
      "metadata": {
        "id": "uNiQlih-pluX"
      },
      "source": [
        "GC = quitarPeso(G)"
      ],
      "execution_count": 124,
      "outputs": []
    },
    {
      "cell_type": "code",
      "metadata": {
        "colab": {
          "base_uri": "https://localhost:8080/"
        },
        "id": "i2XhWnpvo3wA",
        "outputId": "1e9bd7a0-69c7-435c-dc57-8cee6fc40a82"
      },
      "source": [
        "bfsPath = bfs(GC,0)\n",
        "print(bfsPath)"
      ],
      "execution_count": 125,
      "outputs": [
        {
          "output_type": "stream",
          "name": "stdout",
          "text": [
            "[None, 0, 1, 2, 3, 4, 5, 6, 7, 8, 0, 1, 2, 3, 4, 5, 6, 7, 8, 9, 10, 11, 12, 13, 14, 15, 16, 17, 18, 19, 20, 21, 22, 23, 24, 25, 26, 27, 28, 29, 30, 31, 32, 33, 34, 35, 36, 37, 38, 39, 40, 41, 42, 43, 44, 45, 46, 47, 48, 49, 50, 51, 52, 53, 54, 55, 56, 57, 58, 59, 60, 61, 62, 63, 64, 65, 66, 67, 68, 69, 70, 71, 72, 73, 74, 75, 76, 77, 78, 79, 80, 81, 82, 83, 84, 85, 86, 87, 88, 89]\n"
          ]
        }
      ]
    },
    {
      "cell_type": "code",
      "metadata": {
        "colab": {
          "base_uri": "https://localhost:8080/",
          "height": 629
        },
        "id": "Vcv5f524p8oh",
        "outputId": "730dbd9d-ea69-43db-ba2e-c8b753487018"
      },
      "source": [
        "adjlShow(GC, path=bfsPath)"
      ],
      "execution_count": 126,
      "outputs": [
        {
          "output_type": "execute_result",
          "data": {
            "text/plain": [
              "<graphviz.dot.Graph at 0x7f3e101656d0>"
            ],
            "image/svg+xml": "<?xml version=\"1.0\" encoding=\"UTF-8\" standalone=\"no\"?>\n<!DOCTYPE svg PUBLIC \"-//W3C//DTD SVG 1.1//EN\"\n \"http://www.w3.org/Graphics/SVG/1.1/DTD/svg11.dtd\">\n<!-- Generated by graphviz version 2.40.1 (20161225.0304)\n -->\n<!-- Title: G Pages: 1 -->\n<svg width=\"519pt\" height=\"456pt\"\n viewBox=\"0.00 0.00 518.63 456.20\" xmlns=\"http://www.w3.org/2000/svg\" xmlns:xlink=\"http://www.w3.org/1999/xlink\">\n<g id=\"graph0\" class=\"graph\" transform=\"scale(1 1) rotate(0) translate(4 452.1955)\">\n<title>G</title>\n<polygon fill=\"#ffffff\" stroke=\"transparent\" points=\"-4,4 -4,-452.1955 514.6321,-452.1955 514.6321,4 -4,4\"/>\n<!-- 0 -->\n<g id=\"node1\" class=\"node\">\n<title>0</title>\n<ellipse fill=\"none\" stroke=\"#ff4500\" cx=\"16.1765\" cy=\"-329.7866\" rx=\"15.6129\" ry=\"12.0417\"/>\n<text text-anchor=\"middle\" x=\"16.1765\" y=\"-327.8866\" font-family=\"monospace\" font-size=\"8.00\" fill=\"#7b68ee\">0</text>\n</g>\n<!-- 1 -->\n<g id=\"node2\" class=\"node\">\n<title>1</title>\n<ellipse fill=\"none\" stroke=\"#ff4500\" cx=\"15.5563\" cy=\"-304.7717\" rx=\"15.6129\" ry=\"12.0417\"/>\n<text text-anchor=\"middle\" x=\"15.5563\" y=\"-302.8717\" font-family=\"monospace\" font-size=\"8.00\" fill=\"#7b68ee\">1</text>\n</g>\n<!-- 0&#45;&#45;1 -->\n<g id=\"edge1\" class=\"edge\">\n<title>0&#45;&#45;1</title>\n<path fill=\"none\" stroke=\"#ffa500\" stroke-width=\"2\" d=\"M15.8737,-317.5723C15.8712,-317.4731 15.8688,-317.3738 15.8663,-317.2746\"/>\n<polygon fill=\"#ffa500\" stroke=\"#ffa500\" stroke-width=\"2\" points=\"19.609,-326.8859 15.8589,-316.9769 12.6111,-327.0617 19.609,-326.8859\"/>\n</g>\n<!-- 10 -->\n<g id=\"node11\" class=\"node\">\n<title>10</title>\n<ellipse fill=\"none\" stroke=\"#ff4500\" cx=\"45.4892\" cy=\"-340.8633\" rx=\"19.1842\" ry=\"12.0417\"/>\n<text text-anchor=\"middle\" x=\"45.4892\" y=\"-338.9633\" font-family=\"monospace\" font-size=\"8.00\" fill=\"#7b68ee\">10</text>\n</g>\n<!-- 0&#45;&#45;10 -->\n<g id=\"edge10\" class=\"edge\">\n<title>0&#45;&#45;10</title>\n<path fill=\"none\" stroke=\"#ffa500\" stroke-width=\"2\" d=\"M30.4894,-335.1952C30.5475,-335.2172 30.6057,-335.2391 30.6638,-335.2611\"/>\n<polygon fill=\"#ffa500\" stroke=\"#ffa500\" stroke-width=\"2\" points=\"20.2451,-335.0629 30.8382,-335.327 22.7219,-328.5145 20.2451,-335.0629\"/>\n</g>\n<!-- 2 -->\n<g id=\"node3\" class=\"node\">\n<title>2</title>\n<ellipse fill=\"none\" stroke=\"#ff4500\" cx=\"21.4213\" cy=\"-269.0152\" rx=\"15.6129\" ry=\"12.0417\"/>\n<text text-anchor=\"middle\" x=\"21.4213\" y=\"-267.1152\" font-family=\"monospace\" font-size=\"8.00\" fill=\"#7b68ee\">2</text>\n</g>\n<!-- 1&#45;&#45;2 -->\n<g id=\"edge2\" class=\"edge\">\n<title>1&#45;&#45;2</title>\n<path fill=\"none\" stroke=\"#ffa500\" stroke-width=\"2\" d=\"M17.5419,-292.6662C17.6184,-292.2002 17.6958,-291.7284 17.7739,-291.2521\"/>\n<polygon fill=\"#ffa500\" stroke=\"#ffa500\" stroke-width=\"2\" points=\"21.2729,-291.543 19.4377,-281.1083 14.3652,-290.4099 21.2729,-291.543\"/>\n</g>\n<!-- 11 -->\n<g id=\"node12\" class=\"node\">\n<title>11</title>\n<ellipse fill=\"none\" stroke=\"#ff4500\" cx=\"46.4462\" cy=\"-315.537\" rx=\"19.1842\" ry=\"12.0417\"/>\n<text text-anchor=\"middle\" x=\"46.4462\" y=\"-313.637\" font-family=\"monospace\" font-size=\"8.00\" fill=\"#7b68ee\">11</text>\n</g>\n<!-- 1&#45;&#45;11 -->\n<g id=\"edge11\" class=\"edge\">\n<title>1&#45;&#45;11</title>\n<path fill=\"none\" stroke=\"#ffa500\" stroke-width=\"2\" d=\"M29.9161,-309.7762C29.9791,-309.7981 30.0422,-309.8201 30.1052,-309.8421\"/>\n<polygon fill=\"#ffa500\" stroke=\"#ffa500\" stroke-width=\"2\" points=\"19.6982,-309.9189 30.2945,-309.908 22.0042,-303.3086 19.6982,-309.9189\"/>\n</g>\n<!-- 3 -->\n<g id=\"node4\" class=\"node\">\n<title>3</title>\n<ellipse fill=\"none\" stroke=\"#ff4500\" cx=\"30.465\" cy=\"-227.727\" rx=\"15.6129\" ry=\"12.0417\"/>\n<text text-anchor=\"middle\" x=\"30.465\" y=\"-225.827\" font-family=\"monospace\" font-size=\"8.00\" fill=\"#7b68ee\">3</text>\n</g>\n<!-- 2&#45;&#45;3 -->\n<g id=\"edge3\" class=\"edge\">\n<title>2&#45;&#45;3</title>\n<path fill=\"none\" stroke=\"#ffa500\" stroke-width=\"2\" d=\"M24.0858,-256.8507C24.5869,-254.5627 25.125,-252.1065 25.6683,-249.626\"/>\n<polygon fill=\"#ffa500\" stroke=\"#ffa500\" stroke-width=\"2\" points=\"29.1299,-250.1797 27.8507,-239.6623 22.292,-248.6818 29.1299,-250.1797\"/>\n</g>\n<!-- 12 -->\n<g id=\"node13\" class=\"node\">\n<title>12</title>\n<ellipse fill=\"none\" stroke=\"#ff4500\" cx=\"52.8919\" cy=\"-279.065\" rx=\"19.1842\" ry=\"12.0417\"/>\n<text text-anchor=\"middle\" x=\"52.8919\" y=\"-277.165\" font-family=\"monospace\" font-size=\"8.00\" fill=\"#7b68ee\">12</text>\n</g>\n<!-- 2&#45;&#45;12 -->\n<g id=\"edge12\" class=\"edge\">\n<title>2&#45;&#45;12</title>\n<path fill=\"none\" stroke=\"#ffa500\" stroke-width=\"2\" d=\"M36.051,-273.6871C36.1152,-273.7076 36.1794,-273.7281 36.2437,-273.7486\"/>\n<polygon fill=\"#ffa500\" stroke=\"#ffa500\" stroke-width=\"2\" points=\"25.8443,-274.0989 36.4365,-273.8102 27.9761,-267.4305 25.8443,-274.0989\"/>\n</g>\n<!-- 4 -->\n<g id=\"node5\" class=\"node\">\n<title>4</title>\n<ellipse fill=\"none\" stroke=\"#ff4500\" cx=\"41.76\" cy=\"-183.6806\" rx=\"15.6129\" ry=\"12.0417\"/>\n<text text-anchor=\"middle\" x=\"41.76\" y=\"-181.7806\" font-family=\"monospace\" font-size=\"8.00\" fill=\"#7b68ee\">4</text>\n</g>\n<!-- 3&#45;&#45;4 -->\n<g id=\"edge4\" class=\"edge\">\n<title>3&#45;&#45;4</title>\n<path fill=\"none\" stroke=\"#ffa500\" stroke-width=\"2\" d=\"M33.5514,-215.6911C34.3483,-212.5836 35.2315,-209.1396 36.1146,-205.6957\"/>\n<polygon fill=\"#ffa500\" stroke=\"#ffa500\" stroke-width=\"2\" points=\"39.5836,-206.2579 38.6773,-195.7019 32.803,-204.5191 39.5836,-206.2579\"/>\n</g>\n<!-- 13 -->\n<g id=\"node14\" class=\"node\">\n<title>13</title>\n<ellipse fill=\"none\" stroke=\"#ff4500\" cx=\"62.7545\" cy=\"-236.8884\" rx=\"19.1842\" ry=\"12.0417\"/>\n<text text-anchor=\"middle\" x=\"62.7545\" y=\"-234.9884\" font-family=\"monospace\" font-size=\"8.00\" fill=\"#7b68ee\">13</text>\n</g>\n<!-- 3&#45;&#45;13 -->\n<g id=\"edge13\" class=\"edge\">\n<title>3&#45;&#45;13</title>\n<path fill=\"none\" stroke=\"#ffa500\" stroke-width=\"2\" d=\"M45.0981,-231.8788C45.1649,-231.8977 45.2317,-231.9167 45.2985,-231.9356\"/>\n<polygon fill=\"#ffa500\" stroke=\"#ffa500\" stroke-width=\"2\" points=\"34.922,-232.6267 45.499,-231.9925 36.8351,-225.8924 34.922,-232.6267\"/>\n</g>\n<!-- 5 -->\n<g id=\"node6\" class=\"node\">\n<title>5</title>\n<ellipse fill=\"none\" stroke=\"#ff4500\" cx=\"54.8995\" cy=\"-139.5427\" rx=\"15.6129\" ry=\"12.0417\"/>\n<text text-anchor=\"middle\" x=\"54.8995\" y=\"-137.6427\" font-family=\"monospace\" font-size=\"8.00\" fill=\"#7b68ee\">5</text>\n</g>\n<!-- 4&#45;&#45;5 -->\n<g id=\"edge5\" class=\"edge\">\n<title>4&#45;&#45;5</title>\n<path fill=\"none\" stroke=\"#ffa500\" stroke-width=\"2\" d=\"M45.3504,-171.6198C46.3221,-168.3558 47.404,-164.7214 48.4805,-161.1051\"/>\n<polygon fill=\"#ffa500\" stroke=\"#ffa500\" stroke-width=\"2\" points=\"51.9055,-161.8669 51.4042,-151.2839 45.1965,-159.8696 51.9055,-161.8669\"/>\n</g>\n<!-- 14 -->\n<g id=\"node15\" class=\"node\">\n<title>14</title>\n<ellipse fill=\"none\" stroke=\"#ff4500\" cx=\"74.7917\" cy=\"-192.0627\" rx=\"19.1842\" ry=\"12.0417\"/>\n<text text-anchor=\"middle\" x=\"74.7917\" y=\"-190.1627\" font-family=\"monospace\" font-size=\"8.00\" fill=\"#7b68ee\">14</text>\n</g>\n<!-- 4&#45;&#45;14 -->\n<g id=\"edge14\" class=\"edge\">\n<title>4&#45;&#45;14</title>\n<path fill=\"none\" stroke=\"#ffa500\" stroke-width=\"2\" d=\"M56.7295,-187.4793C56.7978,-187.4966 56.8661,-187.5139 56.9344,-187.5313\"/>\n<polygon fill=\"#ffa500\" stroke=\"#ffa500\" stroke-width=\"2\" points=\"46.5845,-188.5127 57.1396,-187.5833 48.3087,-181.7276 46.5845,-188.5127\"/>\n</g>\n<!-- 6 -->\n<g id=\"node7\" class=\"node\">\n<title>6</title>\n<ellipse fill=\"none\" stroke=\"#ff4500\" cx=\"68.8203\" cy=\"-97.2415\" rx=\"15.6129\" ry=\"12.0417\"/>\n<text text-anchor=\"middle\" x=\"68.8203\" y=\"-95.3415\" font-family=\"monospace\" font-size=\"8.00\" fill=\"#7b68ee\">6</text>\n</g>\n<!-- 5&#45;&#45;6 -->\n<g id=\"edge6\" class=\"edge\">\n<title>5&#45;&#45;6</title>\n<path fill=\"none\" stroke=\"#ffa500\" stroke-width=\"2\" d=\"M58.8514,-127.534C59.7406,-124.8319 60.711,-121.8833 61.6859,-118.9208\"/>\n<polygon fill=\"#ffa500\" stroke=\"#ffa500\" stroke-width=\"2\" points=\"65.1053,-119.7268 64.9067,-109.1338 58.4561,-117.5386 65.1053,-119.7268\"/>\n</g>\n<!-- 15 -->\n<g id=\"node16\" class=\"node\">\n<title>15</title>\n<ellipse fill=\"none\" stroke=\"#ff4500\" cx=\"88.0567\" cy=\"-146.9853\" rx=\"19.1842\" ry=\"12.0417\"/>\n<text text-anchor=\"middle\" x=\"88.0567\" y=\"-145.0853\" font-family=\"monospace\" font-size=\"8.00\" fill=\"#7b68ee\">15</text>\n</g>\n<!-- 5&#45;&#45;15 -->\n<g id=\"edge15\" class=\"edge\">\n<title>5&#45;&#45;15</title>\n<path fill=\"none\" stroke=\"#ffa500\" stroke-width=\"2\" d=\"M69.9259,-142.9156C69.9944,-142.931 70.063,-142.9464 70.1316,-142.9618\"/>\n<polygon fill=\"#ffa500\" stroke=\"#ffa500\" stroke-width=\"2\" points=\"59.8123,-144.2292 70.3375,-143.008 61.348,-137.3991 59.8123,-144.2292\"/>\n</g>\n<!-- 7 -->\n<g id=\"node8\" class=\"node\">\n<title>7</title>\n<ellipse fill=\"none\" stroke=\"#ff4500\" cx=\"82.3065\" cy=\"-58.8888\" rx=\"15.6129\" ry=\"12.0417\"/>\n<text text-anchor=\"middle\" x=\"82.3065\" y=\"-56.9888\" font-family=\"monospace\" font-size=\"8.00\" fill=\"#7b68ee\">7</text>\n</g>\n<!-- 6&#45;&#45;7 -->\n<g id=\"edge7\" class=\"edge\">\n<title>6&#45;&#45;7</title>\n<path fill=\"none\" stroke=\"#ffa500\" stroke-width=\"2\" d=\"M72.9399,-85.526C73.515,-83.8904 74.1204,-82.1689 74.735,-80.421\"/>\n<polygon fill=\"#ffa500\" stroke=\"#ffa500\" stroke-width=\"2\" points=\"78.1966,-81.1273 78.2121,-70.5325 71.593,-78.8052 78.1966,-81.1273\"/>\n</g>\n<!-- 16 -->\n<g id=\"node17\" class=\"node\">\n<title>16</title>\n<ellipse fill=\"none\" stroke=\"#ff4500\" cx=\"102.4231\" cy=\"-103.7032\" rx=\"19.1842\" ry=\"12.0417\"/>\n<text text-anchor=\"middle\" x=\"102.4231\" y=\"-101.8032\" font-family=\"monospace\" font-size=\"8.00\" fill=\"#7b68ee\">16</text>\n</g>\n<!-- 6&#45;&#45;16 -->\n<g id=\"edge16\" class=\"edge\">\n<title>6&#45;&#45;16</title>\n<path fill=\"none\" stroke=\"#ffa500\" stroke-width=\"2\" d=\"M84.0486,-100.1699C84.1181,-100.1832 84.1876,-100.1966 84.2571,-100.2099\"/>\n<polygon fill=\"#ffa500\" stroke=\"#ffa500\" stroke-width=\"2\" points=\"73.9833,-101.7949 84.4658,-100.2501 75.3079,-94.9208 73.9833,-101.7949\"/>\n</g>\n<!-- 8 -->\n<g id=\"node9\" class=\"node\">\n<title>8</title>\n<ellipse fill=\"none\" stroke=\"#ff4500\" cx=\"94.6424\" cy=\"-28.1821\" rx=\"15.6129\" ry=\"12.0417\"/>\n<text text-anchor=\"middle\" x=\"94.6424\" y=\"-26.2821\" font-family=\"monospace\" font-size=\"8.00\" fill=\"#7b68ee\">8</text>\n</g>\n<!-- 7&#45;&#45;8 -->\n<g id=\"edge8\" class=\"edge\">\n<title>7&#45;&#45;8</title>\n<path fill=\"none\" stroke=\"#ffa500\" stroke-width=\"2\" d=\"M87.0406,-47.1046C87.1017,-46.9524 87.1631,-46.7997 87.2246,-46.6465\"/>\n<polygon fill=\"#ffa500\" stroke=\"#ffa500\" stroke-width=\"2\" points=\"89.5425,-50.2656 90.0226,-39.6816 83.0471,-47.6561 89.5425,-50.2656\"/>\n</g>\n<!-- 17 -->\n<g id=\"node18\" class=\"node\">\n<title>17</title>\n<ellipse fill=\"none\" stroke=\"#ff4500\" cx=\"116.1874\" cy=\"-63.9329\" rx=\"19.1842\" ry=\"12.0417\"/>\n<text text-anchor=\"middle\" x=\"116.1874\" y=\"-62.0329\" font-family=\"monospace\" font-size=\"8.00\" fill=\"#7b68ee\">17</text>\n</g>\n<!-- 7&#45;&#45;17 -->\n<g id=\"edge17\" class=\"edge\">\n<title>7&#45;&#45;17</title>\n<path fill=\"none\" stroke=\"#ffa500\" stroke-width=\"2\" d=\"M97.6608,-61.1747C97.7309,-61.1851 97.8009,-61.1956 97.871,-61.206\"/>\n<polygon fill=\"#ffa500\" stroke=\"#ffa500\" stroke-width=\"2\" points=\"87.6736,-63.2226 98.0814,-61.2373 88.7072,-56.2989 87.6736,-63.2226\"/>\n</g>\n<!-- 9 -->\n<g id=\"node10\" class=\"node\">\n<title>9</title>\n<ellipse fill=\"none\" stroke=\"#ff4500\" cx=\"105.6018\" cy=\"-13.292\" rx=\"15.6129\" ry=\"12.0417\"/>\n<text text-anchor=\"middle\" x=\"105.6018\" y=\"-11.392\" font-family=\"monospace\" font-size=\"8.00\" fill=\"#7b68ee\">9</text>\n</g>\n<!-- 8&#45;&#45;9 -->\n<g id=\"edge9\" class=\"edge\">\n<title>8&#45;&#45;9</title>\n<path fill=\"none\" stroke=\"#ffa500\" stroke-width=\"2\" d=\"M102.3729,-17.679C102.4296,-17.602 102.4859,-17.5255 102.5417,-17.4496\"/>\n<polygon fill=\"#ffa500\" stroke=\"#ffa500\" stroke-width=\"2\" points=\"99.5979,-27.3533 102.708,-17.2236 93.9598,-23.2029 99.5979,-27.3533\"/>\n</g>\n<!-- 18 -->\n<g id=\"node19\" class=\"node\">\n<title>18</title>\n<ellipse fill=\"none\" stroke=\"#ff4500\" cx=\"128.6467\" cy=\"-31.4122\" rx=\"19.1842\" ry=\"12.0417\"/>\n<text text-anchor=\"middle\" x=\"128.6467\" y=\"-29.5122\" font-family=\"monospace\" font-size=\"8.00\" fill=\"#7b68ee\">18</text>\n</g>\n<!-- 8&#45;&#45;18 -->\n<g id=\"edge18\" class=\"edge\">\n<title>8&#45;&#45;18</title>\n<path fill=\"none\" stroke=\"#ffa500\" stroke-width=\"2\" d=\"M110.4499,-29.6837C110.5193,-29.6902 110.5887,-29.6968 110.6581,-29.7034\"/>\n<polygon fill=\"#ffa500\" stroke=\"#ffa500\" stroke-width=\"2\" points=\"100.5788,-32.2576 110.8665,-29.7232 101.2437,-25.2889 100.5788,-32.2576\"/>\n</g>\n<!-- 19 -->\n<g id=\"node20\" class=\"node\">\n<title>19</title>\n<ellipse fill=\"none\" stroke=\"#ff4500\" cx=\"138.7482\" cy=\"-13.9032\" rx=\"19.1842\" ry=\"12.0417\"/>\n<text text-anchor=\"middle\" x=\"138.7482\" y=\"-12.0032\" font-family=\"monospace\" font-size=\"8.00\" fill=\"#7b68ee\">19</text>\n</g>\n<!-- 9&#45;&#45;19 -->\n<g id=\"edge19\" class=\"edge\">\n<title>9&#45;&#45;19</title>\n<path fill=\"none\" stroke=\"#ffa500\" stroke-width=\"2\" d=\"M121.3984,-13.5833C121.4651,-13.5845 121.5318,-13.5857 121.5985,-13.587\"/>\n<polygon fill=\"#ffa500\" stroke=\"#ffa500\" stroke-width=\"2\" points=\"111.7342,-16.9008 121.7988,-13.5907 111.8667,-9.902 111.7342,-16.9008\"/>\n</g>\n<!-- 10&#45;&#45;11 -->\n<g id=\"edge100\" class=\"edge\">\n<title>10&#45;&#45;11</title>\n<path fill=\"none\" stroke=\"#c0c0c0\" d=\"M45.9453,-328.7936C45.9607,-328.3859 45.9761,-327.9774 45.9915,-327.5697\"/>\n</g>\n<!-- 20 -->\n<g id=\"node21\" class=\"node\">\n<title>20</title>\n<ellipse fill=\"none\" stroke=\"#ff4500\" cx=\"81.9701\" cy=\"-357.0553\" rx=\"19.1842\" ry=\"12.0417\"/>\n<text text-anchor=\"middle\" x=\"81.9701\" y=\"-355.1553\" font-family=\"monospace\" font-size=\"8.00\" fill=\"#7b68ee\">20</text>\n</g>\n<!-- 10&#45;&#45;20 -->\n<g id=\"edge20\" class=\"edge\">\n<title>10&#45;&#45;20</title>\n<path fill=\"none\" stroke=\"#ffa500\" stroke-width=\"2\" d=\"M61.1721,-347.8242C61.2784,-347.8713 61.3847,-347.9185 61.4911,-347.9657\"/>\n<polygon fill=\"#ffa500\" stroke=\"#ffa500\" stroke-width=\"2\" points=\"55.7404,-349.2425 66.3005,-350.1003 58.5803,-342.8444 55.7404,-349.2425\"/>\n</g>\n<!-- 11&#45;&#45;12 -->\n<g id=\"edge101\" class=\"edge\">\n<title>11&#45;&#45;12</title>\n<path fill=\"none\" stroke=\"#c0c0c0\" d=\"M48.6284,-303.1892C49.3004,-299.3867 50.0401,-295.2016 50.7119,-291.4\"/>\n</g>\n<!-- 21 -->\n<g id=\"node22\" class=\"node\">\n<title>21</title>\n<ellipse fill=\"none\" stroke=\"#ff4500\" cx=\"85.6571\" cy=\"-330.0766\" rx=\"19.1842\" ry=\"12.0417\"/>\n<text text-anchor=\"middle\" x=\"85.6571\" y=\"-328.1766\" font-family=\"monospace\" font-size=\"8.00\" fill=\"#7b68ee\">21</text>\n</g>\n<!-- 11&#45;&#45;21 -->\n<g id=\"edge21\" class=\"edge\">\n<title>11&#45;&#45;21</title>\n<path fill=\"none\" stroke=\"#ffa500\" stroke-width=\"2\" d=\"M63.3027,-321.7875C63.4169,-321.8298 63.5311,-321.8722 63.6455,-321.9146\"/>\n<polygon fill=\"#ffa500\" stroke=\"#ffa500\" stroke-width=\"2\" points=\"58.2217,-323.6362 68.8148,-323.8314 60.6555,-317.0729 58.2217,-323.6362\"/>\n</g>\n<!-- 12&#45;&#45;13 -->\n<g id=\"edge102\" class=\"edge\">\n<title>12&#45;&#45;13</title>\n<path fill=\"none\" stroke=\"#c0c0c0\" d=\"M55.6917,-267.0917C57.013,-261.4415 58.587,-254.7104 59.9134,-249.0381\"/>\n</g>\n<!-- 22 -->\n<g id=\"node23\" class=\"node\">\n<title>22</title>\n<ellipse fill=\"none\" stroke=\"#ff4500\" cx=\"93.6481\" cy=\"-292.2421\" rx=\"19.1842\" ry=\"12.0417\"/>\n<text text-anchor=\"middle\" x=\"93.6481\" y=\"-290.3421\" font-family=\"monospace\" font-size=\"8.00\" fill=\"#7b68ee\">22</text>\n</g>\n<!-- 12&#45;&#45;22 -->\n<g id=\"edge22\" class=\"edge\">\n<title>12&#45;&#45;22</title>\n<path fill=\"none\" stroke=\"#ffa500\" stroke-width=\"2\" d=\"M69.94,-284.5769C70.0764,-284.621 70.2129,-284.6651 70.3496,-284.7093\"/>\n<polygon fill=\"#ffa500\" stroke=\"#ffa500\" stroke-width=\"2\" points=\"65.9454,-286.9637 76.5372,-286.7099 68.099,-280.3031 65.9454,-286.9637\"/>\n</g>\n<!-- 13&#45;&#45;14 -->\n<g id=\"edge103\" class=\"edge\">\n<title>13&#45;&#45;14</title>\n<path fill=\"none\" stroke=\"#c0c0c0\" d=\"M66.0437,-224.6396C67.77,-218.2109 69.8764,-210.3669 71.5896,-203.9869\"/>\n</g>\n<!-- 23 -->\n<g id=\"node24\" class=\"node\">\n<title>23</title>\n<ellipse fill=\"none\" stroke=\"#ff4500\" cx=\"104.4755\" cy=\"-249.0974\" rx=\"19.1842\" ry=\"12.0417\"/>\n<text text-anchor=\"middle\" x=\"104.4755\" y=\"-247.1974\" font-family=\"monospace\" font-size=\"8.00\" fill=\"#7b68ee\">23</text>\n</g>\n<!-- 13&#45;&#45;23 -->\n<g id=\"edge23\" class=\"edge\">\n<title>13&#45;&#45;23</title>\n<path fill=\"none\" stroke=\"#ffa500\" stroke-width=\"2\" d=\"M80.2062,-241.9954C80.3458,-242.0362 80.4855,-242.0771 80.6255,-242.1181\"/>\n<polygon fill=\"#ffa500\" stroke=\"#ffa500\" stroke-width=\"2\" points=\"76.3791,-244.5221 86.9596,-243.9717 78.3451,-237.8039 76.3791,-244.5221\"/>\n</g>\n<!-- 14&#45;&#45;15 -->\n<g id=\"edge104\" class=\"edge\">\n<title>14&#45;&#45;15</title>\n<path fill=\"none\" stroke=\"#c0c0c0\" d=\"M78.2769,-180.2191C80.2113,-173.6456 82.6107,-165.4921 84.5487,-158.9062\"/>\n</g>\n<!-- 24 -->\n<g id=\"node25\" class=\"node\">\n<title>24</title>\n<ellipse fill=\"none\" stroke=\"#ff4500\" cx=\"117.4821\" cy=\"-203.2863\" rx=\"19.1842\" ry=\"12.0417\"/>\n<text text-anchor=\"middle\" x=\"117.4821\" y=\"-201.3863\" font-family=\"monospace\" font-size=\"8.00\" fill=\"#7b68ee\">24</text>\n</g>\n<!-- 14&#45;&#45;24 -->\n<g id=\"edge24\" class=\"edge\">\n<title>14&#45;&#45;24</title>\n<path fill=\"none\" stroke=\"#ffa500\" stroke-width=\"2\" d=\"M92.6489,-196.7575C92.7974,-196.7965 92.9462,-196.8356 93.0951,-196.8748\"/>\n<polygon fill=\"#ffa500\" stroke=\"#ffa500\" stroke-width=\"2\" points=\"89.2719,-199.4885 99.8332,-198.6463 91.0519,-192.7186 89.2719,-199.4885\"/>\n</g>\n<!-- 15&#45;&#45;16 -->\n<g id=\"edge105\" class=\"edge\">\n<title>15&#45;&#45;16</title>\n<path fill=\"none\" stroke=\"#c0c0c0\" d=\"M91.9824,-135.1583C94.0095,-129.0511 96.4757,-121.621 98.5021,-115.5159\"/>\n</g>\n<!-- 25 -->\n<g id=\"node26\" class=\"node\">\n<title>25</title>\n<ellipse fill=\"none\" stroke=\"#ff4500\" cx=\"131.4459\" cy=\"-157.2635\" rx=\"19.1842\" ry=\"12.0417\"/>\n<text text-anchor=\"middle\" x=\"131.4459\" y=\"-155.3635\" font-family=\"monospace\" font-size=\"8.00\" fill=\"#7b68ee\">25</text>\n</g>\n<!-- 15&#45;&#45;25 -->\n<g id=\"edge25\" class=\"edge\">\n<title>15&#45;&#45;25</title>\n<path fill=\"none\" stroke=\"#ffa500\" stroke-width=\"2\" d=\"M105.9552,-151.2252C106.107,-151.2611 106.259,-151.2971 106.4112,-151.3332\"/>\n<polygon fill=\"#ffa500\" stroke=\"#ffa500\" stroke-width=\"2\" points=\"102.7706,-154.0675 113.3081,-152.967 104.3842,-147.256 102.7706,-154.0675\"/>\n</g>\n<!-- 16&#45;&#45;17 -->\n<g id=\"edge106\" class=\"edge\">\n<title>16&#45;&#45;17</title>\n<path fill=\"none\" stroke=\"#c0c0c0\" d=\"M106.6276,-91.5547C108.3669,-86.5292 110.3765,-80.7227 112.103,-75.7341\"/>\n</g>\n<!-- 26 -->\n<g id=\"node27\" class=\"node\">\n<title>26</title>\n<ellipse fill=\"none\" stroke=\"#ff4500\" cx=\"145.8285\" cy=\"-112.3721\" rx=\"19.1842\" ry=\"12.0417\"/>\n<text text-anchor=\"middle\" x=\"145.8285\" y=\"-110.4721\" font-family=\"monospace\" font-size=\"8.00\" fill=\"#7b68ee\">26</text>\n</g>\n<!-- 16&#45;&#45;26 -->\n<g id=\"edge26\" class=\"edge\">\n<title>16&#45;&#45;26</title>\n<path fill=\"none\" stroke=\"#ffa500\" stroke-width=\"2\" d=\"M120.8309,-107.3796C120.9695,-107.4073 121.1083,-107.435 121.2473,-107.4628\"/>\n<polygon fill=\"#ffa500\" stroke=\"#ffa500\" stroke-width=\"2\" points=\"117.0389,-110.1913 127.5308,-108.7177 118.41,-103.3269 117.0389,-110.1913\"/>\n</g>\n<!-- 17&#45;&#45;18 -->\n<g id=\"edge107\" class=\"edge\">\n<title>17&#45;&#45;18</title>\n<path fill=\"none\" stroke=\"#c0c0c0\" d=\"M120.6854,-52.1922C121.8007,-49.2812 122.9964,-46.1603 124.1133,-43.2449\"/>\n</g>\n<!-- 27 -->\n<g id=\"node28\" class=\"node\">\n<title>27</title>\n<ellipse fill=\"none\" stroke=\"#ff4500\" cx=\"159.562\" cy=\"-70.8726\" rx=\"19.1842\" ry=\"12.0417\"/>\n<text text-anchor=\"middle\" x=\"159.562\" y=\"-68.9726\" font-family=\"monospace\" font-size=\"8.00\" fill=\"#7b68ee\">27</text>\n</g>\n<!-- 17&#45;&#45;27 -->\n<g id=\"edge27\" class=\"edge\">\n<title>17&#45;&#45;27</title>\n<path fill=\"none\" stroke=\"#ffa500\" stroke-width=\"2\" d=\"M134.8338,-66.9162C134.9601,-66.9364 135.0865,-66.9567 135.2131,-66.9769\"/>\n<polygon fill=\"#ffa500\" stroke=\"#ffa500\" stroke-width=\"2\" points=\"130.5038,-69.7678 140.9312,-67.8918 131.6098,-62.8558 130.5038,-69.7678\"/>\n</g>\n<!-- 18&#45;&#45;19 -->\n<g id=\"edge108\" class=\"edge\">\n<title>18&#45;&#45;19</title>\n<path fill=\"none\" stroke=\"#c0c0c0\" d=\"M135.3283,-19.831C135.387,-19.7292 135.4454,-19.628 135.5034,-19.5275\"/>\n</g>\n<!-- 28 -->\n<g id=\"node29\" class=\"node\">\n<title>28</title>\n<ellipse fill=\"none\" stroke=\"#ff4500\" cx=\"171.8315\" cy=\"-35.6178\" rx=\"19.1842\" ry=\"12.0417\"/>\n<text text-anchor=\"middle\" x=\"171.8315\" y=\"-33.7178\" font-family=\"monospace\" font-size=\"8.00\" fill=\"#7b68ee\">28</text>\n</g>\n<!-- 18&#45;&#45;28 -->\n<g id=\"edge28\" class=\"edge\">\n<title>18&#45;&#45;28</title>\n<path fill=\"none\" stroke=\"#ffa500\" stroke-width=\"2\" d=\"M147.7139,-33.2691C147.8212,-33.2795 147.9286,-33.29 148.0361,-33.3004\"/>\n<polygon fill=\"#ffa500\" stroke=\"#ffa500\" stroke-width=\"2\" points=\"142.5939,-36.2868 152.8861,-33.7728 143.2725,-29.3198 142.5939,-36.2868\"/>\n</g>\n<!-- 29 -->\n<g id=\"node30\" class=\"node\">\n<title>29</title>\n<ellipse fill=\"none\" stroke=\"#ff4500\" cx=\"181.0344\" cy=\"-12.0208\" rx=\"19.1842\" ry=\"12.0417\"/>\n<text text-anchor=\"middle\" x=\"181.0344\" y=\"-10.1208\" font-family=\"monospace\" font-size=\"8.00\" fill=\"#7b68ee\">29</text>\n</g>\n<!-- 19&#45;&#45;29 -->\n<g id=\"edge29\" class=\"edge\">\n<title>19&#45;&#45;29</title>\n<path fill=\"none\" stroke=\"#ffa500\" stroke-width=\"2\" d=\"M157.9117,-13.0502C158.0756,-13.0429 158.2397,-13.0356 158.4038,-13.0282\"/>\n<polygon fill=\"#ffa500\" stroke=\"#ffa500\" stroke-width=\"2\" points=\"152.0211,-16.8161 161.8555,-12.8746 151.7096,-9.8231 152.0211,-16.8161\"/>\n</g>\n<!-- 20&#45;&#45;21 -->\n<g id=\"edge109\" class=\"edge\">\n<title>20&#45;&#45;21</title>\n<path fill=\"none\" stroke=\"#c0c0c0\" d=\"M83.641,-344.8289C83.763,-343.9366 83.8859,-343.0369 84.0077,-342.1456\"/>\n</g>\n<!-- 30 -->\n<g id=\"node31\" class=\"node\">\n<title>30</title>\n<ellipse fill=\"none\" stroke=\"#ff4500\" cx=\"124.2852\" cy=\"-373\" rx=\"19.1842\" ry=\"12.0417\"/>\n<text text-anchor=\"middle\" x=\"124.2852\" y=\"-371.1\" font-family=\"monospace\" font-size=\"8.00\" fill=\"#7b68ee\">30</text>\n</g>\n<!-- 20&#45;&#45;30 -->\n<g id=\"edge30\" class=\"edge\">\n<title>20&#45;&#45;30</title>\n<path fill=\"none\" stroke=\"#ffa500\" stroke-width=\"2\" d=\"M98.6942,-363.3571C98.7866,-363.3919 98.8791,-363.4268 98.9717,-363.4617\"/>\n<polygon fill=\"#ffa500\" stroke=\"#ffa500\" stroke-width=\"2\" points=\"97.0908,-366.4931 107.6826,-366.744 99.5591,-359.9427 97.0908,-366.4931\"/>\n</g>\n<!-- 21&#45;&#45;22 -->\n<g id=\"edge110\" class=\"edge\">\n<title>21&#45;&#45;22</title>\n<path fill=\"none\" stroke=\"#c0c0c0\" d=\"M88.1855,-318.1055C89.1183,-313.6891 90.1749,-308.6861 91.1087,-304.2651\"/>\n</g>\n<!-- 31 -->\n<g id=\"node32\" class=\"node\">\n<title>31</title>\n<ellipse fill=\"none\" stroke=\"#ff4500\" cx=\"130.0579\" cy=\"-345.1235\" rx=\"19.1842\" ry=\"12.0417\"/>\n<text text-anchor=\"middle\" x=\"130.0579\" y=\"-343.2235\" font-family=\"monospace\" font-size=\"8.00\" fill=\"#7b68ee\">31</text>\n</g>\n<!-- 21&#45;&#45;31 -->\n<g id=\"edge31\" class=\"edge\">\n<title>21&#45;&#45;31</title>\n<path fill=\"none\" stroke=\"#ffa500\" stroke-width=\"2\" d=\"M102.6966,-335.8511C103.0176,-335.9598 103.3401,-336.0691 103.6638,-336.1788\"/>\n<polygon fill=\"#ffa500\" stroke=\"#ffa500\" stroke-width=\"2\" points=\"102.543,-339.4945 113.1373,-339.3893 104.7897,-332.8648 102.543,-339.4945\"/>\n</g>\n<!-- 22&#45;&#45;23 -->\n<g id=\"edge111\" class=\"edge\">\n<title>22&#45;&#45;23</title>\n<path fill=\"none\" stroke=\"#c0c0c0\" d=\"M96.7218,-279.9939C98.1973,-274.1145 99.96,-267.0908 101.4315,-261.2268\"/>\n</g>\n<!-- 32 -->\n<g id=\"node33\" class=\"node\">\n<title>32</title>\n<ellipse fill=\"none\" stroke=\"#ff4500\" cx=\"139.455\" cy=\"-306.8451\" rx=\"19.1842\" ry=\"12.0417\"/>\n<text text-anchor=\"middle\" x=\"139.455\" y=\"-304.9451\" font-family=\"monospace\" font-size=\"8.00\" fill=\"#7b68ee\">32</text>\n</g>\n<!-- 22&#45;&#45;32 -->\n<g id=\"edge32\" class=\"edge\">\n<title>22&#45;&#45;32</title>\n<path fill=\"none\" stroke=\"#ffa500\" stroke-width=\"2\" d=\"M110.7049,-297.6797C111.2931,-297.8672 111.8868,-298.0565 112.4844,-298.247\"/>\n<polygon fill=\"#ffa500\" stroke=\"#ffa500\" stroke-width=\"2\" points=\"111.6405,-301.6515 122.2311,-301.3542 113.7667,-294.9822 111.6405,-301.6515\"/>\n</g>\n<!-- 23&#45;&#45;24 -->\n<g id=\"edge112\" class=\"edge\">\n<title>23&#45;&#45;24</title>\n<path fill=\"none\" stroke=\"#c0c0c0\" d=\"M107.8928,-237.0611C109.7895,-230.3806 112.1422,-222.0944 114.0424,-215.4013\"/>\n</g>\n<!-- 33 -->\n<g id=\"node34\" class=\"node\">\n<title>33</title>\n<ellipse fill=\"none\" stroke=\"#ff4500\" cx=\"151.5206\" cy=\"-263.0786\" rx=\"19.1842\" ry=\"12.0417\"/>\n<text text-anchor=\"middle\" x=\"151.5206\" y=\"-261.1786\" font-family=\"monospace\" font-size=\"8.00\" fill=\"#7b68ee\">33</text>\n</g>\n<!-- 23&#45;&#45;33 -->\n<g id=\"edge33\" class=\"edge\">\n<title>23&#45;&#45;33</title>\n<path fill=\"none\" stroke=\"#ffa500\" stroke-width=\"2\" d=\"M121.9934,-254.3035C122.7379,-254.5248 123.4911,-254.7486 124.2495,-254.974\"/>\n<polygon fill=\"#ffa500\" stroke=\"#ffa500\" stroke-width=\"2\" points=\"123.562,-258.4209 134.1448,-257.9148 125.5562,-251.711 123.562,-258.4209\"/>\n</g>\n<!-- 24&#45;&#45;25 -->\n<g id=\"edge113\" class=\"edge\">\n<title>24&#45;&#45;25</title>\n<path fill=\"none\" stroke=\"#c0c0c0\" d=\"M121.1509,-191.1944C123.2195,-184.3765 125.7933,-175.8938 127.8499,-169.1155\"/>\n</g>\n<!-- 34 -->\n<g id=\"node35\" class=\"node\">\n<title>34</title>\n<ellipse fill=\"none\" stroke=\"#ff4500\" cx=\"165.4487\" cy=\"-216.3836\" rx=\"19.1842\" ry=\"12.0417\"/>\n<text text-anchor=\"middle\" x=\"165.4487\" y=\"-214.4836\" font-family=\"monospace\" font-size=\"8.00\" fill=\"#7b68ee\">34</text>\n</g>\n<!-- 24&#45;&#45;34 -->\n<g id=\"edge34\" class=\"edge\">\n<title>24&#45;&#45;34</title>\n<path fill=\"none\" stroke=\"#ffa500\" stroke-width=\"2\" d=\"M135.0707,-208.0889C135.9831,-208.338 136.9089,-208.5908 137.8421,-208.8456\"/>\n<polygon fill=\"#ffa500\" stroke=\"#ffa500\" stroke-width=\"2\" points=\"137.2934,-212.3238 147.8622,-211.5816 139.1373,-205.571 137.2934,-212.3238\"/>\n</g>\n<!-- 25&#45;&#45;26 -->\n<g id=\"edge114\" class=\"edge\">\n<title>25&#45;&#45;26</title>\n<path fill=\"none\" stroke=\"#c0c0c0\" d=\"M135.2248,-145.4688C137.3221,-138.9225 139.9236,-130.8026 142.0249,-124.2439\"/>\n</g>\n<!-- 35 -->\n<g id=\"node36\" class=\"node\">\n<title>35</title>\n<ellipse fill=\"none\" stroke=\"#ff4500\" cx=\"180.1151\" cy=\"-169.1584\" rx=\"19.1842\" ry=\"12.0417\"/>\n<text text-anchor=\"middle\" x=\"180.1151\" y=\"-167.2584\" font-family=\"monospace\" font-size=\"8.00\" fill=\"#7b68ee\">35</text>\n</g>\n<!-- 25&#45;&#45;35 -->\n<g id=\"edge35\" class=\"edge\">\n<title>25&#45;&#45;35</title>\n<path fill=\"none\" stroke=\"#ffa500\" stroke-width=\"2\" d=\"M149.2922,-161.6252C150.3502,-161.8838 151.4259,-162.1467 152.5104,-162.4118\"/>\n<polygon fill=\"#ffa500\" stroke=\"#ffa500\" stroke-width=\"2\" points=\"151.7259,-165.823 162.271,-164.7973 153.3879,-159.0231 151.7259,-165.823\"/>\n</g>\n<!-- 26&#45;&#45;27 -->\n<g id=\"edge115\" class=\"edge\">\n<title>26&#45;&#45;27</title>\n<path fill=\"none\" stroke=\"#c0c0c0\" d=\"M149.7272,-100.591C151.567,-95.0316 153.7588,-88.4086 155.6058,-82.8273\"/>\n</g>\n<!-- 36 -->\n<g id=\"node37\" class=\"node\">\n<title>36</title>\n<ellipse fill=\"none\" stroke=\"#ff4500\" cx=\"194.5386\" cy=\"-122.6877\" rx=\"19.1842\" ry=\"12.0417\"/>\n<text text-anchor=\"middle\" x=\"194.5386\" y=\"-120.7877\" font-family=\"monospace\" font-size=\"8.00\" fill=\"#7b68ee\">36</text>\n</g>\n<!-- 26&#45;&#45;36 -->\n<g id=\"edge36\" class=\"edge\">\n<title>26&#45;&#45;36</title>\n<path fill=\"none\" stroke=\"#ffa500\" stroke-width=\"2\" d=\"M163.9663,-116.2133C164.7169,-116.3722 165.476,-116.533 166.2404,-116.6949\"/>\n<polygon fill=\"#ffa500\" stroke=\"#ffa500\" stroke-width=\"2\" points=\"165.715,-120.1612 176.2232,-118.809 167.1653,-113.313 165.715,-120.1612\"/>\n</g>\n<!-- 27&#45;&#45;28 -->\n<g id=\"edge116\" class=\"edge\">\n<title>27&#45;&#45;28</title>\n<path fill=\"none\" stroke=\"#c0c0c0\" d=\"M163.7159,-58.9369C164.9951,-55.2613 166.403,-51.2159 167.6819,-47.5412\"/>\n</g>\n<!-- 37 -->\n<g id=\"node38\" class=\"node\">\n<title>37</title>\n<ellipse fill=\"none\" stroke=\"#ff4500\" cx=\"207.8528\" cy=\"-79.7282\" rx=\"19.1842\" ry=\"12.0417\"/>\n<text text-anchor=\"middle\" x=\"207.8528\" y=\"-77.8282\" font-family=\"monospace\" font-size=\"8.00\" fill=\"#7b68ee\">37</text>\n</g>\n<!-- 27&#45;&#45;37 -->\n<g id=\"edge37\" class=\"edge\">\n<title>27&#45;&#45;37</title>\n<path fill=\"none\" stroke=\"#ffa500\" stroke-width=\"2\" d=\"M178.0943,-74.2711C178.5598,-74.3564 179.0282,-74.4423 179.4988,-74.5286\"/>\n<polygon fill=\"#ffa500\" stroke=\"#ffa500\" stroke-width=\"2\" points=\"178.9824,-77.9922 189.4497,-76.3534 180.2451,-71.107 178.9824,-77.9922\"/>\n</g>\n<!-- 28&#45;&#45;29 -->\n<g id=\"edge117\" class=\"edge\">\n<title>28&#45;&#45;29</title>\n<path fill=\"none\" stroke=\"#c0c0c0\" d=\"M176.433,-23.8193C176.4689,-23.7271 176.5049,-23.6349 176.5408,-23.5428\"/>\n</g>\n<!-- 38 -->\n<g id=\"node39\" class=\"node\">\n<title>38</title>\n<ellipse fill=\"none\" stroke=\"#ff4500\" cx=\"219.4956\" cy=\"-42.7725\" rx=\"19.1842\" ry=\"12.0417\"/>\n<text text-anchor=\"middle\" x=\"219.4956\" y=\"-40.8725\" font-family=\"monospace\" font-size=\"8.00\" fill=\"#7b68ee\">38</text>\n</g>\n<!-- 28&#45;&#45;38 -->\n<g id=\"edge38\" class=\"edge\">\n<title>28&#45;&#45;38</title>\n<path fill=\"none\" stroke=\"#ffa500\" stroke-width=\"2\" d=\"M190.6696,-38.4455C190.7737,-38.4611 190.8779,-38.4768 190.9823,-38.4925\"/>\n<polygon fill=\"#ffa500\" stroke=\"#ffa500\" stroke-width=\"2\" points=\"190.3855,-41.942 200.7943,-39.9653 191.4247,-35.0196 190.3855,-41.942\"/>\n</g>\n<!-- 39 -->\n<g id=\"node40\" class=\"node\">\n<title>39</title>\n<ellipse fill=\"none\" stroke=\"#ff4500\" cx=\"228.2264\" cy=\"-16.6776\" rx=\"19.1842\" ry=\"12.0417\"/>\n<text text-anchor=\"middle\" x=\"228.2264\" y=\"-14.7776\" font-family=\"monospace\" font-size=\"8.00\" fill=\"#7b68ee\">39</text>\n</g>\n<!-- 29&#45;&#45;39 -->\n<g id=\"edge39\" class=\"edge\">\n<title>29&#45;&#45;39</title>\n<path fill=\"none\" stroke=\"#ffa500\" stroke-width=\"2\" d=\"M199.9573,-13.8881C200.0534,-13.8976 200.1497,-13.9071 200.2461,-13.9166\"/>\n<polygon fill=\"#ffa500\" stroke=\"#ffa500\" stroke-width=\"2\" points=\"199.0039,-17.3109 209.2993,-14.8099 199.6913,-10.3447 199.0039,-17.3109\"/>\n</g>\n<!-- 30&#45;&#45;31 -->\n<g id=\"edge118\" class=\"edge\">\n<title>30&#45;&#45;31</title>\n<path fill=\"none\" stroke=\"#c0c0c0\" d=\"M126.7669,-361.0161C127.0358,-359.7175 127.3095,-358.3958 127.5784,-357.0973\"/>\n</g>\n<!-- 40 -->\n<g id=\"node41\" class=\"node\">\n<title>40</title>\n<ellipse fill=\"none\" stroke=\"#ff4500\" cx=\"170.2943\" cy=\"-386.5402\" rx=\"19.1842\" ry=\"12.0417\"/>\n<text text-anchor=\"middle\" x=\"170.2943\" y=\"-384.6402\" font-family=\"monospace\" font-size=\"8.00\" fill=\"#7b68ee\">40</text>\n</g>\n<!-- 30&#45;&#45;40 -->\n<g id=\"edge40\" class=\"edge\">\n<title>30&#45;&#45;40</title>\n<path fill=\"none\" stroke=\"#ffa500\" stroke-width=\"2\" d=\"M141.6793,-378.119C142.1373,-378.2538 142.5986,-378.3895 143.0621,-378.5259\"/>\n<polygon fill=\"#ffa500\" stroke=\"#ffa500\" stroke-width=\"2\" points=\"142.2943,-381.9483 152.8757,-381.414 144.2706,-375.2331 142.2943,-381.9483\"/>\n</g>\n<!-- 31&#45;&#45;32 -->\n<g id=\"edge119\" class=\"edge\">\n<title>31&#45;&#45;32</title>\n<path fill=\"none\" stroke=\"#c0c0c0\" d=\"M133.0312,-333.0119C134.1496,-328.4561 135.4195,-323.2833 136.5332,-318.7468\"/>\n</g>\n<!-- 41 -->\n<g id=\"node42\" class=\"node\">\n<title>41</title>\n<ellipse fill=\"none\" stroke=\"#ff4500\" cx=\"177.4511\" cy=\"-359.8076\" rx=\"19.1842\" ry=\"12.0417\"/>\n<text text-anchor=\"middle\" x=\"177.4511\" y=\"-357.9076\" font-family=\"monospace\" font-size=\"8.00\" fill=\"#7b68ee\">41</text>\n</g>\n<!-- 31&#45;&#45;41 -->\n<g id=\"edge41\" class=\"edge\">\n<title>31&#45;&#45;41</title>\n<path fill=\"none\" stroke=\"#ffa500\" stroke-width=\"2\" d=\"M147.4363,-350.5079C148.3378,-350.7872 149.2525,-351.0706 150.1746,-351.3563\"/>\n<polygon fill=\"#ffa500\" stroke=\"#ffa500\" stroke-width=\"2\" points=\"149.487,-354.8074 160.0749,-354.4238 151.5587,-348.121 149.487,-354.8074\"/>\n</g>\n<!-- 32&#45;&#45;33 -->\n<g id=\"edge120\" class=\"edge\">\n<title>32&#45;&#45;33</title>\n<path fill=\"none\" stroke=\"#c0c0c0\" d=\"M142.752,-294.8857C144.4544,-288.7102 146.5257,-281.197 148.2276,-275.0236\"/>\n</g>\n<!-- 42 -->\n<g id=\"node43\" class=\"node\">\n<title>42</title>\n<ellipse fill=\"none\" stroke=\"#ff4500\" cx=\"188.1045\" cy=\"-321.6504\" rx=\"19.1842\" ry=\"12.0417\"/>\n<text text-anchor=\"middle\" x=\"188.1045\" y=\"-319.7504\" font-family=\"monospace\" font-size=\"8.00\" fill=\"#7b68ee\">42</text>\n</g>\n<!-- 32&#45;&#45;42 -->\n<g id=\"edge42\" class=\"edge\">\n<title>32&#45;&#45;42</title>\n<path fill=\"none\" stroke=\"#ffa500\" stroke-width=\"2\" d=\"M156.7439,-312.1066C158.1778,-312.5429 159.6473,-312.9901 161.1301,-313.4414\"/>\n<polygon fill=\"#ffa500\" stroke=\"#ffa500\" stroke-width=\"2\" points=\"160.2853,-316.8427 170.8712,-316.4059 162.3234,-310.146 160.2853,-316.8427\"/>\n</g>\n<!-- 33&#45;&#45;34 -->\n<g id=\"edge121\" class=\"edge\">\n<title>33&#45;&#45;34</title>\n<path fill=\"none\" stroke=\"#c0c0c0\" d=\"M155.1801,-250.8101C157.2434,-243.8926 159.8105,-235.286 161.8619,-228.4087\"/>\n</g>\n<!-- 43 -->\n<g id=\"node44\" class=\"node\">\n<title>43</title>\n<ellipse fill=\"none\" stroke=\"#ff4500\" cx=\"201.4404\" cy=\"-277.4323\" rx=\"19.1842\" ry=\"12.0417\"/>\n<text text-anchor=\"middle\" x=\"201.4404\" y=\"-275.5323\" font-family=\"monospace\" font-size=\"8.00\" fill=\"#7b68ee\">43</text>\n</g>\n<!-- 33&#45;&#45;43 -->\n<g id=\"edge43\" class=\"edge\">\n<title>33&#45;&#45;43</title>\n<path fill=\"none\" stroke=\"#ffa500\" stroke-width=\"2\" d=\"M168.9802,-268.0989C170.6425,-268.5769 172.3538,-269.0689 174.0806,-269.5654\"/>\n<polygon fill=\"#ffa500\" stroke=\"#ffa500\" stroke-width=\"2\" points=\"173.3286,-272.9909 183.9064,-272.3907 175.263,-266.2635 173.3286,-272.9909\"/>\n</g>\n<!-- 34&#45;&#45;35 -->\n<g id=\"edge122\" class=\"edge\">\n<title>34&#45;&#45;35</title>\n<path fill=\"none\" stroke=\"#c0c0c0\" d=\"M169.1496,-204.4667C171.356,-197.3624 174.1492,-188.3683 176.3643,-181.2358\"/>\n</g>\n<!-- 44 -->\n<g id=\"node45\" class=\"node\">\n<title>44</title>\n<ellipse fill=\"none\" stroke=\"#ff4500\" cx=\"216.107\" cy=\"-230.2701\" rx=\"19.1842\" ry=\"12.0417\"/>\n<text text-anchor=\"middle\" x=\"216.107\" y=\"-228.3701\" font-family=\"monospace\" font-size=\"8.00\" fill=\"#7b68ee\">44</text>\n</g>\n<!-- 34&#45;&#45;44 -->\n<g id=\"edge44\" class=\"edge\">\n<title>34&#45;&#45;44</title>\n<path fill=\"none\" stroke=\"#ffa500\" stroke-width=\"2\" d=\"M183.1665,-221.2404C184.8534,-221.7028 186.59,-222.1789 188.3423,-222.6592\"/>\n<polygon fill=\"#ffa500\" stroke=\"#ffa500\" stroke-width=\"2\" points=\"187.744,-226.1242 198.3135,-225.3925 189.5946,-219.3733 187.744,-226.1242\"/>\n</g>\n<!-- 35&#45;&#45;36 -->\n<g id=\"edge123\" class=\"edge\">\n<title>35&#45;&#45;36</title>\n<path fill=\"none\" stroke=\"#c0c0c0\" d=\"M183.9047,-156.9488C186.0414,-150.0646 188.6999,-141.4993 190.8242,-134.6551\"/>\n</g>\n<!-- 45 -->\n<g id=\"node46\" class=\"node\">\n<title>45</title>\n<ellipse fill=\"none\" stroke=\"#ff4500\" cx=\"231.0209\" cy=\"-182.1223\" rx=\"19.1842\" ry=\"12.0417\"/>\n<text text-anchor=\"middle\" x=\"231.0209\" y=\"-180.2223\" font-family=\"monospace\" font-size=\"8.00\" fill=\"#7b68ee\">45</text>\n</g>\n<!-- 35&#45;&#45;45 -->\n<g id=\"edge45\" class=\"edge\">\n<title>35&#45;&#45;45</title>\n<path fill=\"none\" stroke=\"#ffa500\" stroke-width=\"2\" d=\"M197.9195,-173.6926C199.6147,-174.1243 201.3598,-174.5687 203.1206,-175.0171\"/>\n<polygon fill=\"#ffa500\" stroke=\"#ffa500\" stroke-width=\"2\" points=\"202.586,-178.4926 213.1405,-177.5688 204.3136,-171.7091 202.586,-178.4926\"/>\n</g>\n<!-- 36&#45;&#45;37 -->\n<g id=\"edge124\" class=\"edge\">\n<title>36&#45;&#45;37</title>\n<path fill=\"none\" stroke=\"#c0c0c0\" d=\"M198.3183,-110.4922C200.1327,-104.6379 202.3001,-97.6443 204.1097,-91.8055\"/>\n</g>\n<!-- 46 -->\n<g id=\"node47\" class=\"node\">\n<title>46</title>\n<ellipse fill=\"none\" stroke=\"#ff4500\" cx=\"245.4191\" cy=\"-134.7377\" rx=\"19.1842\" ry=\"12.0417\"/>\n<text text-anchor=\"middle\" x=\"245.4191\" y=\"-132.8377\" font-family=\"monospace\" font-size=\"8.00\" fill=\"#7b68ee\">46</text>\n</g>\n<!-- 36&#45;&#45;46 -->\n<g id=\"edge46\" class=\"edge\">\n<title>36&#45;&#45;46</title>\n<path fill=\"none\" stroke=\"#ffa500\" stroke-width=\"2\" d=\"M212.6204,-126.97C214.12,-127.3252 215.6569,-127.6892 217.2077,-128.0564\"/>\n<polygon fill=\"#ffa500\" stroke=\"#ffa500\" stroke-width=\"2\" points=\"216.8581,-131.5704 227.3955,-130.4692 218.4713,-124.7588 216.8581,-131.5704\"/>\n</g>\n<!-- 37&#45;&#45;38 -->\n<g id=\"edge125\" class=\"edge\">\n<title>37&#45;&#45;38</title>\n<path fill=\"none\" stroke=\"#c0c0c0\" d=\"M211.6651,-67.6275C212.9384,-63.5858 214.3579,-59.0802 215.6349,-55.0269\"/>\n</g>\n<!-- 47 -->\n<g id=\"node48\" class=\"node\">\n<title>47</title>\n<ellipse fill=\"none\" stroke=\"#ff4500\" cx=\"258.3575\" cy=\"-90.5373\" rx=\"19.1842\" ry=\"12.0417\"/>\n<text text-anchor=\"middle\" x=\"258.3575\" y=\"-88.6373\" font-family=\"monospace\" font-size=\"8.00\" fill=\"#7b68ee\">47</text>\n</g>\n<!-- 37&#45;&#45;47 -->\n<g id=\"edge47\" class=\"edge\">\n<title>37&#45;&#45;47</title>\n<path fill=\"none\" stroke=\"#ffa500\" stroke-width=\"2\" d=\"M226.0862,-83.6305C227.3576,-83.9026 228.6549,-84.1803 229.9636,-84.4604\"/>\n<polygon fill=\"#ffa500\" stroke=\"#ffa500\" stroke-width=\"2\" points=\"229.4702,-87.934 239.9813,-86.6044 230.9353,-81.089 229.4702,-87.934\"/>\n</g>\n<!-- 38&#45;&#45;39 -->\n<g id=\"edge126\" class=\"edge\">\n<title>38&#45;&#45;39</title>\n<path fill=\"none\" stroke=\"#c0c0c0\" d=\"M223.4523,-30.9467C223.7049,-30.1915 223.9594,-29.4308 224.2124,-28.6749\"/>\n</g>\n<!-- 48 -->\n<g id=\"node49\" class=\"node\">\n<title>48</title>\n<ellipse fill=\"none\" stroke=\"#ff4500\" cx=\"269.4454\" cy=\"-52.3893\" rx=\"19.1842\" ry=\"12.0417\"/>\n<text text-anchor=\"middle\" x=\"269.4454\" y=\"-50.4893\" font-family=\"monospace\" font-size=\"8.00\" fill=\"#7b68ee\">48</text>\n</g>\n<!-- 38&#45;&#45;48 -->\n<g id=\"edge48\" class=\"edge\">\n<title>38&#45;&#45;48</title>\n<path fill=\"none\" stroke=\"#ffa500\" stroke-width=\"2\" d=\"M237.8114,-46.2988C238.8973,-46.5079 240.0013,-46.7205 241.1143,-46.9347\"/>\n<polygon fill=\"#ffa500\" stroke=\"#ffa500\" stroke-width=\"2\" points=\"240.6504,-50.4096 251.1318,-48.8634 241.9738,-43.5359 240.6504,-50.4096\"/>\n</g>\n<!-- 49 -->\n<g id=\"node50\" class=\"node\">\n<title>49</title>\n<ellipse fill=\"none\" stroke=\"#ff4500\" cx=\"277.553\" cy=\"-24.7603\" rx=\"19.1842\" ry=\"12.0417\"/>\n<text text-anchor=\"middle\" x=\"277.553\" y=\"-22.8603\" font-family=\"monospace\" font-size=\"8.00\" fill=\"#7b68ee\">49</text>\n</g>\n<!-- 39&#45;&#45;49 -->\n<g id=\"edge49\" class=\"edge\">\n<title>39&#45;&#45;49</title>\n<path fill=\"none\" stroke=\"#ffa500\" stroke-width=\"2\" d=\"M246.8746,-19.7334C247.4885,-19.8339 248.1076,-19.9354 248.7304,-20.0374\"/>\n<polygon fill=\"#ffa500\" stroke=\"#ffa500\" stroke-width=\"2\" points=\"248.4439,-23.5371 258.8783,-21.7003 249.5759,-16.6292 248.4439,-23.5371\"/>\n</g>\n<!-- 40&#45;&#45;41 -->\n<g id=\"edge127\" class=\"edge\">\n<title>40&#45;&#45;41</title>\n<path fill=\"none\" stroke=\"#c0c0c0\" d=\"M173.5377,-374.4254C173.7744,-373.5412 174.0131,-372.6497 174.2495,-371.7665\"/>\n</g>\n<!-- 50 -->\n<g id=\"node51\" class=\"node\">\n<title>50</title>\n<ellipse fill=\"none\" stroke=\"#ff4500\" cx=\"217.8865\" cy=\"-399.7388\" rx=\"19.1842\" ry=\"12.0417\"/>\n<text text-anchor=\"middle\" x=\"217.8865\" y=\"-397.8388\" font-family=\"monospace\" font-size=\"8.00\" fill=\"#7b68ee\">50</text>\n</g>\n<!-- 40&#45;&#45;50 -->\n<g id=\"edge50\" class=\"edge\">\n<title>40&#45;&#45;50</title>\n<path fill=\"none\" stroke=\"#ffa500\" stroke-width=\"2\" d=\"M188.0159,-391.4548C188.7691,-391.6637 189.531,-391.875 190.2983,-392.0878\"/>\n<polygon fill=\"#ffa500\" stroke=\"#ffa500\" stroke-width=\"2\" points=\"189.7369,-395.5642 200.3086,-394.8639 191.6076,-388.8188 189.7369,-395.5642\"/>\n</g>\n<!-- 41&#45;&#45;42 -->\n<g id=\"edge128\" class=\"edge\">\n<title>41&#45;&#45;42</title>\n<path fill=\"none\" stroke=\"#c0c0c0\" d=\"M180.8219,-347.7345C182.0899,-343.193 183.5295,-338.0366 184.7921,-333.5144\"/>\n</g>\n<!-- 51 -->\n<g id=\"node52\" class=\"node\">\n<title>51</title>\n<ellipse fill=\"none\" stroke=\"#ff4500\" cx=\"226.2825\" cy=\"-373.9919\" rx=\"19.1842\" ry=\"12.0417\"/>\n<text text-anchor=\"middle\" x=\"226.2825\" y=\"-372.0919\" font-family=\"monospace\" font-size=\"8.00\" fill=\"#7b68ee\">51</text>\n</g>\n<!-- 41&#45;&#45;51 -->\n<g id=\"edge51\" class=\"edge\">\n<title>41&#45;&#45;51</title>\n<path fill=\"none\" stroke=\"#ffa500\" stroke-width=\"2\" d=\"M194.8048,-364.8484C196.0692,-365.2157 197.3613,-365.591 198.6658,-365.9699\"/>\n<polygon fill=\"#ffa500\" stroke=\"#ffa500\" stroke-width=\"2\" points=\"198.076,-369.4432 208.6554,-368.8717 200.0287,-362.7211 198.076,-369.4432\"/>\n</g>\n<!-- 42&#45;&#45;43 -->\n<g id=\"edge129\" class=\"edge\">\n<title>42&#45;&#45;43</title>\n<path fill=\"none\" stroke=\"#c0c0c0\" d=\"M191.7486,-309.5676C193.6303,-303.3284 195.9197,-295.7376 197.8007,-289.5005\"/>\n</g>\n<!-- 52 -->\n<g id=\"node53\" class=\"node\">\n<title>52</title>\n<ellipse fill=\"none\" stroke=\"#ff4500\" cx=\"238.1379\" cy=\"-335.9826\" rx=\"19.1842\" ry=\"12.0417\"/>\n<text text-anchor=\"middle\" x=\"238.1379\" y=\"-334.0826\" font-family=\"monospace\" font-size=\"8.00\" fill=\"#7b68ee\">52</text>\n</g>\n<!-- 42&#45;&#45;52 -->\n<g id=\"edge52\" class=\"edge\">\n<title>42&#45;&#45;52</title>\n<path fill=\"none\" stroke=\"#ffa500\" stroke-width=\"2\" d=\"M205.6038,-326.6631C207.2699,-327.1404 208.9851,-327.6317 210.7158,-328.1275\"/>\n<polygon fill=\"#ffa500\" stroke=\"#ffa500\" stroke-width=\"2\" points=\"209.9868,-331.5594 220.564,-330.9485 211.9144,-324.83 209.9868,-331.5594\"/>\n</g>\n<!-- 43&#45;&#45;44 -->\n<g id=\"edge130\" class=\"edge\">\n<title>43&#45;&#45;44</title>\n<path fill=\"none\" stroke=\"#c0c0c0\" d=\"M205.1414,-265.5313C207.3478,-258.4364 210.141,-249.4543 212.3561,-242.3313\"/>\n</g>\n<!-- 53 -->\n<g id=\"node54\" class=\"node\">\n<title>53</title>\n<ellipse fill=\"none\" stroke=\"#ff4500\" cx=\"252.2744\" cy=\"-291.5739\" rx=\"19.1842\" ry=\"12.0417\"/>\n<text text-anchor=\"middle\" x=\"252.2744\" y=\"-289.6739\" font-family=\"monospace\" font-size=\"8.00\" fill=\"#7b68ee\">53</text>\n</g>\n<!-- 43&#45;&#45;53 -->\n<g id=\"edge53\" class=\"edge\">\n<title>43&#45;&#45;53</title>\n<path fill=\"none\" stroke=\"#ffa500\" stroke-width=\"2\" d=\"M218.9346,-282.2991C220.8301,-282.8264 222.7909,-283.3719 224.7687,-283.9221\"/>\n<polygon fill=\"#ffa500\" stroke=\"#ffa500\" stroke-width=\"2\" points=\"224.0032,-287.3419 234.5754,-286.6502 225.8793,-280.598 224.0032,-287.3419\"/>\n</g>\n<!-- 44&#45;&#45;45 -->\n<g id=\"edge131\" class=\"edge\">\n<title>44&#45;&#45;45</title>\n<path fill=\"none\" stroke=\"#c0c0c0\" d=\"M219.8704,-218.1203C222.1485,-210.7658 225.0419,-201.4248 227.3103,-194.1013\"/>\n</g>\n<!-- 54 -->\n<g id=\"node55\" class=\"node\">\n<title>54</title>\n<ellipse fill=\"none\" stroke=\"#ff4500\" cx=\"267.5643\" cy=\"-244.2083\" rx=\"19.1842\" ry=\"12.0417\"/>\n<text text-anchor=\"middle\" x=\"267.5643\" y=\"-242.3083\" font-family=\"monospace\" font-size=\"8.00\" fill=\"#7b68ee\">54</text>\n</g>\n<!-- 44&#45;&#45;54 -->\n<g id=\"edge54\" class=\"edge\">\n<title>44&#45;&#45;54</title>\n<path fill=\"none\" stroke=\"#ffa500\" stroke-width=\"2\" d=\"M233.8157,-235.0668C235.8598,-235.6205 237.9789,-236.1945 240.114,-236.7728\"/>\n<polygon fill=\"#ffa500\" stroke=\"#ffa500\" stroke-width=\"2\" points=\"239.43,-240.2136 249.9973,-239.4499 241.2602,-233.4571 239.43,-240.2136\"/>\n</g>\n<!-- 45&#45;&#45;46 -->\n<g id=\"edge132\" class=\"edge\">\n<title>45&#45;&#45;46</title>\n<path fill=\"none\" stroke=\"#c0c0c0\" d=\"M234.6542,-170.1651C236.8202,-163.0368 239.5623,-154.0124 241.7369,-146.8558\"/>\n</g>\n<!-- 55 -->\n<g id=\"node56\" class=\"node\">\n<title>55</title>\n<ellipse fill=\"none\" stroke=\"#ff4500\" cx=\"282.4838\" cy=\"-195.8338\" rx=\"19.1842\" ry=\"12.0417\"/>\n<text text-anchor=\"middle\" x=\"282.4838\" y=\"-193.9338\" font-family=\"monospace\" font-size=\"8.00\" fill=\"#7b68ee\">55</text>\n</g>\n<!-- 45&#45;&#45;55 -->\n<g id=\"edge55\" class=\"edge\">\n<title>45&#45;&#45;55</title>\n<path fill=\"none\" stroke=\"#ffa500\" stroke-width=\"2\" d=\"M248.7315,-186.841C250.7304,-187.3736 252.8011,-187.9253 254.8882,-188.4813\"/>\n<polygon fill=\"#ffa500\" stroke=\"#ffa500\" stroke-width=\"2\" points=\"254.0018,-191.8672 264.5659,-191.0598 255.8041,-185.1032 254.0018,-191.8672\"/>\n</g>\n<!-- 46&#45;&#45;47 -->\n<g id=\"edge133\" class=\"edge\">\n<title>46&#45;&#45;47</title>\n<path fill=\"none\" stroke=\"#c0c0c0\" d=\"M248.9546,-122.6597C250.7802,-116.423 253.0013,-108.8353 254.8263,-102.6007\"/>\n</g>\n<!-- 56 -->\n<g id=\"node57\" class=\"node\">\n<title>56</title>\n<ellipse fill=\"none\" stroke=\"#ff4500\" cx=\"296.5178\" cy=\"-148.0272\" rx=\"19.1842\" ry=\"12.0417\"/>\n<text text-anchor=\"middle\" x=\"296.5178\" y=\"-146.1272\" font-family=\"monospace\" font-size=\"8.00\" fill=\"#7b68ee\">56</text>\n</g>\n<!-- 46&#45;&#45;56 -->\n<g id=\"edge56\" class=\"edge\">\n<title>46&#45;&#45;56</title>\n<path fill=\"none\" stroke=\"#ffa500\" stroke-width=\"2\" d=\"M263.2909,-139.3857C264.9926,-139.8283 266.7443,-140.2838 268.5118,-140.7435\"/>\n<polygon fill=\"#ffa500\" stroke=\"#ffa500\" stroke-width=\"2\" points=\"268.0106,-144.2296 278.5697,-143.3593 269.7726,-137.4549 268.0106,-144.2296\"/>\n</g>\n<!-- 47&#45;&#45;48 -->\n<g id=\"edge134\" class=\"edge\">\n<title>47&#45;&#45;48</title>\n<path fill=\"none\" stroke=\"#c0c0c0\" d=\"M261.8658,-78.467C263.1855,-73.9267 264.6838,-68.7715 265.9979,-64.2504\"/>\n</g>\n<!-- 57 -->\n<g id=\"node58\" class=\"node\">\n<title>57</title>\n<ellipse fill=\"none\" stroke=\"#ff4500\" cx=\"309.088\" cy=\"-102.8598\" rx=\"19.1842\" ry=\"12.0417\"/>\n<text text-anchor=\"middle\" x=\"309.088\" y=\"-100.9598\" font-family=\"monospace\" font-size=\"8.00\" fill=\"#7b68ee\">57</text>\n</g>\n<!-- 47&#45;&#45;57 -->\n<g id=\"edge57\" class=\"edge\">\n<title>47&#45;&#45;57</title>\n<path fill=\"none\" stroke=\"#ffa500\" stroke-width=\"2\" d=\"M276.3861,-94.9164C277.8812,-95.2796 279.4136,-95.6518 280.9598,-96.0274\"/>\n<polygon fill=\"#ffa500\" stroke=\"#ffa500\" stroke-width=\"2\" points=\"280.574,-99.5354 291.1176,-98.4947 282.2263,-92.7332 280.574,-99.5354\"/>\n</g>\n<!-- 48&#45;&#45;49 -->\n<g id=\"edge135\" class=\"edge\">\n<title>48&#45;&#45;49</title>\n<path fill=\"none\" stroke=\"#c0c0c0\" d=\"M272.9308,-40.5118C273.3085,-39.2247 273.6929,-37.9147 274.0705,-36.6278\"/>\n</g>\n<!-- 58 -->\n<g id=\"node59\" class=\"node\">\n<title>58</title>\n<ellipse fill=\"none\" stroke=\"#ff4500\" cx=\"319.84\" cy=\"-63.4478\" rx=\"19.1842\" ry=\"12.0417\"/>\n<text text-anchor=\"middle\" x=\"319.84\" y=\"-61.5478\" font-family=\"monospace\" font-size=\"8.00\" fill=\"#7b68ee\">58</text>\n</g>\n<!-- 48&#45;&#45;58 -->\n<g id=\"edge58\" class=\"edge\">\n<title>48&#45;&#45;58</title>\n<path fill=\"none\" stroke=\"#ffa500\" stroke-width=\"2\" d=\"M287.639,-56.3816C288.9077,-56.66 290.2021,-56.9441 291.508,-57.2306\"/>\n<polygon fill=\"#ffa500\" stroke=\"#ffa500\" stroke-width=\"2\" points=\"290.986,-60.6993 301.5038,-59.4241 292.4865,-53.862 290.986,-60.6993\"/>\n</g>\n<!-- 59 -->\n<g id=\"node60\" class=\"node\">\n<title>59</title>\n<ellipse fill=\"none\" stroke=\"#ff4500\" cx=\"327.5556\" cy=\"-34.6676\" rx=\"19.1842\" ry=\"12.0417\"/>\n<text text-anchor=\"middle\" x=\"327.5556\" y=\"-32.7676\" font-family=\"monospace\" font-size=\"8.00\" fill=\"#7b68ee\">59</text>\n</g>\n<!-- 49&#45;&#45;59 -->\n<g id=\"edge59\" class=\"edge\">\n<title>49&#45;&#45;59</title>\n<path fill=\"none\" stroke=\"#ffa500\" stroke-width=\"2\" d=\"M295.8882,-28.3932C296.9752,-28.6086 298.0804,-28.8275 299.1946,-29.0483\"/>\n<polygon fill=\"#ffa500\" stroke=\"#ffa500\" stroke-width=\"2\" points=\"298.733,-32.5248 309.2226,-31.0352 300.0936,-25.6583 298.733,-32.5248\"/>\n</g>\n<!-- 50&#45;&#45;51 -->\n<g id=\"edge136\" class=\"edge\">\n<title>50&#45;&#45;51</title>\n<path fill=\"none\" stroke=\"#c0c0c0\" d=\"M221.7895,-387.7698C221.9951,-387.1395 222.2016,-386.5062 222.4071,-385.8762\"/>\n</g>\n<!-- 60 -->\n<g id=\"node61\" class=\"node\">\n<title>60</title>\n<ellipse fill=\"none\" stroke=\"#ff4500\" cx=\"263.7225\" cy=\"-416.5186\" rx=\"19.1842\" ry=\"12.0417\"/>\n<text text-anchor=\"middle\" x=\"263.7225\" y=\"-414.6186\" font-family=\"monospace\" font-size=\"8.00\" fill=\"#7b68ee\">60</text>\n</g>\n<!-- 50&#45;&#45;60 -->\n<g id=\"edge60\" class=\"edge\">\n<title>50&#45;&#45;60</title>\n<path fill=\"none\" stroke=\"#ffa500\" stroke-width=\"2\" d=\"M234.4343,-405.7967C235.46,-406.1722 236.5042,-406.5544 237.5578,-406.9401\"/>\n<polygon fill=\"#ffa500\" stroke=\"#ffa500\" stroke-width=\"2\" points=\"236.4512,-410.2621 247.0449,-410.4132 238.8576,-403.6887 236.4512,-410.2621\"/>\n</g>\n<!-- 51&#45;&#45;52 -->\n<g id=\"edge137\" class=\"edge\">\n<title>51&#45;&#45;52</title>\n<path fill=\"none\" stroke=\"#c0c0c0\" d=\"M230.0337,-361.9655C231.4447,-357.4417 233.0468,-352.3053 234.4518,-347.8006\"/>\n</g>\n<!-- 61 -->\n<g id=\"node62\" class=\"node\">\n<title>61</title>\n<ellipse fill=\"none\" stroke=\"#ff4500\" cx=\"274.0894\" cy=\"-387.9107\" rx=\"19.1842\" ry=\"12.0417\"/>\n<text text-anchor=\"middle\" x=\"274.0894\" y=\"-386.0107\" font-family=\"monospace\" font-size=\"8.00\" fill=\"#7b68ee\">61</text>\n</g>\n<!-- 51&#45;&#45;61 -->\n<g id=\"edge61\" class=\"edge\">\n<title>51&#45;&#45;61</title>\n<path fill=\"none\" stroke=\"#ffa500\" stroke-width=\"2\" d=\"M243.8126,-379.0957C244.722,-379.3605 245.6446,-379.6291 246.5748,-379.8999\"/>\n<polygon fill=\"#ffa500\" stroke=\"#ffa500\" stroke-width=\"2\" points=\"245.9817,-383.3725 256.5615,-382.8075 247.9385,-376.6516 245.9817,-383.3725\"/>\n</g>\n<!-- 52&#45;&#45;53 -->\n<g id=\"edge138\" class=\"edge\">\n<title>52&#45;&#45;53</title>\n<path fill=\"none\" stroke=\"#c0c0c0\" d=\"M242.0008,-323.8478C244.0281,-317.4789 246.5019,-309.7078 248.5139,-303.3872\"/>\n</g>\n<!-- 62 -->\n<g id=\"node63\" class=\"node\">\n<title>62</title>\n<ellipse fill=\"none\" stroke=\"#ff4500\" cx=\"287.4991\" cy=\"-349.4631\" rx=\"19.1842\" ry=\"12.0417\"/>\n<text text-anchor=\"middle\" x=\"287.4991\" y=\"-347.5631\" font-family=\"monospace\" font-size=\"8.00\" fill=\"#7b68ee\">62</text>\n</g>\n<!-- 52&#45;&#45;62 -->\n<g id=\"edge62\" class=\"edge\">\n<title>52&#45;&#45;62</title>\n<path fill=\"none\" stroke=\"#ffa500\" stroke-width=\"2\" d=\"M255.6798,-340.7733C257.1,-341.1611 258.5546,-341.5584 260.0227,-341.9593\"/>\n<polygon fill=\"#ffa500\" stroke=\"#ffa500\" stroke-width=\"2\" points=\"259.1119,-345.3387 269.6807,-344.5969 260.9561,-338.586 259.1119,-345.3387\"/>\n</g>\n<!-- 53&#45;&#45;54 -->\n<g id=\"edge139\" class=\"edge\">\n<title>53&#45;&#45;54</title>\n<path fill=\"none\" stroke=\"#c0c0c0\" d=\"M256.1327,-279.6216C258.4682,-272.3865 261.4345,-263.1973 263.7602,-255.9927\"/>\n</g>\n<!-- 63 -->\n<g id=\"node64\" class=\"node\">\n<title>63</title>\n<ellipse fill=\"none\" stroke=\"#ff4500\" cx=\"302.4568\" cy=\"-305.3498\" rx=\"19.1842\" ry=\"12.0417\"/>\n<text text-anchor=\"middle\" x=\"302.4568\" y=\"-303.4498\" font-family=\"monospace\" font-size=\"8.00\" fill=\"#7b68ee\">63</text>\n</g>\n<!-- 53&#45;&#45;63 -->\n<g id=\"edge63\" class=\"edge\">\n<title>53&#45;&#45;63</title>\n<path fill=\"none\" stroke=\"#ffa500\" stroke-width=\"2\" d=\"M269.8257,-296.3921C271.4969,-296.8508 273.2172,-297.3231 274.953,-297.7996\"/>\n<polygon fill=\"#ffa500\" stroke=\"#ffa500\" stroke-width=\"2\" points=\"274.2607,-301.239 284.8305,-300.5111 276.1138,-294.4887 274.2607,-301.239\"/>\n</g>\n<!-- 54&#45;&#45;55 -->\n<g id=\"edge140\" class=\"edge\">\n<title>54&#45;&#45;55</title>\n<path fill=\"none\" stroke=\"#c0c0c0\" d=\"M271.3291,-232.0013C273.6081,-224.6122 276.5026,-215.2272 278.7719,-207.8692\"/>\n</g>\n<!-- 64 -->\n<g id=\"node65\" class=\"node\">\n<title>64</title>\n<ellipse fill=\"none\" stroke=\"#ff4500\" cx=\"317.8001\" cy=\"-258.0489\" rx=\"19.1842\" ry=\"12.0417\"/>\n<text text-anchor=\"middle\" x=\"317.8001\" y=\"-256.1489\" font-family=\"monospace\" font-size=\"8.00\" fill=\"#7b68ee\">64</text>\n</g>\n<!-- 54&#45;&#45;64 -->\n<g id=\"edge64\" class=\"edge\">\n<title>54&#45;&#45;64</title>\n<path fill=\"none\" stroke=\"#ffa500\" stroke-width=\"2\" d=\"M285.1343,-249.0491C286.8072,-249.51 288.5294,-249.9844 290.267,-250.4632\"/>\n<polygon fill=\"#ffa500\" stroke=\"#ffa500\" stroke-width=\"2\" points=\"289.5846,-253.9055 300.1551,-253.1875 291.4439,-247.157 289.5846,-253.9055\"/>\n</g>\n<!-- 55&#45;&#45;56 -->\n<g id=\"edge141\" class=\"edge\">\n<title>55&#45;&#45;56</title>\n<path fill=\"none\" stroke=\"#c0c0c0\" d=\"M286.0252,-183.7702C288.1689,-176.4677 290.8915,-167.193 293.0262,-159.9214\"/>\n</g>\n<!-- 65 -->\n<g id=\"node66\" class=\"node\">\n<title>65</title>\n<ellipse fill=\"none\" stroke=\"#ff4500\" cx=\"332.8412\" cy=\"-209.53\" rx=\"19.1842\" ry=\"12.0417\"/>\n<text text-anchor=\"middle\" x=\"332.8412\" y=\"-207.63\" font-family=\"monospace\" font-size=\"8.00\" fill=\"#7b68ee\">65</text>\n</g>\n<!-- 55&#45;&#45;65 -->\n<g id=\"edge65\" class=\"edge\">\n<title>55&#45;&#45;65</title>\n<path fill=\"none\" stroke=\"#ffa500\" stroke-width=\"2\" d=\"M300.0964,-200.624C301.7733,-201.0801 303.4996,-201.5497 305.2415,-202.0234\"/>\n<polygon fill=\"#ffa500\" stroke=\"#ffa500\" stroke-width=\"2\" points=\"304.5854,-205.472 315.1535,-204.7193 306.4226,-198.7174 304.5854,-205.472\"/>\n</g>\n<!-- 56&#45;&#45;57 -->\n<g id=\"edge142\" class=\"edge\">\n<title>56&#45;&#45;57</title>\n<path fill=\"none\" stroke=\"#c0c0c0\" d=\"M299.8205,-136.16C301.6535,-129.5734 303.9272,-121.4035 305.7637,-114.8045\"/>\n</g>\n<!-- 66 -->\n<g id=\"node67\" class=\"node\">\n<title>66</title>\n<ellipse fill=\"none\" stroke=\"#ff4500\" cx=\"346.6037\" cy=\"-161.2632\" rx=\"19.1842\" ry=\"12.0417\"/>\n<text text-anchor=\"middle\" x=\"346.6037\" y=\"-159.3632\" font-family=\"monospace\" font-size=\"8.00\" fill=\"#7b68ee\">66</text>\n</g>\n<!-- 56&#45;&#45;66 -->\n<g id=\"edge66\" class=\"edge\">\n<title>56&#45;&#45;66</title>\n<path fill=\"none\" stroke=\"#ffa500\" stroke-width=\"2\" d=\"M314.3172,-152.731C315.7934,-153.1211 317.3063,-153.5209 318.8329,-153.9243\"/>\n<polygon fill=\"#ffa500\" stroke=\"#ffa500\" stroke-width=\"2\" points=\"318.2992,-157.4034 328.8616,-156.5746 320.0878,-150.6357 318.2992,-157.4034\"/>\n</g>\n<!-- 57&#45;&#45;58 -->\n<g id=\"edge143\" class=\"edge\">\n<title>57&#45;&#45;58</title>\n<path fill=\"none\" stroke=\"#c0c0c0\" d=\"M312.3724,-90.8207C313.7063,-85.931 315.2439,-80.2952 316.5758,-75.4131\"/>\n</g>\n<!-- 67 -->\n<g id=\"node68\" class=\"node\">\n<title>67</title>\n<ellipse fill=\"none\" stroke=\"#ff4500\" cx=\"358.7414\" cy=\"-115.7176\" rx=\"19.1842\" ry=\"12.0417\"/>\n<text text-anchor=\"middle\" x=\"358.7414\" y=\"-113.8176\" font-family=\"monospace\" font-size=\"8.00\" fill=\"#7b68ee\">67</text>\n</g>\n<!-- 57&#45;&#45;67 -->\n<g id=\"edge67\" class=\"edge\">\n<title>57&#45;&#45;67</title>\n<path fill=\"none\" stroke=\"#ffa500\" stroke-width=\"2\" d=\"M327.014,-107.5017C328.2953,-107.8335 329.6032,-108.1722 330.9226,-108.5139\"/>\n<polygon fill=\"#ffa500\" stroke=\"#ffa500\" stroke-width=\"2\" points=\"330.45,-112.0069 341.0081,-111.1255 332.2049,-105.2304 330.45,-112.0069\"/>\n</g>\n<!-- 58&#45;&#45;59 -->\n<g id=\"edge144\" class=\"edge\">\n<title>58&#45;&#45;59</title>\n<path fill=\"none\" stroke=\"#c0c0c0\" d=\"M323.0674,-51.4092C323.4969,-49.8072 323.9371,-48.1653 324.3659,-46.5658\"/>\n</g>\n<!-- 68 -->\n<g id=\"node69\" class=\"node\">\n<title>68</title>\n<ellipse fill=\"none\" stroke=\"#ff4500\" cx=\"368.7902\" cy=\"-75.7991\" rx=\"19.1842\" ry=\"12.0417\"/>\n<text text-anchor=\"middle\" x=\"368.7902\" y=\"-73.8991\" font-family=\"monospace\" font-size=\"8.00\" fill=\"#7b68ee\">68</text>\n</g>\n<!-- 58&#45;&#45;68 -->\n<g id=\"edge68\" class=\"edge\">\n<title>58&#45;&#45;68</title>\n<path fill=\"none\" stroke=\"#ffa500\" stroke-width=\"2\" d=\"M337.7893,-67.9768C338.8535,-68.2454 339.9354,-68.5183 341.0262,-68.7936\"/>\n<polygon fill=\"#ffa500\" stroke=\"#ffa500\" stroke-width=\"2\" points=\"340.2907,-72.2176 350.8431,-71.2706 342.0033,-65.4304 340.2907,-72.2176\"/>\n</g>\n<!-- 69 -->\n<g id=\"node70\" class=\"node\">\n<title>69</title>\n<ellipse fill=\"none\" stroke=\"#ff4500\" cx=\"376.2223\" cy=\"-45.7882\" rx=\"19.1842\" ry=\"12.0417\"/>\n<text text-anchor=\"middle\" x=\"376.2223\" y=\"-43.8882\" font-family=\"monospace\" font-size=\"8.00\" fill=\"#7b68ee\">69</text>\n</g>\n<!-- 59&#45;&#45;69 -->\n<g id=\"edge69\" class=\"edge\">\n<title>59&#45;&#45;69</title>\n<path fill=\"none\" stroke=\"#ffa500\" stroke-width=\"2\" d=\"M345.6773,-38.8085C346.5759,-39.0138 347.4866,-39.2219 348.404,-39.4316\"/>\n<polygon fill=\"#ffa500\" stroke=\"#ffa500\" stroke-width=\"2\" points=\"347.7191,-42.8652 358.2476,-41.6809 349.2785,-36.0411 347.7191,-42.8652\"/>\n</g>\n<!-- 60&#45;&#45;61 -->\n<g id=\"edge145\" class=\"edge\">\n<title>60&#45;&#45;61</title>\n<path fill=\"none\" stroke=\"#c0c0c0\" d=\"M268.0589,-404.552C268.6359,-402.9597 269.2274,-401.3276 269.8036,-399.7376\"/>\n</g>\n<!-- 70 -->\n<g id=\"node71\" class=\"node\">\n<title>70</title>\n<ellipse fill=\"none\" stroke=\"#ff4500\" cx=\"307.8667\" cy=\"-427.6795\" rx=\"19.1842\" ry=\"12.0417\"/>\n<text text-anchor=\"middle\" x=\"307.8667\" y=\"-425.7795\" font-family=\"monospace\" font-size=\"8.00\" fill=\"#7b68ee\">70</text>\n</g>\n<!-- 60&#45;&#45;70 -->\n<g id=\"edge70\" class=\"edge\">\n<title>60&#45;&#45;70</title>\n<path fill=\"none\" stroke=\"#ffa500\" stroke-width=\"2\" d=\"M281.6776,-421.0582C281.7641,-421.08 281.8508,-421.1019 281.9374,-421.1239\"/>\n<polygon fill=\"#ffa500\" stroke=\"#ffa500\" stroke-width=\"2\" points=\"279.5177,-424.1221 290.0706,-423.1801 281.2336,-417.3357 279.5177,-424.1221\"/>\n</g>\n<!-- 61&#45;&#45;62 -->\n<g id=\"edge146\" class=\"edge\">\n<title>61&#45;&#45;62</title>\n<path fill=\"none\" stroke=\"#c0c0c0\" d=\"M278.1856,-376.1662C279.8185,-371.4845 281.6959,-366.1017 283.3354,-361.4009\"/>\n</g>\n<!-- 71 -->\n<g id=\"node72\" class=\"node\">\n<title>71</title>\n<ellipse fill=\"none\" stroke=\"#ff4500\" cx=\"319.798\" cy=\"-399.2409\" rx=\"19.1842\" ry=\"12.0417\"/>\n<text text-anchor=\"middle\" x=\"319.798\" y=\"-397.3409\" font-family=\"monospace\" font-size=\"8.00\" fill=\"#7b68ee\">71</text>\n</g>\n<!-- 61&#45;&#45;71 -->\n<g id=\"edge71\" class=\"edge\">\n<title>61&#45;&#45;71</title>\n<path fill=\"none\" stroke=\"#ffa500\" stroke-width=\"2\" d=\"M291.8924,-392.3237C291.9958,-392.3493 292.0994,-392.375 292.2031,-392.4007\"/>\n<polygon fill=\"#ffa500\" stroke=\"#ffa500\" stroke-width=\"2\" points=\"291.42,-395.8124 301.9684,-394.8213 293.1043,-389.018 291.42,-395.8124\"/>\n</g>\n<!-- 62&#45;&#45;63 -->\n<g id=\"edge147\" class=\"edge\">\n<title>62&#45;&#45;63</title>\n<path fill=\"none\" stroke=\"#c0c0c0\" d=\"M291.5863,-337.4089C293.6969,-331.1845 296.2646,-323.6117 298.3745,-317.3894\"/>\n</g>\n<!-- 72 -->\n<g id=\"node73\" class=\"node\">\n<title>72</title>\n<ellipse fill=\"none\" stroke=\"#ff4500\" cx=\"334.3326\" cy=\"-361.267\" rx=\"19.1842\" ry=\"12.0417\"/>\n<text text-anchor=\"middle\" x=\"334.3326\" y=\"-359.367\" font-family=\"monospace\" font-size=\"8.00\" fill=\"#7b68ee\">72</text>\n</g>\n<!-- 62&#45;&#45;72 -->\n<g id=\"edge72\" class=\"edge\">\n<title>62&#45;&#45;72</title>\n<path fill=\"none\" stroke=\"#ffa500\" stroke-width=\"2\" d=\"M305.4722,-353.993C305.8108,-354.0784 306.1509,-354.1641 306.4924,-354.2502\"/>\n<polygon fill=\"#ffa500\" stroke=\"#ffa500\" stroke-width=\"2\" points=\"305.9327,-357.7185 316.4849,-356.7687 307.6436,-350.9308 305.9327,-357.7185\"/>\n</g>\n<!-- 63&#45;&#45;64 -->\n<g id=\"edge148\" class=\"edge\">\n<title>63&#45;&#45;64</title>\n<path fill=\"none\" stroke=\"#c0c0c0\" d=\"M306.3285,-293.4138C308.6367,-286.2981 311.5589,-277.2896 313.8762,-270.1457\"/>\n</g>\n<!-- 73 -->\n<g id=\"node74\" class=\"node\">\n<title>73</title>\n<ellipse fill=\"none\" stroke=\"#ff4500\" cx=\"349.8347\" cy=\"-317.6535\" rx=\"19.1842\" ry=\"12.0417\"/>\n<text text-anchor=\"middle\" x=\"349.8347\" y=\"-315.7535\" font-family=\"monospace\" font-size=\"8.00\" fill=\"#7b68ee\">73</text>\n</g>\n<!-- 63&#45;&#45;73 -->\n<g id=\"edge73\" class=\"edge\">\n<title>63&#45;&#45;73</title>\n<path fill=\"none\" stroke=\"#ffa500\" stroke-width=\"2\" d=\"M320.3683,-310.0013C320.9579,-310.1544 321.5526,-310.3089 322.1508,-310.4642\"/>\n<polygon fill=\"#ffa500\" stroke=\"#ffa500\" stroke-width=\"2\" points=\"321.3391,-313.8694 331.8978,-312.9954 323.0986,-307.0942 321.3391,-313.8694\"/>\n</g>\n<!-- 64&#45;&#45;65 -->\n<g id=\"edge149\" class=\"edge\">\n<title>64&#45;&#45;65</title>\n<path fill=\"none\" stroke=\"#c0c0c0\" d=\"M321.5956,-245.8055C323.8931,-238.3943 326.8112,-228.9813 329.099,-221.6014\"/>\n</g>\n<!-- 74 -->\n<g id=\"node75\" class=\"node\">\n<title>74</title>\n<ellipse fill=\"none\" stroke=\"#ff4500\" cx=\"365.2367\" cy=\"-270.5756\" rx=\"19.1842\" ry=\"12.0417\"/>\n<text text-anchor=\"middle\" x=\"365.2367\" y=\"-268.6756\" font-family=\"monospace\" font-size=\"8.00\" fill=\"#7b68ee\">74</text>\n</g>\n<!-- 64&#45;&#45;74 -->\n<g id=\"edge74\" class=\"edge\">\n<title>64&#45;&#45;74</title>\n<path fill=\"none\" stroke=\"#ffa500\" stroke-width=\"2\" d=\"M335.4637,-262.7134C336.1947,-262.9064 336.9339,-263.1016 337.6783,-263.2982\"/>\n<polygon fill=\"#ffa500\" stroke=\"#ffa500\" stroke-width=\"2\" points=\"336.8379,-266.6962 347.4001,-265.8654 338.6252,-259.9282 336.8379,-266.6962\"/>\n</g>\n<!-- 65&#45;&#45;66 -->\n<g id=\"edge150\" class=\"edge\">\n<title>65&#45;&#45;66</title>\n<path fill=\"none\" stroke=\"#c0c0c0\" d=\"M336.3141,-197.3502C338.4163,-189.9775 341.0863,-180.6135 343.1797,-173.2719\"/>\n</g>\n<!-- 75 -->\n<g id=\"node76\" class=\"node\">\n<title>75</title>\n<ellipse fill=\"none\" stroke=\"#ff4500\" cx=\"379.9081\" cy=\"-222.127\" rx=\"19.1842\" ry=\"12.0417\"/>\n<text text-anchor=\"middle\" x=\"379.9081\" y=\"-220.227\" font-family=\"monospace\" font-size=\"8.00\" fill=\"#7b68ee\">75</text>\n</g>\n<!-- 65&#45;&#45;75 -->\n<g id=\"edge75\" class=\"edge\">\n<title>65&#45;&#45;75</title>\n<path fill=\"none\" stroke=\"#ffa500\" stroke-width=\"2\" d=\"M350.6352,-214.2924C351.2209,-214.4491 351.8117,-214.6073 352.4059,-214.7663\"/>\n<polygon fill=\"#ffa500\" stroke=\"#ffa500\" stroke-width=\"2\" points=\"351.524,-218.1534 362.089,-217.3579 353.3339,-211.3914 351.524,-218.1534\"/>\n</g>\n<!-- 66&#45;&#45;67 -->\n<g id=\"edge151\" class=\"edge\">\n<title>66&#45;&#45;67</title>\n<path fill=\"none\" stroke=\"#c0c0c0\" d=\"M349.7928,-149.2967C351.5627,-142.6549 353.7582,-134.4166 355.5315,-127.7624\"/>\n</g>\n<!-- 76 -->\n<g id=\"node77\" class=\"node\">\n<title>76</title>\n<ellipse fill=\"none\" stroke=\"#ff4500\" cx=\"393.2774\" cy=\"-174.2965\" rx=\"19.1842\" ry=\"12.0417\"/>\n<text text-anchor=\"middle\" x=\"393.2774\" y=\"-172.3965\" font-family=\"monospace\" font-size=\"8.00\" fill=\"#7b68ee\">76</text>\n</g>\n<!-- 66&#45;&#45;76 -->\n<g id=\"edge76\" class=\"edge\">\n<title>66&#45;&#45;76</title>\n<path fill=\"none\" stroke=\"#ffa500\" stroke-width=\"2\" d=\"M364.2491,-166.1906C364.7137,-166.3203 365.1816,-166.451 365.6519,-166.5823\"/>\n<polygon fill=\"#ffa500\" stroke=\"#ffa500\" stroke-width=\"2\" points=\"365.0343,-170.0437 375.6072,-169.3622 366.917,-163.3016 365.0343,-170.0437\"/>\n</g>\n<!-- 67&#45;&#45;68 -->\n<g id=\"edge152\" class=\"edge\">\n<title>67&#45;&#45;68</title>\n<path fill=\"none\" stroke=\"#c0c0c0\" d=\"M361.811,-103.5238C363.0577,-98.5713 364.4946,-92.8631 365.7394,-87.9182\"/>\n</g>\n<!-- 77 -->\n<g id=\"node78\" class=\"node\">\n<title>77</title>\n<ellipse fill=\"none\" stroke=\"#ff4500\" cx=\"404.9479\" cy=\"-128.7434\" rx=\"19.1842\" ry=\"12.0417\"/>\n<text text-anchor=\"middle\" x=\"404.9479\" y=\"-126.8434\" font-family=\"monospace\" font-size=\"8.00\" fill=\"#7b68ee\">77</text>\n</g>\n<!-- 67&#45;&#45;77 -->\n<g id=\"edge77\" class=\"edge\">\n<title>67&#45;&#45;77</title>\n<path fill=\"none\" stroke=\"#ffa500\" stroke-width=\"2\" d=\"M376.2101,-120.6421C376.6701,-120.7718 377.1333,-120.9024 377.5989,-121.0336\"/>\n<polygon fill=\"#ffa500\" stroke=\"#ffa500\" stroke-width=\"2\" points=\"376.88,-124.4673 387.4545,-123.812 378.7793,-117.7299 376.88,-124.4673\"/>\n</g>\n<!-- 68&#45;&#45;69 -->\n<g id=\"edge153\" class=\"edge\">\n<title>68&#45;&#45;69</title>\n<path fill=\"none\" stroke=\"#c0c0c0\" d=\"M371.8132,-63.5925C372.2954,-61.6452 372.7938,-59.6326 373.2743,-57.6924\"/>\n</g>\n<!-- 78 -->\n<g id=\"node79\" class=\"node\">\n<title>78</title>\n<ellipse fill=\"none\" stroke=\"#ff4500\" cx=\"414.3859\" cy=\"-88.4532\" rx=\"19.1842\" ry=\"12.0417\"/>\n<text text-anchor=\"middle\" x=\"414.3859\" y=\"-86.5532\" font-family=\"monospace\" font-size=\"8.00\" fill=\"#7b68ee\">78</text>\n</g>\n<!-- 68&#45;&#45;78 -->\n<g id=\"edge78\" class=\"edge\">\n<title>68&#45;&#45;78</title>\n<path fill=\"none\" stroke=\"#ffa500\" stroke-width=\"2\" d=\"M386.2883,-80.6553C386.5018,-80.7146 386.7159,-80.774 386.9306,-80.8336\"/>\n<polygon fill=\"#ffa500\" stroke=\"#ffa500\" stroke-width=\"2\" points=\"386.1367,-84.2455 396.7085,-83.5472 388.0087,-77.5004 386.1367,-84.2455\"/>\n</g>\n<!-- 79 -->\n<g id=\"node80\" class=\"node\">\n<title>79</title>\n<ellipse fill=\"none\" stroke=\"#ff4500\" cx=\"421.5413\" cy=\"-57.3827\" rx=\"19.1842\" ry=\"12.0417\"/>\n<text text-anchor=\"middle\" x=\"421.5413\" y=\"-55.4827\" font-family=\"monospace\" font-size=\"8.00\" fill=\"#7b68ee\">79</text>\n</g>\n<!-- 69&#45;&#45;79 -->\n<g id=\"edge79\" class=\"edge\">\n<title>69&#45;&#45;79</title>\n<path fill=\"none\" stroke=\"#ffa500\" stroke-width=\"2\" d=\"M394.1336,-50.3706C394.2326,-50.396 394.3317,-50.4213 394.4309,-50.4467\"/>\n<polygon fill=\"#ffa500\" stroke=\"#ffa500\" stroke-width=\"2\" points=\"393.2046,-53.7456 403.7601,-52.8335 394.9397,-46.9641 393.2046,-53.7456\"/>\n</g>\n<!-- 70&#45;&#45;71 -->\n<g id=\"edge154\" class=\"edge\">\n<title>70&#45;&#45;71</title>\n<path fill=\"none\" stroke=\"#c0c0c0\" d=\"M312.8575,-415.7837C313.5216,-414.2008 314.2023,-412.5784 314.8654,-410.9978\"/>\n</g>\n<!-- 80 -->\n<g id=\"node81\" class=\"node\">\n<title>80</title>\n<ellipse fill=\"none\" stroke=\"#ff4500\" cx=\"347.6069\" cy=\"-432.4575\" rx=\"19.1842\" ry=\"12.0417\"/>\n<text text-anchor=\"middle\" x=\"347.6069\" y=\"-430.5575\" font-family=\"monospace\" font-size=\"8.00\" fill=\"#7b68ee\">80</text>\n</g>\n<!-- 70&#45;&#45;80 -->\n<g id=\"edge80\" class=\"edge\">\n<title>70&#45;&#45;80</title>\n<path fill=\"none\" stroke=\"#ffa500\" stroke-width=\"2\" d=\"M326.8057,-429.9565C326.9656,-429.9758 327.1256,-429.995 327.2857,-430.0142\"/>\n<polygon fill=\"#ffa500\" stroke=\"#ffa500\" stroke-width=\"2\" points=\"318.3796,-432.4681 328.7261,-430.1874 319.2156,-425.5181 318.3796,-432.4681\"/>\n</g>\n<!-- 71&#45;&#45;72 -->\n<g id=\"edge155\" class=\"edge\">\n<title>71&#45;&#45;72</title>\n<path fill=\"none\" stroke=\"#c0c0c0\" d=\"M324.3969,-387.2257C326.1268,-382.7061 328.0909,-377.5745 329.8135,-373.074\"/>\n</g>\n<!-- 81 -->\n<g id=\"node82\" class=\"node\">\n<title>81</title>\n<ellipse fill=\"none\" stroke=\"#ff4500\" cx=\"360.9683\" cy=\"-407.1123\" rx=\"19.1842\" ry=\"12.0417\"/>\n<text text-anchor=\"middle\" x=\"360.9683\" y=\"-405.2123\" font-family=\"monospace\" font-size=\"8.00\" fill=\"#7b68ee\">81</text>\n</g>\n<!-- 71&#45;&#45;81 -->\n<g id=\"edge81\" class=\"edge\">\n<title>71&#45;&#45;81</title>\n<path fill=\"none\" stroke=\"#ffa500\" stroke-width=\"2\" d=\"M338.4558,-402.8081C338.5409,-402.8244 338.6261,-402.8407 338.7113,-402.8569\"/>\n<polygon fill=\"#ffa500\" stroke=\"#ffa500\" stroke-width=\"2\" points=\"332.0712,-405.1506 342.5507,-403.591 333.3859,-398.2752 332.0712,-405.1506\"/>\n</g>\n<!-- 72&#45;&#45;73 -->\n<g id=\"edge156\" class=\"edge\">\n<title>72&#45;&#45;73</title>\n<path fill=\"none\" stroke=\"#c0c0c0\" d=\"M338.5687,-349.3494C340.756,-343.1955 343.4172,-335.7085 345.6038,-329.5567\"/>\n</g>\n<!-- 82 -->\n<g id=\"node83\" class=\"node\">\n<title>82</title>\n<ellipse fill=\"none\" stroke=\"#ff4500\" cx=\"376.1191\" cy=\"-370.4793\" rx=\"19.1842\" ry=\"12.0417\"/>\n<text text-anchor=\"middle\" x=\"376.1191\" y=\"-368.5793\" font-family=\"monospace\" font-size=\"8.00\" fill=\"#7b68ee\">82</text>\n</g>\n<!-- 72&#45;&#45;82 -->\n<g id=\"edge82\" class=\"edge\">\n<title>72&#45;&#45;82</title>\n<path fill=\"none\" stroke=\"#ffa500\" stroke-width=\"2\" d=\"M352.7824,-365.3345C352.8918,-365.3586 353.0012,-365.3827 353.1107,-365.4069\"/>\n<polygon fill=\"#ffa500\" stroke=\"#ffa500\" stroke-width=\"2\" points=\"347.5301,-367.7605 358.0492,-366.4956 349.0372,-360.9246 347.5301,-367.7605\"/>\n</g>\n<!-- 73&#45;&#45;74 -->\n<g id=\"edge157\" class=\"edge\">\n<title>73&#45;&#45;74</title>\n<path fill=\"none\" stroke=\"#c0c0c0\" d=\"M353.7213,-305.7737C356.0383,-298.6916 358.9716,-289.7255 361.2978,-282.6153\"/>\n</g>\n<!-- 83 -->\n<g id=\"node84\" class=\"node\">\n<title>83</title>\n<ellipse fill=\"none\" stroke=\"#ff4500\" cx=\"391.8198\" cy=\"-327.7465\" rx=\"19.1842\" ry=\"12.0417\"/>\n<text text-anchor=\"middle\" x=\"391.8198\" y=\"-325.8465\" font-family=\"monospace\" font-size=\"8.00\" fill=\"#7b68ee\">83</text>\n</g>\n<!-- 73&#45;&#45;83 -->\n<g id=\"edge83\" class=\"edge\">\n<title>73&#45;&#45;83</title>\n<path fill=\"none\" stroke=\"#ffa500\" stroke-width=\"2\" d=\"M367.8838,-321.9924C368.0061,-322.0218 368.1285,-322.0512 368.2509,-322.0807\"/>\n<polygon fill=\"#ffa500\" stroke=\"#ffa500\" stroke-width=\"2\" points=\"363.2448,-324.4768 373.7859,-323.4112 364.8811,-317.6707 363.2448,-324.4768\"/>\n</g>\n<!-- 74&#45;&#45;75 -->\n<g id=\"edge158\" class=\"edge\">\n<title>74&#45;&#45;75</title>\n<path fill=\"none\" stroke=\"#c0c0c0\" d=\"M368.9389,-258.35C371.1799,-250.9495 374.0263,-241.5502 376.2579,-234.1809\"/>\n</g>\n<!-- 84 -->\n<g id=\"node85\" class=\"node\">\n<title>84</title>\n<ellipse fill=\"none\" stroke=\"#ff4500\" cx=\"407.1621\" cy=\"-281.249\" rx=\"19.1842\" ry=\"12.0417\"/>\n<text text-anchor=\"middle\" x=\"407.1621\" y=\"-279.349\" font-family=\"monospace\" font-size=\"8.00\" fill=\"#7b68ee\">84</text>\n</g>\n<!-- 74&#45;&#45;84 -->\n<g id=\"edge84\" class=\"edge\">\n<title>74&#45;&#45;84</title>\n<path fill=\"none\" stroke=\"#ffa500\" stroke-width=\"2\" d=\"M383.2601,-275.164C383.3877,-275.1965 383.5155,-275.229 383.6434,-275.2616\"/>\n<polygon fill=\"#ffa500\" stroke=\"#ffa500\" stroke-width=\"2\" points=\"378.8655,-277.6568 389.4199,-276.7322 380.5926,-270.8731 378.8655,-277.6568\"/>\n</g>\n<!-- 75&#45;&#45;76 -->\n<g id=\"edge159\" class=\"edge\">\n<title>75&#45;&#45;76</title>\n<path fill=\"none\" stroke=\"#c0c0c0\" d=\"M383.2817,-210.0574C385.3239,-202.7513 387.9176,-193.4719 389.9512,-186.1966\"/>\n</g>\n<!-- 85 -->\n<g id=\"node86\" class=\"node\">\n<title>85</title>\n<ellipse fill=\"none\" stroke=\"#ff4500\" cx=\"421.3907\" cy=\"-233.2747\" rx=\"19.1842\" ry=\"12.0417\"/>\n<text text-anchor=\"middle\" x=\"421.3907\" y=\"-231.3747\" font-family=\"monospace\" font-size=\"8.00\" fill=\"#7b68ee\">85</text>\n</g>\n<!-- 75&#45;&#45;85 -->\n<g id=\"edge85\" class=\"edge\">\n<title>75&#45;&#45;85</title>\n<path fill=\"none\" stroke=\"#ffa500\" stroke-width=\"2\" d=\"M397.7412,-226.9194C397.862,-226.9518 397.9829,-226.9843 398.1039,-227.0168\"/>\n<polygon fill=\"#ffa500\" stroke=\"#ffa500\" stroke-width=\"2\" points=\"393.0069,-229.2712 403.5727,-228.4865 394.8237,-222.511 393.0069,-229.2712\"/>\n</g>\n<!-- 76&#45;&#45;77 -->\n<g id=\"edge160\" class=\"edge\">\n<title>76&#45;&#45;77</title>\n<path fill=\"none\" stroke=\"#c0c0c0\" d=\"M396.3437,-162.328C398.0456,-155.6851 400.1565,-147.4455 401.8616,-140.7902\"/>\n</g>\n<!-- 86 -->\n<g id=\"node87\" class=\"node\">\n<title>86</title>\n<ellipse fill=\"none\" stroke=\"#ff4500\" cx=\"434.4393\" cy=\"-185.8475\" rx=\"19.1842\" ry=\"12.0417\"/>\n<text text-anchor=\"middle\" x=\"434.4393\" y=\"-183.9475\" font-family=\"monospace\" font-size=\"8.00\" fill=\"#7b68ee\">86</text>\n</g>\n<!-- 76&#45;&#45;86 -->\n<g id=\"edge86\" class=\"edge\">\n<title>76&#45;&#45;86</title>\n<path fill=\"none\" stroke=\"#ffa500\" stroke-width=\"2\" d=\"M410.9727,-179.2622C411.0925,-179.2958 411.2125,-179.3295 411.3326,-179.3632\"/>\n<polygon fill=\"#ffa500\" stroke=\"#ffa500\" stroke-width=\"2\" points=\"406.1853,-181.5538 416.759,-180.886 408.0766,-174.8142 406.1853,-181.5538\"/>\n</g>\n<!-- 77&#45;&#45;78 -->\n<g id=\"edge161\" class=\"edge\">\n<title>77&#45;&#45;78</title>\n<path fill=\"none\" stroke=\"#c0c0c0\" d=\"M407.8309,-116.4361C409.0235,-111.3449 410.4015,-105.4624 411.5853,-100.4087\"/>\n</g>\n<!-- 87 -->\n<g id=\"node88\" class=\"node\">\n<title>87</title>\n<ellipse fill=\"none\" stroke=\"#ff4500\" cx=\"445.7178\" cy=\"-140.7765\" rx=\"19.1842\" ry=\"12.0417\"/>\n<text text-anchor=\"middle\" x=\"445.7178\" y=\"-138.8765\" font-family=\"monospace\" font-size=\"8.00\" fill=\"#7b68ee\">87</text>\n</g>\n<!-- 77&#45;&#45;87 -->\n<g id=\"edge87\" class=\"edge\">\n<title>77&#45;&#45;87</title>\n<path fill=\"none\" stroke=\"#ffa500\" stroke-width=\"2\" d=\"M422.4746,-133.9163C422.5933,-133.9514 422.7121,-133.9865 422.8311,-134.0216\"/>\n<polygon fill=\"#ffa500\" stroke=\"#ffa500\" stroke-width=\"2\" points=\"417.6241,-136.1339 428.2059,-135.6079 419.6057,-129.4202 417.6241,-136.1339\"/>\n</g>\n<!-- 78&#45;&#45;79 -->\n<g id=\"edge162\" class=\"edge\">\n<title>78&#45;&#45;79</title>\n<path fill=\"none\" stroke=\"#c0c0c0\" d=\"M417.1319,-76.5294C417.6679,-74.202 418.2303,-71.7601 418.7672,-69.4287\"/>\n</g>\n<!-- 88 -->\n<g id=\"node89\" class=\"node\">\n<title>88</title>\n<ellipse fill=\"none\" stroke=\"#ff4500\" cx=\"454.7869\" cy=\"-100.5665\" rx=\"19.1842\" ry=\"12.0417\"/>\n<text text-anchor=\"middle\" x=\"454.7869\" y=\"-98.6665\" font-family=\"monospace\" font-size=\"8.00\" fill=\"#7b68ee\">88</text>\n</g>\n<!-- 78&#45;&#45;88 -->\n<g id=\"edge88\" class=\"edge\">\n<title>78&#45;&#45;88</title>\n<path fill=\"none\" stroke=\"#ffa500\" stroke-width=\"2\" d=\"M431.754,-93.6606C431.8716,-93.6959 431.9894,-93.7312 432.1073,-93.7666\"/>\n<polygon fill=\"#ffa500\" stroke=\"#ffa500\" stroke-width=\"2\" points=\"426.8495,-95.8439 437.4334,-95.3635 428.8599,-89.1388 426.8495,-95.8439\"/>\n</g>\n<!-- 89 -->\n<g id=\"node90\" class=\"node\">\n<title>89</title>\n<ellipse fill=\"none\" stroke=\"#ff4500\" cx=\"461.2783\" cy=\"-69.2284\" rx=\"19.1842\" ry=\"12.0417\"/>\n<text text-anchor=\"middle\" x=\"461.2783\" y=\"-67.3284\" font-family=\"monospace\" font-size=\"8.00\" fill=\"#7b68ee\">89</text>\n</g>\n<!-- 79&#45;&#45;89 -->\n<g id=\"edge89\" class=\"edge\">\n<title>79&#45;&#45;89</title>\n<path fill=\"none\" stroke=\"#ffa500\" stroke-width=\"2\" d=\"M439.0862,-62.6129C439.1798,-62.6408 439.2734,-62.6687 439.3671,-62.6966\"/>\n<polygon fill=\"#ffa500\" stroke=\"#ffa500\" stroke-width=\"2\" points=\"433.0128,-64.4545 443.596,-63.9573 435.0127,-57.7462 433.0128,-64.4545\"/>\n</g>\n<!-- 80&#45;&#45;81 -->\n<g id=\"edge163\" class=\"edge\">\n<title>80&#45;&#45;81</title>\n<path fill=\"none\" stroke=\"#c0c0c0\" d=\"M353.6621,-420.9714C354.0488,-420.2379 354.4383,-419.4991 354.8253,-418.7649\"/>\n</g>\n<!-- 90 -->\n<g id=\"node91\" class=\"node\">\n<title>90</title>\n<ellipse fill=\"none\" stroke=\"#ff4500\" cx=\"378.6193\" cy=\"-436.1747\" rx=\"19.1842\" ry=\"12.0417\"/>\n<text text-anchor=\"middle\" x=\"378.6193\" y=\"-434.2747\" font-family=\"monospace\" font-size=\"8.00\" fill=\"#7b68ee\">90</text>\n</g>\n<!-- 80&#45;&#45;90 -->\n<g id=\"edge90\" class=\"edge\">\n<title>80&#45;&#45;90</title>\n<path fill=\"none\" stroke=\"#ffa500\" stroke-width=\"2\" d=\"M366.3624,-434.7055C366.4134,-434.7116 366.4644,-434.7178 366.5153,-434.7239\"/>\n<polygon fill=\"#ffa500\" stroke=\"#ffa500\" stroke-width=\"2\" points=\"356.3204,-437.0215 366.6679,-434.7421 357.1575,-430.0712 356.3204,-437.0215\"/>\n</g>\n<!-- 81&#45;&#45;82 -->\n<g id=\"edge164\" class=\"edge\">\n<title>81&#45;&#45;82</title>\n<path fill=\"none\" stroke=\"#c0c0c0\" d=\"M365.9293,-395.1173C367.6553,-390.944 369.5877,-386.2716 371.3019,-382.1269\"/>\n</g>\n<!-- 91 -->\n<g id=\"node92\" class=\"node\">\n<title>91</title>\n<ellipse fill=\"none\" stroke=\"#ff4500\" cx=\"392.9682\" cy=\"-412.7731\" rx=\"19.1842\" ry=\"12.0417\"/>\n<text text-anchor=\"middle\" x=\"392.9682\" y=\"-410.8731\" font-family=\"monospace\" font-size=\"8.00\" fill=\"#7b68ee\">91</text>\n</g>\n<!-- 81&#45;&#45;91 -->\n<g id=\"edge91\" class=\"edge\">\n<title>81&#45;&#45;91</title>\n<path fill=\"none\" stroke=\"#ffa500\" stroke-width=\"2\" d=\"M379.5828,-410.4052C379.6378,-410.415 379.6927,-410.4247 379.7476,-410.4344\"/>\n<polygon fill=\"#ffa500\" stroke=\"#ffa500\" stroke-width=\"2\" points=\"369.4536,-412.1632 379.9122,-410.4635 370.6764,-405.2701 369.4536,-412.1632\"/>\n</g>\n<!-- 82&#45;&#45;83 -->\n<g id=\"edge165\" class=\"edge\">\n<title>82&#45;&#45;83</title>\n<path fill=\"none\" stroke=\"#c0c0c0\" d=\"M380.5763,-358.3481C382.7522,-352.4261 385.3587,-345.3319 387.514,-339.4658\"/>\n</g>\n<!-- 92 -->\n<g id=\"node93\" class=\"node\">\n<title>92</title>\n<ellipse fill=\"none\" stroke=\"#ff4500\" cx=\"408.373\" cy=\"-377.2586\" rx=\"19.1842\" ry=\"12.0417\"/>\n<text text-anchor=\"middle\" x=\"408.373\" y=\"-375.3586\" font-family=\"monospace\" font-size=\"8.00\" fill=\"#7b68ee\">92</text>\n</g>\n<!-- 82&#45;&#45;92 -->\n<g id=\"edge92\" class=\"edge\">\n<title>82&#45;&#45;92</title>\n<path fill=\"none\" stroke=\"#ffa500\" stroke-width=\"2\" d=\"M394.5073,-374.3442C394.5639,-374.3561 394.6204,-374.368 394.6769,-374.3799\"/>\n<polygon fill=\"#ffa500\" stroke=\"#ffa500\" stroke-width=\"2\" points=\"384.3385,-375.7792 394.8463,-374.4155 385.7815,-368.9288 384.3385,-375.7792\"/>\n</g>\n<!-- 83&#45;&#45;84 -->\n<g id=\"edge166\" class=\"edge\">\n<title>83&#45;&#45;84</title>\n<path fill=\"none\" stroke=\"#c0c0c0\" d=\"M395.8508,-315.5298C398.1236,-308.6416 400.9515,-300.0714 403.2111,-293.2233\"/>\n</g>\n<!-- 93 -->\n<g id=\"node94\" class=\"node\">\n<title>93</title>\n<ellipse fill=\"none\" stroke=\"#ff4500\" cx=\"423.9765\" cy=\"-335.3584\" rx=\"19.1842\" ry=\"12.0417\"/>\n<text text-anchor=\"middle\" x=\"423.9765\" y=\"-333.4584\" font-family=\"monospace\" font-size=\"8.00\" fill=\"#7b68ee\">93</text>\n</g>\n<!-- 83&#45;&#45;93 -->\n<g id=\"edge93\" class=\"edge\">\n<title>83&#45;&#45;93</title>\n<path fill=\"none\" stroke=\"#ffa500\" stroke-width=\"2\" d=\"M409.7785,-331.9975C409.8361,-332.0112 409.8936,-332.0248 409.9511,-332.0384\"/>\n<polygon fill=\"#ffa500\" stroke=\"#ffa500\" stroke-width=\"2\" points=\"399.5844,-333.1773 410.1234,-332.0792 401.1999,-326.3654 399.5844,-333.1773\"/>\n</g>\n<!-- 84&#45;&#45;85 -->\n<g id=\"edge167\" class=\"edge\">\n<title>84&#45;&#45;85</title>\n<path fill=\"none\" stroke=\"#c0c0c0\" d=\"M410.7526,-269.1431C412.926,-261.815 415.6864,-252.5078 417.8507,-245.2106\"/>\n</g>\n<!-- 94 -->\n<g id=\"node95\" class=\"node\">\n<title>94</title>\n<ellipse fill=\"none\" stroke=\"#ff4500\" cx=\"439.4507\" cy=\"-289.6643\" rx=\"19.1842\" ry=\"12.0417\"/>\n<text text-anchor=\"middle\" x=\"439.4507\" y=\"-287.7643\" font-family=\"monospace\" font-size=\"8.00\" fill=\"#7b68ee\">94</text>\n</g>\n<!-- 84&#45;&#45;94 -->\n<g id=\"edge94\" class=\"edge\">\n<title>84&#45;&#45;94</title>\n<path fill=\"none\" stroke=\"#ffa500\" stroke-width=\"2\" d=\"M424.818,-285.8506C424.8768,-285.866 424.9357,-285.8813 424.9945,-285.8967\"/>\n<polygon fill=\"#ffa500\" stroke=\"#ffa500\" stroke-width=\"2\" points=\"414.6099,-286.8035 425.171,-285.9426 416.3782,-280.0296 414.6099,-286.8035\"/>\n</g>\n<!-- 85&#45;&#45;86 -->\n<g id=\"edge168\" class=\"edge\">\n<title>85&#45;&#45;86</title>\n<path fill=\"none\" stroke=\"#c0c0c0\" d=\"M424.6835,-221.3068C426.6464,-214.1721 429.1315,-205.1395 431.1023,-197.9765\"/>\n</g>\n<!-- 95 -->\n<g id=\"node96\" class=\"node\">\n<title>95</title>\n<ellipse fill=\"none\" stroke=\"#ff4500\" cx=\"453.3121\" cy=\"-242.0826\" rx=\"19.1842\" ry=\"12.0417\"/>\n<text text-anchor=\"middle\" x=\"453.3121\" y=\"-240.1826\" font-family=\"monospace\" font-size=\"8.00\" fill=\"#7b68ee\">95</text>\n</g>\n<!-- 85&#45;&#45;95 -->\n<g id=\"edge95\" class=\"edge\">\n<title>85&#45;&#45;95</title>\n<path fill=\"none\" stroke=\"#ffa500\" stroke-width=\"2\" d=\"M439.218,-238.1937C439.2751,-238.2095 439.3322,-238.2252 439.3893,-238.241\"/>\n<polygon fill=\"#ffa500\" stroke=\"#ffa500\" stroke-width=\"2\" points=\"428.988,-238.9982 439.5603,-238.2882 430.8527,-232.2502 428.988,-238.9982\"/>\n</g>\n<!-- 86&#45;&#45;87 -->\n<g id=\"edge169\" class=\"edge\">\n<title>86&#45;&#45;87</title>\n<path fill=\"none\" stroke=\"#c0c0c0\" d=\"M437.5212,-173.5316C439.1387,-167.0678 441.1123,-159.1808 442.7176,-152.7659\"/>\n</g>\n<!-- 96 -->\n<g id=\"node97\" class=\"node\">\n<title>96</title>\n<ellipse fill=\"none\" stroke=\"#ff4500\" cx=\"465.9055\" cy=\"-195.2167\" rx=\"19.1842\" ry=\"12.0417\"/>\n<text text-anchor=\"middle\" x=\"465.9055\" y=\"-193.3167\" font-family=\"monospace\" font-size=\"8.00\" fill=\"#7b68ee\">96</text>\n</g>\n<!-- 86&#45;&#45;96 -->\n<g id=\"edge96\" class=\"edge\">\n<title>86&#45;&#45;96</title>\n<path fill=\"none\" stroke=\"#ffa500\" stroke-width=\"2\" d=\"M452.0124,-191.0799C452.0687,-191.0967 452.125,-191.1135 452.1812,-191.1302\"/>\n<polygon fill=\"#ffa500\" stroke=\"#ffa500\" stroke-width=\"2\" points=\"441.7652,-191.6772 452.3499,-191.1804 443.7657,-184.9681 441.7652,-191.6772\"/>\n</g>\n<!-- 87&#45;&#45;88 -->\n<g id=\"edge170\" class=\"edge\">\n<title>87&#45;&#45;88</title>\n<path fill=\"none\" stroke=\"#c0c0c0\" d=\"M448.4881,-128.4937C449.6341,-123.4126 450.9582,-117.5418 452.0958,-112.4982\"/>\n</g>\n<!-- 97 -->\n<g id=\"node98\" class=\"node\">\n<title>97</title>\n<ellipse fill=\"none\" stroke=\"#ff4500\" cx=\"477.1263\" cy=\"-150.5384\" rx=\"19.1842\" ry=\"12.0417\"/>\n<text text-anchor=\"middle\" x=\"477.1263\" y=\"-148.6384\" font-family=\"monospace\" font-size=\"8.00\" fill=\"#7b68ee\">97</text>\n</g>\n<!-- 87&#45;&#45;97 -->\n<g id=\"edge97\" class=\"edge\">\n<title>87&#45;&#45;97</title>\n<path fill=\"none\" stroke=\"#ffa500\" stroke-width=\"2\" d=\"M462.8924,-146.1144C462.9497,-146.1322 463.0069,-146.15 463.0642,-146.1678\"/>\n<polygon fill=\"#ffa500\" stroke=\"#ffa500\" stroke-width=\"2\" points=\"452.6459,-146.5916 463.2358,-146.2212 454.7263,-139.9069 452.6459,-146.5916\"/>\n</g>\n<!-- 88&#45;&#45;89 -->\n<g id=\"edge171\" class=\"edge\">\n<title>88&#45;&#45;89</title>\n<path fill=\"none\" stroke=\"#c0c0c0\" d=\"M457.2781,-88.54C457.7643,-86.1926 458.2745,-83.7296 458.7616,-81.3782\"/>\n</g>\n<!-- 98 -->\n<g id=\"node99\" class=\"node\">\n<title>98</title>\n<ellipse fill=\"none\" stroke=\"#ff4500\" cx=\"485.7284\" cy=\"-110.7175\" rx=\"19.1842\" ry=\"12.0417\"/>\n<text text-anchor=\"middle\" x=\"485.7284\" y=\"-108.8175\" font-family=\"monospace\" font-size=\"8.00\" fill=\"#7b68ee\">98</text>\n</g>\n<!-- 88&#45;&#45;98 -->\n<g id=\"edge98\" class=\"edge\">\n<title>88&#45;&#45;98</title>\n<path fill=\"none\" stroke=\"#ffa500\" stroke-width=\"2\" d=\"M472.0669,-106.2356C472.1223,-106.2537 472.1776,-106.2719 472.2329,-106.29\"/>\n<polygon fill=\"#ffa500\" stroke=\"#ffa500\" stroke-width=\"2\" points=\"461.8043,-106.549 472.3987,-106.3444 463.9891,-99.8976 461.8043,-106.549\"/>\n</g>\n<!-- 99 -->\n<g id=\"node100\" class=\"node\">\n<title>99</title>\n<ellipse fill=\"none\" stroke=\"#ff4500\" cx=\"491.5402\" cy=\"-79.8432\" rx=\"19.1842\" ry=\"12.0417\"/>\n<text text-anchor=\"middle\" x=\"491.5402\" y=\"-77.9432\" font-family=\"monospace\" font-size=\"8.00\" fill=\"#7b68ee\">99</text>\n</g>\n<!-- 89&#45;&#45;99 -->\n<g id=\"edge99\" class=\"edge\">\n<title>89&#45;&#45;99</title>\n<path fill=\"none\" stroke=\"#ffa500\" stroke-width=\"2\" d=\"M478.1788,-75.1565C478.233,-75.1755 478.2871,-75.1945 478.3412,-75.2135\"/>\n<polygon fill=\"#ffa500\" stroke=\"#ffa500\" stroke-width=\"2\" points=\"467.9069,-75.2594 478.5034,-75.2703 470.2265,-68.6537 467.9069,-75.2594\"/>\n</g>\n<!-- 90&#45;&#45;91 -->\n<g id=\"edge172\" class=\"edge\">\n<title>90&#45;&#45;91</title>\n<path fill=\"none\" stroke=\"#c0c0c0\" d=\"M385.6256,-424.7481C385.7394,-424.5625 385.8533,-424.3767 385.9672,-424.1911\"/>\n</g>\n<!-- 91&#45;&#45;92 -->\n<g id=\"edge173\" class=\"edge\">\n<title>91&#45;&#45;92</title>\n<path fill=\"none\" stroke=\"#c0c0c0\" d=\"M398.0123,-401.1443C399.6971,-397.2602 401.5752,-392.9303 403.2648,-389.0351\"/>\n</g>\n<!-- 92&#45;&#45;93 -->\n<g id=\"edge174\" class=\"edge\">\n<title>92&#45;&#45;93</title>\n<path fill=\"none\" stroke=\"#c0c0c0\" d=\"M412.8026,-365.3637C414.929,-359.6539 417.4691,-352.8327 419.5899,-347.1379\"/>\n</g>\n<!-- 93&#45;&#45;94 -->\n<g id=\"edge175\" class=\"edge\">\n<title>93&#45;&#45;94</title>\n<path fill=\"none\" stroke=\"#c0c0c0\" d=\"M428.0422,-323.3528C430.3346,-316.5836 433.1867,-308.1615 435.4657,-301.4317\"/>\n</g>\n<!-- 94&#45;&#45;95 -->\n<g id=\"edge176\" class=\"edge\">\n<title>94&#45;&#45;95</title>\n<path fill=\"none\" stroke=\"#c0c0c0\" d=\"M442.9485,-277.6575C445.0658,-270.3894 447.755,-261.1582 449.8634,-253.9208\"/>\n</g>\n<!-- 95&#45;&#45;96 -->\n<g id=\"edge177\" class=\"edge\">\n<title>95&#45;&#45;96</title>\n<path fill=\"none\" stroke=\"#c0c0c0\" d=\"M456.6209,-229.7691C458.4865,-222.8264 460.8076,-214.1883 462.6624,-207.2858\"/>\n</g>\n<!-- 96&#45;&#45;97 -->\n<g id=\"edge178\" class=\"edge\">\n<title>96&#45;&#45;97</title>\n<path fill=\"none\" stroke=\"#c0c0c0\" d=\"M468.9717,-183.0082C470.5809,-176.6007 472.5444,-168.7824 474.1414,-162.4234\"/>\n</g>\n<!-- 97&#45;&#45;98 -->\n<g id=\"edge179\" class=\"edge\">\n<title>97&#45;&#45;98</title>\n<path fill=\"none\" stroke=\"#c0c0c0\" d=\"M479.7539,-138.3745C480.8212,-133.434 482.0512,-127.7398 483.1168,-122.807\"/>\n</g>\n<!-- 98&#45;&#45;99 -->\n<g id=\"edge180\" class=\"edge\">\n<title>98&#45;&#45;99</title>\n<path fill=\"none\" stroke=\"#c0c0c0\" d=\"M488.0254,-98.5152C488.4315,-96.3577 488.8542,-94.1119 489.2599,-91.9569\"/>\n</g>\n</g>\n</svg>\n"
          },
          "metadata": {},
          "execution_count": 126
        }
      ]
    },
    {
      "cell_type": "code",
      "metadata": {
        "colab": {
          "base_uri": "https://localhost:8080/",
          "height": 667
        },
        "id": "JQKkNgEPrnOA",
        "outputId": "b2881145-fdd1-46c6-b8a4-1d47c833144d"
      },
      "source": [
        "path, tPath, aristas = showInfoBFS(GC, 39, 95)\n",
        "print(path)\n",
        "print(aristas)\n",
        "adjlShow(GC,path=tPath)"
      ],
      "execution_count": 127,
      "outputs": [
        {
          "output_type": "stream",
          "name": "stdout",
          "text": [
            "[95, 85, 75, 65, 55, 45, 35, 36, 37, 38, 39]\n",
            "10\n"
          ]
        },
        {
          "output_type": "execute_result",
          "data": {
            "text/plain": [
              "<graphviz.dot.Graph at 0x7f3deb1472d0>"
            ],
            "image/svg+xml": "<?xml version=\"1.0\" encoding=\"UTF-8\" standalone=\"no\"?>\n<!DOCTYPE svg PUBLIC \"-//W3C//DTD SVG 1.1//EN\"\n \"http://www.w3.org/Graphics/SVG/1.1/DTD/svg11.dtd\">\n<!-- Generated by graphviz version 2.40.1 (20161225.0304)\n -->\n<!-- Title: G Pages: 1 -->\n<svg width=\"512pt\" height=\"458pt\"\n viewBox=\"0.00 0.00 512.11 457.91\" xmlns=\"http://www.w3.org/2000/svg\" xmlns:xlink=\"http://www.w3.org/1999/xlink\">\n<g id=\"graph0\" class=\"graph\" transform=\"scale(1 1) rotate(0) translate(4 453.9098)\">\n<title>G</title>\n<polygon fill=\"#ffffff\" stroke=\"transparent\" points=\"-4,4 -4,-453.9098 508.1144,-453.9098 508.1144,4 -4,4\"/>\n<!-- 0 -->\n<g id=\"node1\" class=\"node\">\n<title>0</title>\n<ellipse fill=\"none\" stroke=\"#ff4500\" cx=\"17.507\" cy=\"-337.9766\" rx=\"15.6129\" ry=\"12.0417\"/>\n<text text-anchor=\"middle\" x=\"17.507\" y=\"-336.0766\" font-family=\"monospace\" font-size=\"8.00\" fill=\"#7b68ee\">0</text>\n</g>\n<!-- 1 -->\n<g id=\"node2\" class=\"node\">\n<title>1</title>\n<ellipse fill=\"none\" stroke=\"#ff4500\" cx=\"15.5563\" cy=\"-313.3574\" rx=\"15.6129\" ry=\"12.0417\"/>\n<text text-anchor=\"middle\" x=\"15.5563\" y=\"-311.4574\" font-family=\"monospace\" font-size=\"8.00\" fill=\"#7b68ee\">1</text>\n</g>\n<!-- 0&#45;&#45;1 -->\n<g id=\"edge11\" class=\"edge\">\n<title>0&#45;&#45;1</title>\n<path fill=\"none\" stroke=\"#c0c0c0\" d=\"M16.5545,-325.9555C16.5391,-325.7602 16.5236,-325.5648 16.5081,-325.3695\"/>\n</g>\n<!-- 10 -->\n<g id=\"node11\" class=\"node\">\n<title>10</title>\n<ellipse fill=\"none\" stroke=\"#ff4500\" cx=\"46.8066\" cy=\"-348.4712\" rx=\"19.1842\" ry=\"12.0417\"/>\n<text text-anchor=\"middle\" x=\"46.8066\" y=\"-346.5712\" font-family=\"monospace\" font-size=\"8.00\" fill=\"#7b68ee\">10</text>\n</g>\n<!-- 0&#45;&#45;10 -->\n<g id=\"edge12\" class=\"edge\">\n<title>0&#45;&#45;10</title>\n<path fill=\"none\" stroke=\"#c0c0c0\" d=\"M31.8135,-343.1009C31.9297,-343.1426 32.0459,-343.1842 32.1621,-343.2258\"/>\n</g>\n<!-- 2 -->\n<g id=\"node3\" class=\"node\">\n<title>2</title>\n<ellipse fill=\"none\" stroke=\"#ff4500\" cx=\"21.1414\" cy=\"-277.5732\" rx=\"15.6129\" ry=\"12.0417\"/>\n<text text-anchor=\"middle\" x=\"21.1414\" y=\"-275.6732\" font-family=\"monospace\" font-size=\"8.00\" fill=\"#7b68ee\">2</text>\n</g>\n<!-- 1&#45;&#45;2 -->\n<g id=\"edge13\" class=\"edge\">\n<title>1&#45;&#45;2</title>\n<path fill=\"none\" stroke=\"#c0c0c0\" d=\"M17.4472,-301.2425C18.0295,-297.5117 18.6703,-293.4056 19.2525,-289.6756\"/>\n</g>\n<!-- 11 -->\n<g id=\"node12\" class=\"node\">\n<title>11</title>\n<ellipse fill=\"none\" stroke=\"#ff4500\" cx=\"46.7464\" cy=\"-323.5334\" rx=\"19.1842\" ry=\"12.0417\"/>\n<text text-anchor=\"middle\" x=\"46.7464\" y=\"-321.6334\" font-family=\"monospace\" font-size=\"8.00\" fill=\"#7b68ee\">11</text>\n</g>\n<!-- 1&#45;&#45;11 -->\n<g id=\"edge14\" class=\"edge\">\n<title>1&#45;&#45;11</title>\n<path fill=\"none\" stroke=\"#c0c0c0\" d=\"M30.0556,-318.0879C30.1829,-318.1294 30.3103,-318.171 30.4377,-318.2126\"/>\n</g>\n<!-- 3 -->\n<g id=\"node4\" class=\"node\">\n<title>3</title>\n<ellipse fill=\"none\" stroke=\"#ff4500\" cx=\"29.7624\" cy=\"-236.4488\" rx=\"15.6129\" ry=\"12.0417\"/>\n<text text-anchor=\"middle\" x=\"29.7624\" y=\"-234.5488\" font-family=\"monospace\" font-size=\"8.00\" fill=\"#7b68ee\">3</text>\n</g>\n<!-- 2&#45;&#45;3 -->\n<g id=\"edge15\" class=\"edge\">\n<title>2&#45;&#45;3</title>\n<path fill=\"none\" stroke=\"#c0c0c0\" d=\"M23.6813,-265.457C24.8138,-260.055 26.1435,-253.7118 27.2703,-248.3368\"/>\n</g>\n<!-- 12 -->\n<g id=\"node13\" class=\"node\">\n<title>12</title>\n<ellipse fill=\"none\" stroke=\"#ff4500\" cx=\"53.0239\" cy=\"-286.951\" rx=\"19.1842\" ry=\"12.0417\"/>\n<text text-anchor=\"middle\" x=\"53.0239\" y=\"-285.051\" font-family=\"monospace\" font-size=\"8.00\" fill=\"#7b68ee\">12</text>\n</g>\n<!-- 2&#45;&#45;12 -->\n<g id=\"edge16\" class=\"edge\">\n<title>2&#45;&#45;12</title>\n<path fill=\"none\" stroke=\"#c0c0c0\" d=\"M35.9626,-281.9327C36.0927,-281.9709 36.2229,-282.0092 36.3531,-282.0475\"/>\n</g>\n<!-- 4 -->\n<g id=\"node5\" class=\"node\">\n<title>4</title>\n<ellipse fill=\"none\" stroke=\"#ff4500\" cx=\"40.0794\" cy=\"-192.444\" rx=\"15.6129\" ry=\"12.0417\"/>\n<text text-anchor=\"middle\" x=\"40.0794\" y=\"-190.544\" font-family=\"monospace\" font-size=\"8.00\" fill=\"#7b68ee\">4</text>\n</g>\n<!-- 3&#45;&#45;4 -->\n<g id=\"edge17\" class=\"edge\">\n<title>3&#45;&#45;4</title>\n<path fill=\"none\" stroke=\"#c0c0c0\" d=\"M32.5816,-224.4243C34.0373,-218.2152 35.8084,-210.661 37.2637,-204.454\"/>\n</g>\n<!-- 13 -->\n<g id=\"node14\" class=\"node\">\n<title>13</title>\n<ellipse fill=\"none\" stroke=\"#ff4500\" cx=\"62.2209\" cy=\"-244.8028\" rx=\"19.1842\" ry=\"12.0417\"/>\n<text text-anchor=\"middle\" x=\"62.2209\" y=\"-242.9028\" font-family=\"monospace\" font-size=\"8.00\" fill=\"#7b68ee\">13</text>\n</g>\n<!-- 3&#45;&#45;13 -->\n<g id=\"edge18\" class=\"edge\">\n<title>3&#45;&#45;13</title>\n<path fill=\"none\" stroke=\"#c0c0c0\" d=\"M44.8514,-240.3323C44.9838,-240.3664 45.1164,-240.4005 45.249,-240.4347\"/>\n</g>\n<!-- 5 -->\n<g id=\"node6\" class=\"node\">\n<title>5</title>\n<ellipse fill=\"none\" stroke=\"#ff4500\" cx=\"51.6149\" cy=\"-148.3126\" rx=\"15.6129\" ry=\"12.0417\"/>\n<text text-anchor=\"middle\" x=\"51.6149\" y=\"-146.4126\" font-family=\"monospace\" font-size=\"8.00\" fill=\"#7b68ee\">5</text>\n</g>\n<!-- 4&#45;&#45;5 -->\n<g id=\"edge19\" class=\"edge\">\n<title>4&#45;&#45;5</title>\n<path fill=\"none\" stroke=\"#c0c0c0\" d=\"M43.2315,-180.3849C44.8592,-174.1579 46.8395,-166.582 48.4666,-160.3571\"/>\n</g>\n<!-- 14 -->\n<g id=\"node15\" class=\"node\">\n<title>14</title>\n<ellipse fill=\"none\" stroke=\"#ff4500\" cx=\"73.0554\" cy=\"-200.0316\" rx=\"19.1842\" ry=\"12.0417\"/>\n<text text-anchor=\"middle\" x=\"73.0554\" y=\"-198.1316\" font-family=\"monospace\" font-size=\"8.00\" fill=\"#7b68ee\">14</text>\n</g>\n<!-- 4&#45;&#45;14 -->\n<g id=\"edge20\" class=\"edge\">\n<title>4&#45;&#45;14</title>\n<path fill=\"none\" stroke=\"#c0c0c0\" d=\"M55.0237,-195.8826C55.16,-195.914 55.2965,-195.9454 55.433,-195.9768\"/>\n</g>\n<!-- 6 -->\n<g id=\"node7\" class=\"node\">\n<title>6</title>\n<ellipse fill=\"none\" stroke=\"#ff4500\" cx=\"64.0488\" cy=\"-106.0302\" rx=\"15.6129\" ry=\"12.0417\"/>\n<text text-anchor=\"middle\" x=\"64.0488\" y=\"-104.1302\" font-family=\"monospace\" font-size=\"8.00\" fill=\"#7b68ee\">6</text>\n</g>\n<!-- 5&#45;&#45;6 -->\n<g id=\"edge21\" class=\"edge\">\n<title>5&#45;&#45;6</title>\n<path fill=\"none\" stroke=\"#c0c0c0\" d=\"M55.1447,-136.3092C56.8391,-130.5473 58.8633,-123.6639 60.5532,-117.9172\"/>\n</g>\n<!-- 15 -->\n<g id=\"node16\" class=\"node\">\n<title>15</title>\n<ellipse fill=\"none\" stroke=\"#ff4500\" cx=\"85.019\" cy=\"-154.7358\" rx=\"19.1842\" ry=\"12.0417\"/>\n<text text-anchor=\"middle\" x=\"85.019\" y=\"-152.8358\" font-family=\"monospace\" font-size=\"8.00\" fill=\"#7b68ee\">15</text>\n</g>\n<!-- 5&#45;&#45;15 -->\n<g id=\"edge22\" class=\"edge\">\n<title>5&#45;&#45;15</title>\n<path fill=\"none\" stroke=\"#c0c0c0\" d=\"M66.7532,-151.2235C66.8913,-151.25 67.0295,-151.2766 67.1679,-151.3032\"/>\n</g>\n<!-- 7 -->\n<g id=\"node8\" class=\"node\">\n<title>7</title>\n<ellipse fill=\"none\" stroke=\"#ff4500\" cx=\"76.08\" cy=\"-68.1717\" rx=\"15.6129\" ry=\"12.0417\"/>\n<text text-anchor=\"middle\" x=\"76.08\" y=\"-66.2717\" font-family=\"monospace\" font-size=\"8.00\" fill=\"#7b68ee\">7</text>\n</g>\n<!-- 6&#45;&#45;7 -->\n<g id=\"edge23\" class=\"edge\">\n<title>6&#45;&#45;7</title>\n<path fill=\"none\" stroke=\"#c0c0c0\" d=\"M67.8556,-94.0516C69.2875,-89.5457 70.9133,-84.4297 72.3392,-79.9429\"/>\n</g>\n<!-- 16 -->\n<g id=\"node17\" class=\"node\">\n<title>16</title>\n<ellipse fill=\"none\" stroke=\"#ff4500\" cx=\"97.7939\" cy=\"-111.098\" rx=\"19.1842\" ry=\"12.0417\"/>\n<text text-anchor=\"middle\" x=\"97.7939\" y=\"-109.198\" font-family=\"monospace\" font-size=\"8.00\" fill=\"#7b68ee\">16</text>\n</g>\n<!-- 6&#45;&#45;16 -->\n<g id=\"edge24\" class=\"edge\">\n<title>6&#45;&#45;16</title>\n<path fill=\"none\" stroke=\"#c0c0c0\" d=\"M79.3416,-108.3268C79.4811,-108.3478 79.6208,-108.3688 79.7605,-108.3898\"/>\n</g>\n<!-- 8 -->\n<g id=\"node9\" class=\"node\">\n<title>8</title>\n<ellipse fill=\"none\" stroke=\"#ff4500\" cx=\"85.941\" cy=\"-37.672\" rx=\"15.6129\" ry=\"12.0417\"/>\n<text text-anchor=\"middle\" x=\"85.941\" y=\"-35.772\" font-family=\"monospace\" font-size=\"8.00\" fill=\"#7b68ee\">8</text>\n</g>\n<!-- 7&#45;&#45;8 -->\n<g id=\"edge25\" class=\"edge\">\n<title>7&#45;&#45;8</title>\n<path fill=\"none\" stroke=\"#c0c0c0\" d=\"M79.8643,-56.467C80.603,-54.1823 81.378,-51.7853 82.1179,-49.4967\"/>\n</g>\n<!-- 17 -->\n<g id=\"node18\" class=\"node\">\n<title>17</title>\n<ellipse fill=\"none\" stroke=\"#ff4500\" cx=\"110.1654\" cy=\"-71.2939\" rx=\"19.1842\" ry=\"12.0417\"/>\n<text text-anchor=\"middle\" x=\"110.1654\" y=\"-69.3939\" font-family=\"monospace\" font-size=\"8.00\" fill=\"#7b68ee\">17</text>\n</g>\n<!-- 7&#45;&#45;17 -->\n<g id=\"edge26\" class=\"edge\">\n<title>7&#45;&#45;17</title>\n<path fill=\"none\" stroke=\"#c0c0c0\" d=\"M91.9253,-69.6231C92.0643,-69.6359 92.2035,-69.6486 92.3428,-69.6614\"/>\n</g>\n<!-- 9 -->\n<g id=\"node10\" class=\"node\">\n<title>9</title>\n<ellipse fill=\"none\" stroke=\"#ff4500\" cx=\"94.4846\" cy=\"-23.8252\" rx=\"15.6129\" ry=\"12.0417\"/>\n<text text-anchor=\"middle\" x=\"94.4846\" y=\"-21.9252\" font-family=\"monospace\" font-size=\"8.00\" fill=\"#7b68ee\">9</text>\n</g>\n<!-- 8&#45;&#45;9 -->\n<g id=\"edge27\" class=\"edge\">\n<title>8&#45;&#45;9</title>\n<path fill=\"none\" stroke=\"#c0c0c0\" d=\"M92.6727,-26.7618C92.7389,-26.6545 92.8039,-26.5492 92.8676,-26.446\"/>\n</g>\n<!-- 18 -->\n<g id=\"node19\" class=\"node\">\n<title>18</title>\n<ellipse fill=\"none\" stroke=\"#ff4500\" cx=\"120.5151\" cy=\"-38.0022\" rx=\"19.1842\" ry=\"12.0417\"/>\n<text text-anchor=\"middle\" x=\"120.5151\" y=\"-36.1022\" font-family=\"monospace\" font-size=\"8.00\" fill=\"#7b68ee\">18</text>\n</g>\n<!-- 8&#45;&#45;18 -->\n<g id=\"edge28\" class=\"edge\">\n<title>8&#45;&#45;18</title>\n<path fill=\"none\" stroke=\"#c0c0c0\" d=\"M101.6095,-37.8217C101.7524,-37.823 101.8955,-37.8244 102.0387,-37.8258\"/>\n</g>\n<!-- 19 -->\n<g id=\"node20\" class=\"node\">\n<title>19</title>\n<ellipse fill=\"none\" stroke=\"#ff4500\" cx=\"128.2155\" cy=\"-19.841\" rx=\"19.1842\" ry=\"12.0417\"/>\n<text text-anchor=\"middle\" x=\"128.2155\" y=\"-17.941\" font-family=\"monospace\" font-size=\"8.00\" fill=\"#7b68ee\">19</text>\n</g>\n<!-- 9&#45;&#45;19 -->\n<g id=\"edge29\" class=\"edge\">\n<title>9&#45;&#45;19</title>\n<path fill=\"none\" stroke=\"#c0c0c0\" d=\"M110.1651,-21.9731C110.3027,-21.9568 110.4405,-21.9406 110.5783,-21.9243\"/>\n</g>\n<!-- 10&#45;&#45;11 -->\n<g id=\"edge30\" class=\"edge\">\n<title>10&#45;&#45;11</title>\n<path fill=\"none\" stroke=\"#c0c0c0\" d=\"M46.7772,-336.2945C46.7767,-336.0967 46.7762,-335.8988 46.7757,-335.7009\"/>\n</g>\n<!-- 20 -->\n<g id=\"node21\" class=\"node\">\n<title>20</title>\n<ellipse fill=\"none\" stroke=\"#ff4500\" cx=\"82.8686\" cy=\"-364.634\" rx=\"19.1842\" ry=\"12.0417\"/>\n<text text-anchor=\"middle\" x=\"82.8686\" y=\"-362.734\" font-family=\"monospace\" font-size=\"8.00\" fill=\"#7b68ee\">20</text>\n</g>\n<!-- 10&#45;&#45;20 -->\n<g id=\"edge31\" class=\"edge\">\n<title>10&#45;&#45;20</title>\n<path fill=\"none\" stroke=\"#c0c0c0\" d=\"M62.7289,-355.6075C64.2383,-356.284 65.7678,-356.9695 67.2741,-357.6446\"/>\n</g>\n<!-- 11&#45;&#45;12 -->\n<g id=\"edge32\" class=\"edge\">\n<title>11&#45;&#45;12</title>\n<path fill=\"none\" stroke=\"#c0c0c0\" d=\"M48.8019,-311.555C49.4884,-307.5541 50.2538,-303.0939 50.9423,-299.0816\"/>\n</g>\n<!-- 21 -->\n<g id=\"node22\" class=\"node\">\n<title>21</title>\n<ellipse fill=\"none\" stroke=\"#ff4500\" cx=\"86.1402\" cy=\"-337.5026\" rx=\"19.1842\" ry=\"12.0417\"/>\n<text text-anchor=\"middle\" x=\"86.1402\" y=\"-335.6026\" font-family=\"monospace\" font-size=\"8.00\" fill=\"#7b68ee\">21</text>\n</g>\n<!-- 11&#45;&#45;21 -->\n<g id=\"edge33\" class=\"edge\">\n<title>11&#45;&#45;21</title>\n<path fill=\"none\" stroke=\"#c0c0c0\" d=\"M63.6815,-329.5387C65.6001,-330.219 67.5543,-330.912 69.4694,-331.5911\"/>\n</g>\n<!-- 12&#45;&#45;13 -->\n<g id=\"edge34\" class=\"edge\">\n<title>12&#45;&#45;13</title>\n<path fill=\"none\" stroke=\"#c0c0c0\" d=\"M55.6348,-274.9857C56.8668,-269.3394 58.3346,-262.6129 59.5716,-256.9443\"/>\n</g>\n<!-- 22 -->\n<g id=\"node23\" class=\"node\">\n<title>22</title>\n<ellipse fill=\"none\" stroke=\"#ff4500\" cx=\"94.1227\" cy=\"-299.7595\" rx=\"19.1842\" ry=\"12.0417\"/>\n<text text-anchor=\"middle\" x=\"94.1227\" y=\"-297.8595\" font-family=\"monospace\" font-size=\"8.00\" fill=\"#7b68ee\">22</text>\n</g>\n<!-- 12&#45;&#45;22 -->\n<g id=\"edge35\" class=\"edge\">\n<title>12&#45;&#45;22</title>\n<path fill=\"none\" stroke=\"#c0c0c0\" d=\"M70.2153,-292.3087C72.415,-292.9942 74.6674,-293.6962 76.868,-294.382\"/>\n</g>\n<!-- 13&#45;&#45;14 -->\n<g id=\"edge36\" class=\"edge\">\n<title>13&#45;&#45;14</title>\n<path fill=\"none\" stroke=\"#c0c0c0\" d=\"M65.1815,-232.5689C66.7353,-226.1481 68.6312,-218.3135 70.1733,-211.9413\"/>\n</g>\n<!-- 23 -->\n<g id=\"node24\" class=\"node\">\n<title>23</title>\n<ellipse fill=\"none\" stroke=\"#ff4500\" cx=\"104.2534\" cy=\"-256.3804\" rx=\"19.1842\" ry=\"12.0417\"/>\n<text text-anchor=\"middle\" x=\"104.2534\" y=\"-254.4804\" font-family=\"monospace\" font-size=\"8.00\" fill=\"#7b68ee\">23</text>\n</g>\n<!-- 13&#45;&#45;23 -->\n<g id=\"edge37\" class=\"edge\">\n<title>13&#45;&#45;23</title>\n<path fill=\"none\" stroke=\"#c0c0c0\" d=\"M79.803,-249.6457C82.0526,-250.2653 84.3561,-250.8998 86.6068,-251.5197\"/>\n</g>\n<!-- 14&#45;&#45;15 -->\n<g id=\"edge38\" class=\"edge\">\n<title>14&#45;&#45;15</title>\n<path fill=\"none\" stroke=\"#c0c0c0\" d=\"M76.1987,-188.1307C77.9433,-181.5253 80.1073,-173.3323 81.8552,-166.7145\"/>\n</g>\n<!-- 24 -->\n<g id=\"node25\" class=\"node\">\n<title>24</title>\n<ellipse fill=\"none\" stroke=\"#ff4500\" cx=\"115.9187\" cy=\"-210.361\" rx=\"19.1842\" ry=\"12.0417\"/>\n<text text-anchor=\"middle\" x=\"115.9187\" y=\"-208.461\" font-family=\"monospace\" font-size=\"8.00\" fill=\"#7b68ee\">24</text>\n</g>\n<!-- 14&#45;&#45;24 -->\n<g id=\"edge39\" class=\"edge\">\n<title>14&#45;&#45;24</title>\n<path fill=\"none\" stroke=\"#c0c0c0\" d=\"M90.9849,-204.3524C93.279,-204.9052 95.6281,-205.4713 97.9232,-206.0244\"/>\n</g>\n<!-- 15&#45;&#45;16 -->\n<g id=\"edge40\" class=\"edge\">\n<title>15&#45;&#45;16</title>\n<path fill=\"none\" stroke=\"#c0c0c0\" d=\"M88.5098,-142.8116C90.3124,-136.6542 92.5054,-129.163 94.3073,-123.0078\"/>\n</g>\n<!-- 25 -->\n<g id=\"node26\" class=\"node\">\n<title>25</title>\n<ellipse fill=\"none\" stroke=\"#ff4500\" cx=\"128.5022\" cy=\"-163.5414\" rx=\"19.1842\" ry=\"12.0417\"/>\n<text text-anchor=\"middle\" x=\"128.5022\" y=\"-161.6414\" font-family=\"monospace\" font-size=\"8.00\" fill=\"#7b68ee\">25</text>\n</g>\n<!-- 15&#45;&#45;25 -->\n<g id=\"edge41\" class=\"edge\">\n<title>15&#45;&#45;25</title>\n<path fill=\"none\" stroke=\"#c0c0c0\" d=\"M103.2078,-158.4191C105.5351,-158.8904 107.9182,-159.373 110.2465,-159.8445\"/>\n</g>\n<!-- 16&#45;&#45;17 -->\n<g id=\"edge42\" class=\"edge\">\n<title>16&#45;&#45;17</title>\n<path fill=\"none\" stroke=\"#c0c0c0\" d=\"M101.5729,-98.9391C103.1363,-93.9094 104.9425,-88.0979 106.4943,-83.1051\"/>\n</g>\n<!-- 26 -->\n<g id=\"node27\" class=\"node\">\n<title>26</title>\n<ellipse fill=\"none\" stroke=\"#ff4500\" cx=\"141.4896\" cy=\"-117.8935\" rx=\"19.1842\" ry=\"12.0417\"/>\n<text text-anchor=\"middle\" x=\"141.4896\" y=\"-115.9935\" font-family=\"monospace\" font-size=\"8.00\" fill=\"#7b68ee\">26</text>\n</g>\n<!-- 16&#45;&#45;26 -->\n<g id=\"edge43\" class=\"edge\">\n<title>16&#45;&#45;26</title>\n<path fill=\"none\" stroke=\"#c0c0c0\" d=\"M116.5784,-114.0193C118.6139,-114.3359 120.6856,-114.6581 122.721,-114.9746\"/>\n</g>\n<!-- 17&#45;&#45;18 -->\n<g id=\"edge44\" class=\"edge\">\n<title>17&#45;&#45;18</title>\n<path fill=\"none\" stroke=\"#c0c0c0\" d=\"M113.9019,-59.2748C114.8283,-56.2948 115.8215,-53.0999 116.7493,-50.1155\"/>\n</g>\n<!-- 27 -->\n<g id=\"node28\" class=\"node\">\n<title>27</title>\n<ellipse fill=\"none\" stroke=\"#ff4500\" cx=\"153.7704\" cy=\"-75.4107\" rx=\"19.1842\" ry=\"12.0417\"/>\n<text text-anchor=\"middle\" x=\"153.7704\" y=\"-73.5107\" font-family=\"monospace\" font-size=\"8.00\" fill=\"#7b68ee\">27</text>\n</g>\n<!-- 17&#45;&#45;27 -->\n<g id=\"edge45\" class=\"edge\">\n<title>17&#45;&#45;27</title>\n<path fill=\"none\" stroke=\"#c0c0c0\" d=\"M129.1643,-73.0876C131.0004,-73.2609 132.8634,-73.4368 134.7001,-73.6102\"/>\n</g>\n<!-- 18&#45;&#45;19 -->\n<g id=\"edge46\" class=\"edge\">\n<title>18&#45;&#45;19</title>\n<path fill=\"none\" stroke=\"#c0c0c0\" d=\"M125.6085,-25.9896C125.6532,-25.884 125.6977,-25.7791 125.742,-25.6748\"/>\n</g>\n<!-- 28 -->\n<g id=\"node29\" class=\"node\">\n<title>28</title>\n<ellipse fill=\"none\" stroke=\"#ff4500\" cx=\"164.1357\" cy=\"-38.5815\" rx=\"19.1842\" ry=\"12.0417\"/>\n<text text-anchor=\"middle\" x=\"164.1357\" y=\"-36.6815\" font-family=\"monospace\" font-size=\"8.00\" fill=\"#7b68ee\">28</text>\n</g>\n<!-- 18&#45;&#45;28 -->\n<g id=\"edge47\" class=\"edge\">\n<title>18&#45;&#45;28</title>\n<path fill=\"none\" stroke=\"#c0c0c0\" d=\"M139.7747,-38.258C141.5093,-38.281 143.2656,-38.3043 144.9991,-38.3274\"/>\n</g>\n<!-- 29 -->\n<g id=\"node30\" class=\"node\">\n<title>29</title>\n<ellipse fill=\"none\" stroke=\"#ff4500\" cx=\"171.7418\" cy=\"-12.0208\" rx=\"19.1842\" ry=\"12.0417\"/>\n<text text-anchor=\"middle\" x=\"171.7418\" y=\"-10.1208\" font-family=\"monospace\" font-size=\"8.00\" fill=\"#7b68ee\">29</text>\n</g>\n<!-- 19&#45;&#45;29 -->\n<g id=\"edge48\" class=\"edge\">\n<title>19&#45;&#45;29</title>\n<path fill=\"none\" stroke=\"#c0c0c0\" d=\"M146.6746,-16.5245C148.8062,-16.1416 150.9812,-15.7508 153.1151,-15.3674\"/>\n</g>\n<!-- 20&#45;&#45;21 -->\n<g id=\"edge49\" class=\"edge\">\n<title>20&#45;&#45;21</title>\n<path fill=\"none\" stroke=\"#c0c0c0\" d=\"M84.3513,-352.3384C84.4595,-351.4411 84.5686,-350.5363 84.6767,-349.6399\"/>\n</g>\n<!-- 30 -->\n<g id=\"node31\" class=\"node\">\n<title>30</title>\n<ellipse fill=\"none\" stroke=\"#ff4500\" cx=\"124.7937\" cy=\"-380.9483\" rx=\"19.1842\" ry=\"12.0417\"/>\n<text text-anchor=\"middle\" x=\"124.7937\" y=\"-379.0483\" font-family=\"monospace\" font-size=\"8.00\" fill=\"#7b68ee\">30</text>\n</g>\n<!-- 20&#45;&#45;30 -->\n<g id=\"edge50\" class=\"edge\">\n<title>20&#45;&#45;30</title>\n<path fill=\"none\" stroke=\"#c0c0c0\" d=\"M99.4385,-371.0819C102.3682,-372.2219 105.4178,-373.4086 108.3441,-374.5473\"/>\n</g>\n<!-- 21&#45;&#45;22 -->\n<g id=\"edge51\" class=\"edge\">\n<title>21&#45;&#45;22</title>\n<path fill=\"none\" stroke=\"#c0c0c0\" d=\"M88.6659,-325.5604C89.5977,-321.1547 90.6532,-316.1638 91.586,-311.7535\"/>\n</g>\n<!-- 31 -->\n<g id=\"node32\" class=\"node\">\n<title>31</title>\n<ellipse fill=\"none\" stroke=\"#ff4500\" cx=\"130.6329\" cy=\"-352.4641\" rx=\"19.1842\" ry=\"12.0417\"/>\n<text text-anchor=\"middle\" x=\"130.6329\" y=\"-350.5641\" font-family=\"monospace\" font-size=\"8.00\" fill=\"#7b68ee\">31</text>\n</g>\n<!-- 21&#45;&#45;31 -->\n<g id=\"edge52\" class=\"edge\">\n<title>21&#45;&#45;31</title>\n<path fill=\"none\" stroke=\"#c0c0c0\" d=\"M103.215,-343.2443C106.6459,-344.398 110.2504,-345.6101 113.6772,-346.7624\"/>\n</g>\n<!-- 22&#45;&#45;23 -->\n<g id=\"edge53\" class=\"edge\">\n<title>22&#45;&#45;23</title>\n<path fill=\"none\" stroke=\"#c0c0c0\" d=\"M96.9986,-287.4448C98.4026,-281.4332 100.0844,-274.2318 101.4751,-268.277\"/>\n</g>\n<!-- 32 -->\n<g id=\"node33\" class=\"node\">\n<title>32</title>\n<ellipse fill=\"none\" stroke=\"#ff4500\" cx=\"140.1464\" cy=\"-313.4107\" rx=\"19.1842\" ry=\"12.0417\"/>\n<text text-anchor=\"middle\" x=\"140.1464\" y=\"-311.5107\" font-family=\"monospace\" font-size=\"8.00\" fill=\"#7b68ee\">32</text>\n</g>\n<!-- 22&#45;&#45;32 -->\n<g id=\"edge54\" class=\"edge\">\n<title>22&#45;&#45;32</title>\n<path fill=\"none\" stroke=\"#c0c0c0\" d=\"M111.5223,-304.9204C115.1878,-306.0077 119.0557,-307.1549 122.7222,-308.2424\"/>\n</g>\n<!-- 23&#45;&#45;24 -->\n<g id=\"edge55\" class=\"edge\">\n<title>23&#45;&#45;24</title>\n<path fill=\"none\" stroke=\"#c0c0c0\" d=\"M107.3183,-244.2894C109.0195,-237.5785 111.1295,-229.2546 112.8338,-222.5311\"/>\n</g>\n<!-- 33 -->\n<g id=\"node34\" class=\"node\">\n<title>33</title>\n<ellipse fill=\"none\" stroke=\"#ff4500\" cx=\"151.4874\" cy=\"-268.9248\" rx=\"19.1842\" ry=\"12.0417\"/>\n<text text-anchor=\"middle\" x=\"151.4874\" y=\"-267.0248\" font-family=\"monospace\" font-size=\"8.00\" fill=\"#7b68ee\">33</text>\n</g>\n<!-- 23&#45;&#45;33 -->\n<g id=\"edge56\" class=\"edge\">\n<title>23&#45;&#45;33</title>\n<path fill=\"none\" stroke=\"#c0c0c0\" d=\"M122.1106,-261.1229C125.8725,-262.122 129.8421,-263.1762 133.605,-264.1756\"/>\n</g>\n<!-- 24&#45;&#45;25 -->\n<g id=\"edge57\" class=\"edge\">\n<title>24&#45;&#45;25</title>\n<path fill=\"none\" stroke=\"#c0c0c0\" d=\"M119.2249,-198.0597C121.089,-191.1238 123.4083,-182.4942 125.2616,-175.5986\"/>\n</g>\n<!-- 34 -->\n<g id=\"node35\" class=\"node\">\n<title>34</title>\n<ellipse fill=\"none\" stroke=\"#ff4500\" cx=\"164.1087\" cy=\"-221.7348\" rx=\"19.1842\" ry=\"12.0417\"/>\n<text text-anchor=\"middle\" x=\"164.1087\" y=\"-219.8348\" font-family=\"monospace\" font-size=\"8.00\" fill=\"#7b68ee\">34</text>\n</g>\n<!-- 24&#45;&#45;34 -->\n<g id=\"edge58\" class=\"edge\">\n<title>24&#45;&#45;34</title>\n<path fill=\"none\" stroke=\"#c0c0c0\" d=\"M133.8629,-214.5962C137.8234,-215.531 142.0214,-216.5218 145.9888,-217.4582\"/>\n</g>\n<!-- 25&#45;&#45;26 -->\n<g id=\"edge59\" class=\"edge\">\n<title>25&#45;&#45;26</title>\n<path fill=\"none\" stroke=\"#c0c0c0\" d=\"M131.9145,-151.5479C133.8084,-144.8913 136.1576,-136.6345 138.055,-129.9653\"/>\n</g>\n<!-- 35 -->\n<g id=\"node36\" class=\"node\">\n<title>35</title>\n<ellipse fill=\"none\" stroke=\"#ff4500\" cx=\"177.1546\" cy=\"-173.7978\" rx=\"19.1842\" ry=\"12.0417\"/>\n<text text-anchor=\"middle\" x=\"177.1546\" y=\"-171.8978\" font-family=\"monospace\" font-size=\"8.00\" fill=\"#7b68ee\">35</text>\n</g>\n<!-- 25&#45;&#45;35 -->\n<g id=\"edge60\" class=\"edge\">\n<title>25&#45;&#45;35</title>\n<path fill=\"none\" stroke=\"#c0c0c0\" d=\"M146.6186,-167.3605C150.617,-168.2034 154.8554,-169.0969 158.8609,-169.9413\"/>\n</g>\n<!-- 26&#45;&#45;27 -->\n<g id=\"edge61\" class=\"edge\">\n<title>26&#45;&#45;27</title>\n<path fill=\"none\" stroke=\"#c0c0c0\" d=\"M144.976,-105.8332C146.6495,-100.044 148.6487,-93.128 150.3179,-87.354\"/>\n</g>\n<!-- 36 -->\n<g id=\"node37\" class=\"node\">\n<title>36</title>\n<ellipse fill=\"none\" stroke=\"#ff4500\" cx=\"190.2029\" cy=\"-126.5323\" rx=\"19.1842\" ry=\"12.0417\"/>\n<text text-anchor=\"middle\" x=\"190.2029\" y=\"-124.6323\" font-family=\"monospace\" font-size=\"8.00\" fill=\"#7b68ee\">36</text>\n</g>\n<!-- 26&#45;&#45;36 -->\n<g id=\"edge62\" class=\"edge\">\n<title>26&#45;&#45;36</title>\n<path fill=\"none\" stroke=\"#c0c0c0\" d=\"M159.906,-121.1594C163.7858,-121.8475 167.8797,-122.5735 171.7605,-123.2617\"/>\n</g>\n<!-- 27&#45;&#45;28 -->\n<g id=\"edge63\" class=\"edge\">\n<title>27&#45;&#45;28</title>\n<path fill=\"none\" stroke=\"#c0c0c0\" d=\"M157.1644,-63.3514C158.298,-59.3236 159.5617,-54.8333 160.6986,-50.7939\"/>\n</g>\n<!-- 37 -->\n<g id=\"node38\" class=\"node\">\n<title>37</title>\n<ellipse fill=\"none\" stroke=\"#ff4500\" cx=\"202.3288\" cy=\"-82.3689\" rx=\"19.1842\" ry=\"12.0417\"/>\n<text text-anchor=\"middle\" x=\"202.3288\" y=\"-80.4689\" font-family=\"monospace\" font-size=\"8.00\" fill=\"#7b68ee\">37</text>\n</g>\n<!-- 27&#45;&#45;37 -->\n<g id=\"edge64\" class=\"edge\">\n<title>27&#45;&#45;37</title>\n<path fill=\"none\" stroke=\"#c0c0c0\" d=\"M172.4055,-78.081C176.0429,-78.6023 179.8592,-79.1491 183.5027,-79.6712\"/>\n</g>\n<!-- 28&#45;&#45;29 -->\n<g id=\"edge65\" class=\"edge\">\n<title>28&#45;&#45;29</title>\n<path fill=\"none\" stroke=\"#c0c0c0\" d=\"M167.5827,-26.5446C167.8343,-25.6661 168.0879,-24.7803 168.3392,-23.9028\"/>\n</g>\n<!-- 38 -->\n<g id=\"node39\" class=\"node\">\n<title>38</title>\n<ellipse fill=\"none\" stroke=\"#ff4500\" cx=\"212.4992\" cy=\"-43.2253\" rx=\"19.1842\" ry=\"12.0417\"/>\n<text text-anchor=\"middle\" x=\"212.4992\" y=\"-41.3253\" font-family=\"monospace\" font-size=\"8.00\" fill=\"#7b68ee\">38</text>\n</g>\n<!-- 28&#45;&#45;38 -->\n<g id=\"edge66\" class=\"edge\">\n<title>28&#45;&#45;38</title>\n<path fill=\"none\" stroke=\"#c0c0c0\" d=\"M183.2502,-40.4169C186.6299,-40.7414 190.1477,-41.0792 193.5235,-41.4033\"/>\n</g>\n<!-- 39 -->\n<g id=\"node40\" class=\"node\">\n<title>39</title>\n<ellipse fill=\"none\" stroke=\"#ff4500\" cx=\"219.9485\" cy=\"-13.6624\" rx=\"19.1842\" ry=\"12.0417\"/>\n<text text-anchor=\"middle\" x=\"219.9485\" y=\"-11.7624\" font-family=\"monospace\" font-size=\"8.00\" fill=\"#7b68ee\">39</text>\n</g>\n<!-- 29&#45;&#45;39 -->\n<g id=\"edge67\" class=\"edge\">\n<title>29&#45;&#45;39</title>\n<path fill=\"none\" stroke=\"#c0c0c0\" d=\"M191.0716,-12.6791C194.2149,-12.7861 197.471,-12.897 200.6144,-13.004\"/>\n</g>\n<!-- 30&#45;&#45;31 -->\n<g id=\"edge68\" class=\"edge\">\n<title>30&#45;&#45;31</title>\n<path fill=\"none\" stroke=\"#c0c0c0\" d=\"M127.3039,-368.7032C127.5759,-367.3762 127.8528,-366.0257 128.1248,-364.6989\"/>\n</g>\n<!-- 40 -->\n<g id=\"node41\" class=\"node\">\n<title>40</title>\n<ellipse fill=\"none\" stroke=\"#ff4500\" cx=\"170.941\" cy=\"-394.5679\" rx=\"19.1842\" ry=\"12.0417\"/>\n<text text-anchor=\"middle\" x=\"170.941\" y=\"-392.6679\" font-family=\"monospace\" font-size=\"8.00\" fill=\"#7b68ee\">40</text>\n</g>\n<!-- 30&#45;&#45;40 -->\n<g id=\"edge69\" class=\"edge\">\n<title>30&#45;&#45;40</title>\n<path fill=\"none\" stroke=\"#c0c0c0\" d=\"M142.24,-386.0973C145.9154,-387.1821 149.7937,-388.3267 153.47,-389.4117\"/>\n</g>\n<!-- 31&#45;&#45;32 -->\n<g id=\"edge70\" class=\"edge\">\n<title>31&#45;&#45;32</title>\n<path fill=\"none\" stroke=\"#c0c0c0\" d=\"M133.5389,-340.5346C134.6974,-335.7791 136.0293,-330.3114 137.1925,-325.5367\"/>\n</g>\n<!-- 41 -->\n<g id=\"node42\" class=\"node\">\n<title>41</title>\n<ellipse fill=\"none\" stroke=\"#ff4500\" cx=\"178.2719\" cy=\"-366.2951\" rx=\"19.1842\" ry=\"12.0417\"/>\n<text text-anchor=\"middle\" x=\"178.2719\" y=\"-364.3951\" font-family=\"monospace\" font-size=\"8.00\" fill=\"#7b68ee\">41</text>\n</g>\n<!-- 31&#45;&#45;41 -->\n<g id=\"edge71\" class=\"edge\">\n<title>31&#45;&#45;41</title>\n<path fill=\"none\" stroke=\"#c0c0c0\" d=\"M148.1014,-357.5357C152.2439,-358.7384 156.663,-360.0214 160.8055,-361.2241\"/>\n</g>\n<!-- 32&#45;&#45;33 -->\n<g id=\"edge72\" class=\"edge\">\n<title>32&#45;&#45;33</title>\n<path fill=\"none\" stroke=\"#c0c0c0\" d=\"M143.2454,-301.2547C144.8456,-294.9777 146.7925,-287.3409 148.3922,-281.066\"/>\n</g>\n<!-- 42 -->\n<g id=\"node43\" class=\"node\">\n<title>42</title>\n<ellipse fill=\"none\" stroke=\"#ff4500\" cx=\"188.8836\" cy=\"-327.0251\" rx=\"19.1842\" ry=\"12.0417\"/>\n<text text-anchor=\"middle\" x=\"188.8836\" y=\"-325.1251\" font-family=\"monospace\" font-size=\"8.00\" fill=\"#7b68ee\">42</text>\n</g>\n<!-- 32&#45;&#45;42 -->\n<g id=\"edge73\" class=\"edge\">\n<title>32&#45;&#45;42</title>\n<path fill=\"none\" stroke=\"#c0c0c0\" d=\"M157.7416,-318.3258C162.1042,-319.5444 166.7814,-320.851 171.1505,-322.0714\"/>\n</g>\n<!-- 33&#45;&#45;34 -->\n<g id=\"edge74\" class=\"edge\">\n<title>33&#45;&#45;34</title>\n<path fill=\"none\" stroke=\"#c0c0c0\" d=\"M154.6723,-257.0167C156.571,-249.9177 158.9747,-240.9304 160.8809,-233.8032\"/>\n</g>\n<!-- 43 -->\n<g id=\"node44\" class=\"node\">\n<title>43</title>\n<ellipse fill=\"none\" stroke=\"#ff4500\" cx=\"201.4596\" cy=\"-281.876\" rx=\"19.1842\" ry=\"12.0417\"/>\n<text text-anchor=\"middle\" x=\"201.4596\" y=\"-279.976\" font-family=\"monospace\" font-size=\"8.00\" fill=\"#7b68ee\">43</text>\n</g>\n<!-- 33&#45;&#45;43 -->\n<g id=\"edge75\" class=\"edge\">\n<title>33&#45;&#45;43</title>\n<path fill=\"none\" stroke=\"#c0c0c0\" d=\"M169.2464,-273.5273C173.9594,-274.7488 179.0478,-276.0676 183.7577,-277.2882\"/>\n</g>\n<!-- 34&#45;&#45;35 -->\n<g id=\"edge76\" class=\"edge\">\n<title>34&#45;&#45;35</title>\n<path fill=\"none\" stroke=\"#c0c0c0\" d=\"M167.4007,-209.6383C169.3935,-202.3159 171.9245,-193.0159 173.9088,-185.7244\"/>\n</g>\n<!-- 44 -->\n<g id=\"node45\" class=\"node\">\n<title>44</title>\n<ellipse fill=\"none\" stroke=\"#ff4500\" cx=\"214.8921\" cy=\"-234.216\" rx=\"19.1842\" ry=\"12.0417\"/>\n<text text-anchor=\"middle\" x=\"214.8921\" y=\"-232.316\" font-family=\"monospace\" font-size=\"8.00\" fill=\"#7b68ee\">44</text>\n</g>\n<!-- 34&#45;&#45;44 -->\n<g id=\"edge77\" class=\"edge\">\n<title>34&#45;&#45;44</title>\n<path fill=\"none\" stroke=\"#c0c0c0\" d=\"M182.156,-226.1704C186.9455,-227.3475 192.1165,-228.6184 196.9029,-229.7947\"/>\n</g>\n<!-- 45 -->\n<g id=\"node46\" class=\"node\">\n<title>45</title>\n<ellipse fill=\"none\" stroke=\"#ff4500\" cx=\"228.1631\" cy=\"-185.4376\" rx=\"19.1842\" ry=\"12.0417\"/>\n<text text-anchor=\"middle\" x=\"228.1631\" y=\"-183.5376\" font-family=\"monospace\" font-size=\"8.00\" fill=\"#7b68ee\">45</text>\n</g>\n<!-- 35&#45;&#45;45 -->\n<g id=\"edge5\" class=\"edge\">\n<title>35&#45;&#45;45</title>\n<path fill=\"none\" stroke=\"#ffa500\" stroke-width=\"2\" d=\"M195.2819,-177.9343C196.7853,-178.2774 198.3261,-178.629 199.8808,-178.9837\"/>\n<polygon fill=\"#ffa500\" stroke=\"#ffa500\" stroke-width=\"2\" points=\"199.5661,-182.5018 210.0942,-181.3144 201.1235,-175.6773 199.5661,-182.5018\"/>\n</g>\n<!-- 36&#45;&#45;35 -->\n<g id=\"edge1\" class=\"edge\">\n<title>36&#45;&#45;35</title>\n<path fill=\"none\" stroke=\"#ffa500\" stroke-width=\"2\" d=\"M186.9103,-138.4594C185.7755,-142.5701 184.4662,-147.3129 183.1826,-151.9625\"/>\n<polygon fill=\"#ffa500\" stroke=\"#ffa500\" stroke-width=\"2\" points=\"179.779,-151.1393 180.4916,-161.7101 186.5266,-153.0021 179.779,-151.1393\"/>\n</g>\n<!-- 46 -->\n<g id=\"node47\" class=\"node\">\n<title>46</title>\n<ellipse fill=\"none\" stroke=\"#ff4500\" cx=\"241.212\" cy=\"-137.2578\" rx=\"19.1842\" ry=\"12.0417\"/>\n<text text-anchor=\"middle\" x=\"241.212\" y=\"-135.3578\" font-family=\"monospace\" font-size=\"8.00\" fill=\"#7b68ee\">46</text>\n</g>\n<!-- 36&#45;&#45;46 -->\n<g id=\"edge78\" class=\"edge\">\n<title>36&#45;&#45;46</title>\n<path fill=\"none\" stroke=\"#c0c0c0\" d=\"M208.3304,-130.3439C213.0267,-131.3314 218.0881,-132.3956 222.7988,-133.3861\"/>\n</g>\n<!-- 37&#45;&#45;36 -->\n<g id=\"edge2\" class=\"edge\">\n<title>37&#45;&#45;36</title>\n<path fill=\"none\" stroke=\"#ffa500\" stroke-width=\"2\" d=\"M199.0153,-94.4368C198.1331,-97.6499 197.1523,-101.2219 196.1747,-104.7824\"/>\n<polygon fill=\"#ffa500\" stroke=\"#ffa500\" stroke-width=\"2\" points=\"192.785,-103.9092 193.5124,-114.4791 199.5352,-105.7627 192.785,-103.9092\"/>\n</g>\n<!-- 47 -->\n<g id=\"node48\" class=\"node\">\n<title>47</title>\n<ellipse fill=\"none\" stroke=\"#ff4500\" cx=\"253.1152\" cy=\"-91.8231\" rx=\"19.1842\" ry=\"12.0417\"/>\n<text text-anchor=\"middle\" x=\"253.1152\" y=\"-89.9231\" font-family=\"monospace\" font-size=\"8.00\" fill=\"#7b68ee\">47</text>\n</g>\n<!-- 37&#45;&#45;47 -->\n<g id=\"edge79\" class=\"edge\">\n<title>37&#45;&#45;47</title>\n<path fill=\"none\" stroke=\"#c0c0c0\" d=\"M220.6638,-85.7821C225.2098,-86.6284 230.0836,-87.5357 234.6364,-88.3832\"/>\n</g>\n<!-- 38&#45;&#45;37 -->\n<g id=\"edge3\" class=\"edge\">\n<title>38&#45;&#45;37</title>\n<path fill=\"none\" stroke=\"#ffa500\" stroke-width=\"2\" d=\"M209.3925,-55.1824C208.9587,-56.8518 208.5022,-58.6087 208.0387,-60.3927\"/>\n<polygon fill=\"#ffa500\" stroke=\"#ffa500\" stroke-width=\"2\" points=\"204.5438,-59.9262 205.4165,-70.4851 211.3188,-61.6866 204.5438,-59.9262\"/>\n</g>\n<!-- 48 -->\n<g id=\"node49\" class=\"node\">\n<title>48</title>\n<ellipse fill=\"none\" stroke=\"#ff4500\" cx=\"262.9115\" cy=\"-51.4548\" rx=\"19.1842\" ry=\"12.0417\"/>\n<text text-anchor=\"middle\" x=\"262.9115\" y=\"-49.5548\" font-family=\"monospace\" font-size=\"8.00\" fill=\"#7b68ee\">48</text>\n</g>\n<!-- 38&#45;&#45;48 -->\n<g id=\"edge80\" class=\"edge\">\n<title>38&#45;&#45;48</title>\n<path fill=\"none\" stroke=\"#c0c0c0\" d=\"M230.9846,-46.2429C235.3684,-46.9586 240.0447,-47.7219 244.4283,-48.4375\"/>\n</g>\n<!-- 39&#45;&#45;38 -->\n<g id=\"edge4\" class=\"edge\">\n<title>39&#45;&#45;38</title>\n<path fill=\"none\" stroke=\"#ffa500\" stroke-width=\"2\" d=\"M216.9186,-25.6868C216.8904,-25.7987 216.8621,-25.9108 216.8338,-26.0231\"/>\n<polygon fill=\"#ffa500\" stroke=\"#ffa500\" stroke-width=\"2\" points=\"214.6003,-20.5635 215.5506,-31.1157 221.3881,-22.274 214.6003,-20.5635\"/>\n</g>\n<!-- 49 -->\n<g id=\"node50\" class=\"node\">\n<title>49</title>\n<ellipse fill=\"none\" stroke=\"#ff4500\" cx=\"270.0957\" cy=\"-20.9808\" rx=\"19.1842\" ry=\"12.0417\"/>\n<text text-anchor=\"middle\" x=\"270.0957\" y=\"-19.0808\" font-family=\"monospace\" font-size=\"8.00\" fill=\"#7b68ee\">49</text>\n</g>\n<!-- 39&#45;&#45;49 -->\n<g id=\"edge81\" class=\"edge\">\n<title>39&#45;&#45;49</title>\n<path fill=\"none\" stroke=\"#c0c0c0\" d=\"M238.6215,-16.3875C242.7428,-16.989 247.1114,-17.6265 251.2399,-18.229\"/>\n</g>\n<!-- 40&#45;&#45;41 -->\n<g id=\"edge82\" class=\"edge\">\n<title>40&#45;&#45;41</title>\n<path fill=\"none\" stroke=\"#c0c0c0\" d=\"M174.0925,-382.4136C174.434,-381.0966 174.7816,-379.7561 175.123,-378.4391\"/>\n</g>\n<!-- 50 -->\n<g id=\"node51\" class=\"node\">\n<title>50</title>\n<ellipse fill=\"none\" stroke=\"#ff4500\" cx=\"218.6411\" cy=\"-406.787\" rx=\"19.1842\" ry=\"12.0417\"/>\n<text text-anchor=\"middle\" x=\"218.6411\" y=\"-404.887\" font-family=\"monospace\" font-size=\"8.00\" fill=\"#7b68ee\">50</text>\n</g>\n<!-- 40&#45;&#45;50 -->\n<g id=\"edge83\" class=\"edge\">\n<title>40&#45;&#45;50</title>\n<path fill=\"none\" stroke=\"#c0c0c0\" d=\"M188.7028,-399.1178C192.623,-400.1221 196.7784,-401.1865 200.7054,-402.1925\"/>\n</g>\n<!-- 41&#45;&#45;42 -->\n<g id=\"edge84\" class=\"edge\">\n<title>41&#45;&#45;42</title>\n<path fill=\"none\" stroke=\"#c0c0c0\" d=\"M181.5134,-354.2994C182.8299,-349.4274 184.3474,-343.8118 185.6619,-338.9473\"/>\n</g>\n<!-- 51 -->\n<g id=\"node52\" class=\"node\">\n<title>51</title>\n<ellipse fill=\"none\" stroke=\"#ff4500\" cx=\"227.2447\" cy=\"-379.2066\" rx=\"19.1842\" ry=\"12.0417\"/>\n<text text-anchor=\"middle\" x=\"227.2447\" y=\"-377.3066\" font-family=\"monospace\" font-size=\"8.00\" fill=\"#7b68ee\">51</text>\n</g>\n<!-- 41&#45;&#45;51 -->\n<g id=\"edge85\" class=\"edge\">\n<title>41&#45;&#45;51</title>\n<path fill=\"none\" stroke=\"#c0c0c0\" d=\"M195.9522,-370.9564C200.3358,-372.1122 205.0356,-373.3512 209.4259,-374.5087\"/>\n</g>\n<!-- 42&#45;&#45;43 -->\n<g id=\"edge86\" class=\"edge\">\n<title>42&#45;&#45;43</title>\n<path fill=\"none\" stroke=\"#c0c0c0\" d=\"M192.1878,-315.1627C194.0217,-308.5787 196.2964,-300.4122 198.1338,-293.8159\"/>\n</g>\n<!-- 52 -->\n<g id=\"node53\" class=\"node\">\n<title>52</title>\n<ellipse fill=\"none\" stroke=\"#ff4500\" cx=\"238.8401\" cy=\"-340.2625\" rx=\"19.1842\" ry=\"12.0417\"/>\n<text text-anchor=\"middle\" x=\"238.8401\" y=\"-338.3625\" font-family=\"monospace\" font-size=\"8.00\" fill=\"#7b68ee\">52</text>\n</g>\n<!-- 42&#45;&#45;52 -->\n<g id=\"edge87\" class=\"edge\">\n<title>42&#45;&#45;52</title>\n<path fill=\"none\" stroke=\"#c0c0c0\" d=\"M206.637,-331.7294C211.3486,-332.9778 216.4353,-334.3257 221.1438,-335.5733\"/>\n</g>\n<!-- 43&#45;&#45;44 -->\n<g id=\"edge88\" class=\"edge\">\n<title>43&#45;&#45;44</title>\n<path fill=\"none\" stroke=\"#c0c0c0\" d=\"M204.8492,-269.8494C206.901,-262.5693 209.507,-253.323 211.5501,-246.0737\"/>\n</g>\n<!-- 53 -->\n<g id=\"node54\" class=\"node\">\n<title>53</title>\n<ellipse fill=\"none\" stroke=\"#ff4500\" cx=\"252.1517\" cy=\"-295.2181\" rx=\"19.1842\" ry=\"12.0417\"/>\n<text text-anchor=\"middle\" x=\"252.1517\" y=\"-293.3181\" font-family=\"monospace\" font-size=\"8.00\" fill=\"#7b68ee\">53</text>\n</g>\n<!-- 43&#45;&#45;53 -->\n<g id=\"edge89\" class=\"edge\">\n<title>43&#45;&#45;53</title>\n<path fill=\"none\" stroke=\"#c0c0c0\" d=\"M219.1892,-286.5424C224.1,-287.8349 229.4313,-289.2381 234.3464,-290.5317\"/>\n</g>\n<!-- 44&#45;&#45;45 -->\n<g id=\"edge90\" class=\"edge\">\n<title>44&#45;&#45;45</title>\n<path fill=\"none\" stroke=\"#c0c0c0\" d=\"M218.1726,-222.1584C220.2296,-214.5975 222.8705,-204.8909 224.9203,-197.3565\"/>\n</g>\n<!-- 54 -->\n<g id=\"node55\" class=\"node\">\n<title>54</title>\n<ellipse fill=\"none\" stroke=\"#ff4500\" cx=\"266.2068\" cy=\"-247.3477\" rx=\"19.1842\" ry=\"12.0417\"/>\n<text text-anchor=\"middle\" x=\"266.2068\" y=\"-245.4477\" font-family=\"monospace\" font-size=\"8.00\" fill=\"#7b68ee\">54</text>\n</g>\n<!-- 44&#45;&#45;54 -->\n<g id=\"edge91\" class=\"edge\">\n<title>44&#45;&#45;54</title>\n<path fill=\"none\" stroke=\"#c0c0c0\" d=\"M232.8395,-238.8088C237.8106,-240.0809 243.2073,-241.462 248.1828,-242.7352\"/>\n</g>\n<!-- 45&#45;&#45;46 -->\n<g id=\"edge92\" class=\"edge\">\n<title>45&#45;&#45;46</title>\n<path fill=\"none\" stroke=\"#c0c0c0\" d=\"M231.4559,-173.2798C233.4491,-165.9203 235.9807,-156.5732 237.9655,-149.2448\"/>\n</g>\n<!-- 55 -->\n<g id=\"node56\" class=\"node\">\n<title>55</title>\n<ellipse fill=\"none\" stroke=\"#ff4500\" cx=\"280.0074\" cy=\"-198.2551\" rx=\"19.1842\" ry=\"12.0417\"/>\n<text text-anchor=\"middle\" x=\"280.0074\" y=\"-196.3551\" font-family=\"monospace\" font-size=\"8.00\" fill=\"#7b68ee\">55</text>\n</g>\n<!-- 45&#45;&#45;55 -->\n<g id=\"edge6\" class=\"edge\">\n<title>45&#45;&#45;55</title>\n<path fill=\"none\" stroke=\"#ffa500\" stroke-width=\"2\" d=\"M246.0049,-189.8486C248.0187,-190.3465 250.1047,-190.8622 252.2072,-191.382\"/>\n<polygon fill=\"#ffa500\" stroke=\"#ffa500\" stroke-width=\"2\" points=\"251.4089,-194.79 261.9566,-193.7924 253.089,-187.9946 251.4089,-194.79\"/>\n</g>\n<!-- 46&#45;&#45;47 -->\n<g id=\"edge93\" class=\"edge\">\n<title>46&#45;&#45;47</title>\n<path fill=\"none\" stroke=\"#c0c0c0\" d=\"M244.3394,-125.3204C246.0752,-118.6948 248.2283,-110.4766 249.9673,-103.8386\"/>\n</g>\n<!-- 56 -->\n<g id=\"node57\" class=\"node\">\n<title>56</title>\n<ellipse fill=\"none\" stroke=\"#ff4500\" cx=\"292.7189\" cy=\"-149.6881\" rx=\"19.1842\" ry=\"12.0417\"/>\n<text text-anchor=\"middle\" x=\"292.7189\" y=\"-147.7881\" font-family=\"monospace\" font-size=\"8.00\" fill=\"#7b68ee\">56</text>\n</g>\n<!-- 46&#45;&#45;56 -->\n<g id=\"edge94\" class=\"edge\">\n<title>46&#45;&#45;56</title>\n<path fill=\"none\" stroke=\"#c0c0c0\" d=\"M259.2266,-141.6053C264.2163,-142.8095 269.6333,-144.1168 274.6274,-145.3221\"/>\n</g>\n<!-- 47&#45;&#45;48 -->\n<g id=\"edge95\" class=\"edge\">\n<title>47&#45;&#45;48</title>\n<path fill=\"none\" stroke=\"#c0c0c0\" d=\"M256.0014,-79.9296C257.2657,-74.72 258.7463,-68.6186 260.0121,-63.4027\"/>\n</g>\n<!-- 57 -->\n<g id=\"node58\" class=\"node\">\n<title>57</title>\n<ellipse fill=\"none\" stroke=\"#ff4500\" cx=\"304.1323\" cy=\"-103.7211\" rx=\"19.1842\" ry=\"12.0417\"/>\n<text text-anchor=\"middle\" x=\"304.1323\" y=\"-101.8211\" font-family=\"monospace\" font-size=\"8.00\" fill=\"#7b68ee\">57</text>\n</g>\n<!-- 47&#45;&#45;57 -->\n<g id=\"edge96\" class=\"edge\">\n<title>47&#45;&#45;57</title>\n<path fill=\"none\" stroke=\"#c0c0c0\" d=\"M271.2456,-96.0514C276.0571,-97.1735 281.2519,-98.385 286.0603,-99.5064\"/>\n</g>\n<!-- 48&#45;&#45;49 -->\n<g id=\"edge97\" class=\"edge\">\n<title>48&#45;&#45;49</title>\n<path fill=\"none\" stroke=\"#c0c0c0\" d=\"M265.7509,-39.4106C266.2529,-37.2811 266.7755,-35.0645 267.277,-32.9374\"/>\n</g>\n<!-- 58 -->\n<g id=\"node59\" class=\"node\">\n<title>58</title>\n<ellipse fill=\"none\" stroke=\"#ff4500\" cx=\"313.3593\" cy=\"-62.9865\" rx=\"19.1842\" ry=\"12.0417\"/>\n<text text-anchor=\"middle\" x=\"313.3593\" y=\"-61.0865\" font-family=\"monospace\" font-size=\"8.00\" fill=\"#7b68ee\">58</text>\n</g>\n<!-- 48&#45;&#45;58 -->\n<g id=\"edge98\" class=\"edge\">\n<title>48&#45;&#45;58</title>\n<path fill=\"none\" stroke=\"#c0c0c0\" d=\"M281.1243,-55.618C285.7529,-56.676 290.7236,-57.8123 295.3424,-58.868\"/>\n</g>\n<!-- 59 -->\n<g id=\"node60\" class=\"node\">\n<title>59</title>\n<ellipse fill=\"none\" stroke=\"#ff4500\" cx=\"320.361\" cy=\"-32.2908\" rx=\"19.1842\" ry=\"12.0417\"/>\n<text text-anchor=\"middle\" x=\"320.361\" y=\"-30.3908\" font-family=\"monospace\" font-size=\"8.00\" fill=\"#7b68ee\">59</text>\n</g>\n<!-- 49&#45;&#45;59 -->\n<g id=\"edge99\" class=\"edge\">\n<title>49&#45;&#45;59</title>\n<path fill=\"none\" stroke=\"#c0c0c0\" d=\"M288.2426,-25.0639C292.742,-26.0763 297.5658,-27.1617 302.0719,-28.1756\"/>\n</g>\n<!-- 50&#45;&#45;51 -->\n<g id=\"edge100\" class=\"edge\">\n<title>50&#45;&#45;51</title>\n<path fill=\"none\" stroke=\"#c0c0c0\" d=\"M222.3398,-394.9303C222.7405,-393.6455 223.1485,-392.3379 223.5492,-391.0532\"/>\n</g>\n<!-- 60 -->\n<g id=\"node61\" class=\"node\">\n<title>60</title>\n<ellipse fill=\"none\" stroke=\"#ff4500\" cx=\"265.3089\" cy=\"-421.3165\" rx=\"19.1842\" ry=\"12.0417\"/>\n<text text-anchor=\"middle\" x=\"265.3089\" y=\"-419.4165\" font-family=\"monospace\" font-size=\"8.00\" fill=\"#7b68ee\">60</text>\n</g>\n<!-- 50&#45;&#45;60 -->\n<g id=\"edge101\" class=\"edge\">\n<title>50&#45;&#45;60</title>\n<path fill=\"none\" stroke=\"#c0c0c0\" d=\"M236.0185,-412.1972C239.9575,-413.4236 244.1393,-414.7256 248.0724,-415.9501\"/>\n</g>\n<!-- 51&#45;&#45;52 -->\n<g id=\"edge102\" class=\"edge\">\n<title>51&#45;&#45;52</title>\n<path fill=\"none\" stroke=\"#c0c0c0\" d=\"M230.7867,-367.3104C232.2253,-362.4788 233.8834,-356.9099 235.3198,-352.0857\"/>\n</g>\n<!-- 61 -->\n<g id=\"node62\" class=\"node\">\n<title>61</title>\n<ellipse fill=\"none\" stroke=\"#ff4500\" cx=\"275.4749\" cy=\"-391.8969\" rx=\"19.1842\" ry=\"12.0417\"/>\n<text text-anchor=\"middle\" x=\"275.4749\" y=\"-389.9969\" font-family=\"monospace\" font-size=\"8.00\" fill=\"#7b68ee\">61</text>\n</g>\n<!-- 51&#45;&#45;61 -->\n<g id=\"edge103\" class=\"edge\">\n<title>51&#45;&#45;61</title>\n<path fill=\"none\" stroke=\"#c0c0c0\" d=\"M244.93,-383.8599C249.124,-384.9634 253.5979,-386.1406 257.7918,-387.2441\"/>\n</g>\n<!-- 52&#45;&#45;53 -->\n<g id=\"edge104\" class=\"edge\">\n<title>52&#45;&#45;53</title>\n<path fill=\"none\" stroke=\"#c0c0c0\" d=\"M242.3376,-328.4276C244.2788,-321.8589 246.6865,-313.7113 248.6314,-307.1303\"/>\n</g>\n<!-- 62 -->\n<g id=\"node63\" class=\"node\">\n<title>62</title>\n<ellipse fill=\"none\" stroke=\"#ff4500\" cx=\"288.3522\" cy=\"-352.8657\" rx=\"19.1842\" ry=\"12.0417\"/>\n<text text-anchor=\"middle\" x=\"288.3522\" y=\"-350.9657\" font-family=\"monospace\" font-size=\"8.00\" fill=\"#7b68ee\">62</text>\n</g>\n<!-- 52&#45;&#45;62 -->\n<g id=\"edge105\" class=\"edge\">\n<title>52&#45;&#45;62</title>\n<path fill=\"none\" stroke=\"#c0c0c0\" d=\"M256.7151,-344.8125C261.147,-345.9407 265.8986,-347.1501 270.3371,-348.28\"/>\n</g>\n<!-- 53&#45;&#45;54 -->\n<g id=\"edge106\" class=\"edge\">\n<title>53&#45;&#45;54</title>\n<path fill=\"none\" stroke=\"#c0c0c0\" d=\"M255.6984,-283.1383C257.8453,-275.8261 260.572,-266.539 262.7099,-259.2577\"/>\n</g>\n<!-- 63 -->\n<g id=\"node64\" class=\"node\">\n<title>63</title>\n<ellipse fill=\"none\" stroke=\"#ff4500\" cx=\"302.291\" cy=\"-308.119\" rx=\"19.1842\" ry=\"12.0417\"/>\n<text text-anchor=\"middle\" x=\"302.291\" y=\"-306.219\" font-family=\"monospace\" font-size=\"8.00\" fill=\"#7b68ee\">63</text>\n</g>\n<!-- 53&#45;&#45;63 -->\n<g id=\"edge107\" class=\"edge\">\n<title>53&#45;&#45;63</title>\n<path fill=\"none\" stroke=\"#c0c0c0\" d=\"M269.9701,-299.8028C274.6989,-301.0195 279.8043,-302.3331 284.53,-303.549\"/>\n</g>\n<!-- 54&#45;&#45;55 -->\n<g id=\"edge108\" class=\"edge\">\n<title>54&#45;&#45;55</title>\n<path fill=\"none\" stroke=\"#c0c0c0\" d=\"M269.5475,-235.4637C271.6854,-227.8587 274.4511,-218.0205 276.6015,-210.3706\"/>\n</g>\n<!-- 64 -->\n<g id=\"node65\" class=\"node\">\n<title>64</title>\n<ellipse fill=\"none\" stroke=\"#ff4500\" cx=\"316.5362\" cy=\"-260.3547\" rx=\"19.1842\" ry=\"12.0417\"/>\n<text text-anchor=\"middle\" x=\"316.5362\" y=\"-258.4547\" font-family=\"monospace\" font-size=\"8.00\" fill=\"#7b68ee\">64</text>\n</g>\n<!-- 54&#45;&#45;64 -->\n<g id=\"edge109\" class=\"edge\">\n<title>54&#45;&#45;64</title>\n<path fill=\"none\" stroke=\"#c0c0c0\" d=\"M284.0927,-251.9701C288.8394,-253.1968 293.9642,-254.5212 298.7078,-255.7471\"/>\n</g>\n<!-- 55&#45;&#45;56 -->\n<g id=\"edge110\" class=\"edge\">\n<title>55&#45;&#45;56</title>\n<path fill=\"none\" stroke=\"#c0c0c0\" d=\"M283.215,-185.9996C285.1567,-178.581 287.6228,-169.1587 289.5563,-161.7715\"/>\n</g>\n<!-- 65 -->\n<g id=\"node66\" class=\"node\">\n<title>65</title>\n<ellipse fill=\"none\" stroke=\"#ff4500\" cx=\"330.5675\" cy=\"-211.3218\" rx=\"19.1842\" ry=\"12.0417\"/>\n<text text-anchor=\"middle\" x=\"330.5675\" y=\"-209.4218\" font-family=\"monospace\" font-size=\"8.00\" fill=\"#7b68ee\">65</text>\n</g>\n<!-- 55&#45;&#45;65 -->\n<g id=\"edge7\" class=\"edge\">\n<title>55&#45;&#45;65</title>\n<path fill=\"none\" stroke=\"#ffa500\" stroke-width=\"2\" d=\"M297.6909,-202.8252C299.3746,-203.2603 301.1078,-203.7083 302.8567,-204.1603\"/>\n<polygon fill=\"#ffa500\" stroke=\"#ffa500\" stroke-width=\"2\" points=\"302.2509,-207.6186 312.8086,-206.7322 304.0024,-200.8413 302.2509,-207.6186\"/>\n</g>\n<!-- 56&#45;&#45;57 -->\n<g id=\"edge111\" class=\"edge\">\n<title>56&#45;&#45;57</title>\n<path fill=\"none\" stroke=\"#c0c0c0\" d=\"M295.7176,-137.6108C297.382,-130.9076 299.4465,-122.5931 301.114,-115.8773\"/>\n</g>\n<!-- 66 -->\n<g id=\"node67\" class=\"node\">\n<title>66</title>\n<ellipse fill=\"none\" stroke=\"#ff4500\" cx=\"343.1898\" cy=\"-162.611\" rx=\"19.1842\" ry=\"12.0417\"/>\n<text text-anchor=\"middle\" x=\"343.1898\" y=\"-160.711\" font-family=\"monospace\" font-size=\"8.00\" fill=\"#7b68ee\">66</text>\n</g>\n<!-- 56&#45;&#45;66 -->\n<g id=\"edge112\" class=\"edge\">\n<title>56&#45;&#45;66</title>\n<path fill=\"none\" stroke=\"#c0c0c0\" d=\"M310.6551,-154.2807C315.4152,-155.4995 320.5543,-156.8153 325.3113,-158.0333\"/>\n</g>\n<!-- 57&#45;&#45;58 -->\n<g id=\"edge113\" class=\"edge\">\n<title>57&#45;&#45;58</title>\n<path fill=\"none\" stroke=\"#c0c0c0\" d=\"M306.8508,-91.7197C308.0416,-86.4628 309.4362,-80.306 310.6284,-75.0429\"/>\n</g>\n<!-- 67 -->\n<g id=\"node68\" class=\"node\">\n<title>67</title>\n<ellipse fill=\"none\" stroke=\"#ff4500\" cx=\"354.115\" cy=\"-116.6351\" rx=\"19.1842\" ry=\"12.0417\"/>\n<text text-anchor=\"middle\" x=\"354.115\" y=\"-114.7351\" font-family=\"monospace\" font-size=\"8.00\" fill=\"#7b68ee\">67</text>\n</g>\n<!-- 57&#45;&#45;67 -->\n<g id=\"edge114\" class=\"edge\">\n<title>57&#45;&#45;67</title>\n<path fill=\"none\" stroke=\"#c0c0c0\" d=\"M321.8951,-108.3104C326.6091,-109.5284 331.6985,-110.8433 336.4095,-112.0605\"/>\n</g>\n<!-- 58&#45;&#45;59 -->\n<g id=\"edge115\" class=\"edge\">\n<title>58&#45;&#45;59</title>\n<path fill=\"none\" stroke=\"#c0c0c0\" d=\"M316.1266,-50.8547C316.6158,-48.7097 317.1251,-46.477 317.6138,-44.3344\"/>\n</g>\n<!-- 68 -->\n<g id=\"node69\" class=\"node\">\n<title>68</title>\n<ellipse fill=\"none\" stroke=\"#ff4500\" cx=\"362.5164\" cy=\"-76.3253\" rx=\"19.1842\" ry=\"12.0417\"/>\n<text text-anchor=\"middle\" x=\"362.5164\" y=\"-74.4253\" font-family=\"monospace\" font-size=\"8.00\" fill=\"#7b68ee\">68</text>\n</g>\n<!-- 58&#45;&#45;68 -->\n<g id=\"edge116\" class=\"edge\">\n<title>58&#45;&#45;68</title>\n<path fill=\"none\" stroke=\"#c0c0c0\" d=\"M331.1061,-67.8021C335.6163,-69.0259 340.4598,-70.3402 344.9604,-71.5615\"/>\n</g>\n<!-- 69 -->\n<g id=\"node70\" class=\"node\">\n<title>69</title>\n<ellipse fill=\"none\" stroke=\"#ff4500\" cx=\"368.702\" cy=\"-47.4487\" rx=\"19.1842\" ry=\"12.0417\"/>\n<text text-anchor=\"middle\" x=\"368.702\" y=\"-45.5487\" font-family=\"monospace\" font-size=\"8.00\" fill=\"#7b68ee\">69</text>\n</g>\n<!-- 59&#45;&#45;69 -->\n<g id=\"edge117\" class=\"edge\">\n<title>59&#45;&#45;69</title>\n<path fill=\"none\" stroke=\"#c0c0c0\" d=\"M337.5403,-37.6776C342.0995,-39.1071 347.0218,-40.6506 351.578,-42.0792\"/>\n</g>\n<!-- 60&#45;&#45;61 -->\n<g id=\"edge118\" class=\"edge\">\n<title>60&#45;&#45;61</title>\n<path fill=\"none\" stroke=\"#c0c0c0\" d=\"M269.4438,-409.3505C270.0595,-407.5687 270.6944,-405.7314 271.3107,-403.9479\"/>\n</g>\n<!-- 70 -->\n<g id=\"node71\" class=\"node\">\n<title>70</title>\n<ellipse fill=\"none\" stroke=\"#ff4500\" cx=\"309.6662\" cy=\"-431.3402\" rx=\"19.1842\" ry=\"12.0417\"/>\n<text text-anchor=\"middle\" x=\"309.6662\" y=\"-429.4402\" font-family=\"monospace\" font-size=\"8.00\" fill=\"#7b68ee\">70</text>\n</g>\n<!-- 60&#45;&#45;70 -->\n<g id=\"edge119\" class=\"edge\">\n<title>60&#45;&#45;70</title>\n<path fill=\"none\" stroke=\"#c0c0c0\" d=\"M283.3507,-425.3936C286.0371,-426.0006 288.8074,-426.6266 291.4964,-427.2343\"/>\n</g>\n<!-- 61&#45;&#45;62 -->\n<g id=\"edge120\" class=\"edge\">\n<title>61&#45;&#45;62</title>\n<path fill=\"none\" stroke=\"#c0c0c0\" d=\"M279.4085,-379.9742C281.0061,-375.1317 282.8475,-369.5504 284.4427,-364.7154\"/>\n</g>\n<!-- 71 -->\n<g id=\"node72\" class=\"node\">\n<title>71</title>\n<ellipse fill=\"none\" stroke=\"#ff4500\" cx=\"321.1854\" cy=\"-402.4292\" rx=\"19.1842\" ry=\"12.0417\"/>\n<text text-anchor=\"middle\" x=\"321.1854\" y=\"-400.5292\" font-family=\"monospace\" font-size=\"8.00\" fill=\"#7b68ee\">71</text>\n</g>\n<!-- 61&#45;&#45;71 -->\n<g id=\"edge121\" class=\"edge\">\n<title>61&#45;&#45;71</title>\n<path fill=\"none\" stroke=\"#c0c0c0\" d=\"M293.5409,-396.0596C296.7351,-396.7956 300.06,-397.5617 303.2506,-398.2968\"/>\n</g>\n<!-- 62&#45;&#45;63 -->\n<g id=\"edge122\" class=\"edge\">\n<title>62&#45;&#45;63</title>\n<path fill=\"none\" stroke=\"#c0c0c0\" d=\"M292.161,-340.6384C294.16,-334.2211 296.5992,-326.3909 298.5831,-320.0221\"/>\n</g>\n<!-- 72 -->\n<g id=\"node73\" class=\"node\">\n<title>72</title>\n<ellipse fill=\"none\" stroke=\"#ff4500\" cx=\"335.0393\" cy=\"-363.8476\" rx=\"19.1842\" ry=\"12.0417\"/>\n<text text-anchor=\"middle\" x=\"335.0393\" y=\"-361.9476\" font-family=\"monospace\" font-size=\"8.00\" fill=\"#7b68ee\">72</text>\n</g>\n<!-- 62&#45;&#45;72 -->\n<g id=\"edge123\" class=\"edge\">\n<title>62&#45;&#45;72</title>\n<path fill=\"none\" stroke=\"#c0c0c0\" d=\"M306.2691,-357.0802C309.7663,-357.9028 313.4356,-358.7659 316.9387,-359.5899\"/>\n</g>\n<!-- 63&#45;&#45;64 -->\n<g id=\"edge124\" class=\"edge\">\n<title>63&#45;&#45;64</title>\n<path fill=\"none\" stroke=\"#c0c0c0\" d=\"M305.8857,-296.066C308.0616,-288.77 310.8252,-279.5035 312.992,-272.2383\"/>\n</g>\n<!-- 73 -->\n<g id=\"node74\" class=\"node\">\n<title>73</title>\n<ellipse fill=\"none\" stroke=\"#ff4500\" cx=\"349.6331\" cy=\"-319.6631\" rx=\"19.1842\" ry=\"12.0417\"/>\n<text text-anchor=\"middle\" x=\"349.6331\" y=\"-317.7631\" font-family=\"monospace\" font-size=\"8.00\" fill=\"#7b68ee\">73</text>\n</g>\n<!-- 63&#45;&#45;73 -->\n<g id=\"edge125\" class=\"edge\">\n<title>63&#45;&#45;73</title>\n<path fill=\"none\" stroke=\"#c0c0c0\" d=\"M320.189,-312.4833C323.9596,-313.4027 327.9383,-314.3729 331.7097,-315.2926\"/>\n</g>\n<!-- 64&#45;&#45;65 -->\n<g id=\"edge126\" class=\"edge\">\n<title>64&#45;&#45;65</title>\n<path fill=\"none\" stroke=\"#c0c0c0\" d=\"M319.9328,-248.4852C322.1064,-240.8894 324.9183,-231.0632 327.1047,-223.4227\"/>\n</g>\n<!-- 74 -->\n<g id=\"node75\" class=\"node\">\n<title>74</title>\n<ellipse fill=\"none\" stroke=\"#ff4500\" cx=\"364.1435\" cy=\"-272.2063\" rx=\"19.1842\" ry=\"12.0417\"/>\n<text text-anchor=\"middle\" x=\"364.1435\" y=\"-270.3063\" font-family=\"monospace\" font-size=\"8.00\" fill=\"#7b68ee\">74</text>\n</g>\n<!-- 64&#45;&#45;74 -->\n<g id=\"edge127\" class=\"edge\">\n<title>64&#45;&#45;74</title>\n<path fill=\"none\" stroke=\"#c0c0c0\" d=\"M334.5344,-264.8353C338.3261,-265.7792 342.3271,-266.7752 346.1197,-267.7194\"/>\n</g>\n<!-- 65&#45;&#45;66 -->\n<g id=\"edge128\" class=\"edge\">\n<title>65&#45;&#45;66</title>\n<path fill=\"none\" stroke=\"#c0c0c0\" d=\"M333.6876,-199.281C335.6441,-191.7306 338.1559,-182.0374 340.1056,-174.5134\"/>\n</g>\n<!-- 75 -->\n<g id=\"node76\" class=\"node\">\n<title>75</title>\n<ellipse fill=\"none\" stroke=\"#ff4500\" cx=\"377.9172\" cy=\"-223.5017\" rx=\"19.1842\" ry=\"12.0417\"/>\n<text text-anchor=\"middle\" x=\"377.9172\" y=\"-221.6017\" font-family=\"monospace\" font-size=\"8.00\" fill=\"#7b68ee\">75</text>\n</g>\n<!-- 65&#45;&#45;75 -->\n<g id=\"edge8\" class=\"edge\">\n<title>65&#45;&#45;75</title>\n<path fill=\"none\" stroke=\"#ffa500\" stroke-width=\"2\" d=\"M348.4684,-215.9265C349.0576,-216.0781 349.652,-216.231 350.2498,-216.3847\"/>\n<polygon fill=\"#ffa500\" stroke=\"#ffa500\" stroke-width=\"2\" points=\"349.4343,-219.7889 359.991,-218.8905 351.1782,-213.0095 349.4343,-219.7889\"/>\n</g>\n<!-- 66&#45;&#45;67 -->\n<g id=\"edge129\" class=\"edge\">\n<title>66&#45;&#45;67</title>\n<path fill=\"none\" stroke=\"#c0c0c0\" d=\"M346.0603,-150.5314C347.6534,-143.8269 349.6296,-135.5108 351.2258,-128.7937\"/>\n</g>\n<!-- 76 -->\n<g id=\"node77\" class=\"node\">\n<title>76</title>\n<ellipse fill=\"none\" stroke=\"#ff4500\" cx=\"390.1755\" cy=\"-175.0957\" rx=\"19.1842\" ry=\"12.0417\"/>\n<text text-anchor=\"middle\" x=\"390.1755\" y=\"-173.1957\" font-family=\"monospace\" font-size=\"8.00\" fill=\"#7b68ee\">76</text>\n</g>\n<!-- 66&#45;&#45;76 -->\n<g id=\"edge130\" class=\"edge\">\n<title>66&#45;&#45;76</title>\n<path fill=\"none\" stroke=\"#c0c0c0\" d=\"M360.9531,-167.331C364.6953,-168.3253 368.644,-169.3745 372.3871,-170.3691\"/>\n</g>\n<!-- 67&#45;&#45;68 -->\n<g id=\"edge131\" class=\"edge\">\n<title>67&#45;&#45;68</title>\n<path fill=\"none\" stroke=\"#c0c0c0\" d=\"M356.6813,-104.3218C357.743,-99.2281 358.9696,-93.3428 360.0234,-88.2866\"/>\n</g>\n<!-- 77 -->\n<g id=\"node78\" class=\"node\">\n<title>77</title>\n<ellipse fill=\"none\" stroke=\"#ff4500\" cx=\"400.5629\" cy=\"-129.1264\" rx=\"19.1842\" ry=\"12.0417\"/>\n<text text-anchor=\"middle\" x=\"400.5629\" y=\"-127.2264\" font-family=\"monospace\" font-size=\"8.00\" fill=\"#7b68ee\">77</text>\n</g>\n<!-- 67&#45;&#45;77 -->\n<g id=\"edge132\" class=\"edge\">\n<title>67&#45;&#45;77</title>\n<path fill=\"none\" stroke=\"#c0c0c0\" d=\"M371.675,-121.3575C375.3743,-122.3524 379.2779,-123.4022 382.9781,-124.3973\"/>\n</g>\n<!-- 68&#45;&#45;69 -->\n<g id=\"edge133\" class=\"edge\">\n<title>68&#45;&#45;69</title>\n<path fill=\"none\" stroke=\"#c0c0c0\" d=\"M365.1038,-64.2463C365.4481,-62.639 365.801,-60.9916 366.1448,-59.3867\"/>\n</g>\n<!-- 78 -->\n<g id=\"node79\" class=\"node\">\n<title>78</title>\n<ellipse fill=\"none\" stroke=\"#ff4500\" cx=\"408.5138\" cy=\"-88.5651\" rx=\"19.1842\" ry=\"12.0417\"/>\n<text text-anchor=\"middle\" x=\"408.5138\" y=\"-86.6651\" font-family=\"monospace\" font-size=\"8.00\" fill=\"#7b68ee\">78</text>\n</g>\n<!-- 68&#45;&#45;78 -->\n<g id=\"edge134\" class=\"edge\">\n<title>68&#45;&#45;78</title>\n<path fill=\"none\" stroke=\"#c0c0c0\" d=\"M380.1686,-81.0225C383.6142,-81.9394 387.2293,-82.9013 390.6806,-83.8197\"/>\n</g>\n<!-- 79 -->\n<g id=\"node80\" class=\"node\">\n<title>79</title>\n<ellipse fill=\"none\" stroke=\"#ff4500\" cx=\"414.3752\" cy=\"-58.0833\" rx=\"19.1842\" ry=\"12.0417\"/>\n<text text-anchor=\"middle\" x=\"414.3752\" y=\"-56.1833\" font-family=\"monospace\" font-size=\"8.00\" fill=\"#7b68ee\">79</text>\n</g>\n<!-- 69&#45;&#45;79 -->\n<g id=\"edge135\" class=\"edge\">\n<title>69&#45;&#45;79</title>\n<path fill=\"none\" stroke=\"#c0c0c0\" d=\"M386.7533,-51.6518C389.9449,-52.3949 393.267,-53.1684 396.455,-53.9107\"/>\n</g>\n<!-- 70&#45;&#45;71 -->\n<g id=\"edge136\" class=\"edge\">\n<title>70&#45;&#45;71</title>\n<path fill=\"none\" stroke=\"#c0c0c0\" d=\"M314.3515,-419.581C315.0491,-417.8301 315.7686,-416.0245 316.4669,-414.2719\"/>\n</g>\n<!-- 80 -->\n<g id=\"node81\" class=\"node\">\n<title>80</title>\n<ellipse fill=\"none\" stroke=\"#ff4500\" cx=\"349.216\" cy=\"-435.5218\" rx=\"19.1842\" ry=\"12.0417\"/>\n<text text-anchor=\"middle\" x=\"349.216\" y=\"-433.6218\" font-family=\"monospace\" font-size=\"8.00\" fill=\"#7b68ee\">80</text>\n</g>\n<!-- 70&#45;&#45;80 -->\n<g id=\"edge137\" class=\"edge\">\n<title>70&#45;&#45;80</title>\n<path fill=\"none\" stroke=\"#c0c0c0\" d=\"M328.5145,-433.333C328.992,-433.3835 329.4702,-433.4341 329.948,-433.4846\"/>\n</g>\n<!-- 71&#45;&#45;72 -->\n<g id=\"edge138\" class=\"edge\">\n<title>71&#45;&#45;72</title>\n<path fill=\"none\" stroke=\"#c0c0c0\" d=\"M325.4173,-390.6438C327.1043,-385.9458 329.0439,-380.5442 330.7377,-375.8271\"/>\n</g>\n<!-- 81 -->\n<g id=\"node82\" class=\"node\">\n<title>81</title>\n<ellipse fill=\"none\" stroke=\"#ff4500\" cx=\"362.5542\" cy=\"-409.8177\" rx=\"19.1842\" ry=\"12.0417\"/>\n<text text-anchor=\"middle\" x=\"362.5542\" y=\"-407.9177\" font-family=\"monospace\" font-size=\"8.00\" fill=\"#7b68ee\">81</text>\n</g>\n<!-- 71&#45;&#45;81 -->\n<g id=\"edge139\" class=\"edge\">\n<title>71&#45;&#45;81</title>\n<path fill=\"none\" stroke=\"#c0c0c0\" d=\"M339.9332,-405.7776C341.3014,-406.022 342.681,-406.2684 344.0478,-406.5125\"/>\n</g>\n<!-- 72&#45;&#45;73 -->\n<g id=\"edge140\" class=\"edge\">\n<title>72&#45;&#45;73</title>\n<path fill=\"none\" stroke=\"#c0c0c0\" d=\"M339.0271,-351.774C341.0863,-345.5395 343.5916,-337.9545 345.6501,-331.7221\"/>\n</g>\n<!-- 82 -->\n<g id=\"node83\" class=\"node\">\n<title>82</title>\n<ellipse fill=\"none\" stroke=\"#ff4500\" cx=\"376.9842\" cy=\"-372.4651\" rx=\"19.1842\" ry=\"12.0417\"/>\n<text text-anchor=\"middle\" x=\"376.9842\" y=\"-370.5651\" font-family=\"monospace\" font-size=\"8.00\" fill=\"#7b68ee\">82</text>\n</g>\n<!-- 72&#45;&#45;82 -->\n<g id=\"edge141\" class=\"edge\">\n<title>72&#45;&#45;82</title>\n<path fill=\"none\" stroke=\"#c0c0c0\" d=\"M353.559,-367.6524C355.2269,-367.9951 356.9158,-368.3421 358.5827,-368.6846\"/>\n</g>\n<!-- 73&#45;&#45;74 -->\n<g id=\"edge142\" class=\"edge\">\n<title>73&#45;&#45;74</title>\n<path fill=\"none\" stroke=\"#c0c0c0\" d=\"M353.2946,-307.6877C355.5111,-300.4387 358.3262,-291.2319 360.5333,-284.0134\"/>\n</g>\n<!-- 83 -->\n<g id=\"node84\" class=\"node\">\n<title>83</title>\n<ellipse fill=\"none\" stroke=\"#ff4500\" cx=\"391.7982\" cy=\"-329.3055\" rx=\"19.1842\" ry=\"12.0417\"/>\n<text text-anchor=\"middle\" x=\"391.7982\" y=\"-327.4055\" font-family=\"monospace\" font-size=\"8.00\" fill=\"#7b68ee\">83</text>\n</g>\n<!-- 73&#45;&#45;83 -->\n<g id=\"edge143\" class=\"edge\">\n<title>73&#45;&#45;83</title>\n<path fill=\"none\" stroke=\"#c0c0c0\" d=\"M367.7596,-323.8083C369.7238,-324.2575 371.723,-324.7146 373.687,-325.1638\"/>\n</g>\n<!-- 74&#45;&#45;75 -->\n<g id=\"edge144\" class=\"edge\">\n<title>74&#45;&#45;75</title>\n<path fill=\"none\" stroke=\"#c0c0c0\" d=\"M367.5482,-260.167C369.6832,-252.6175 372.4241,-242.9256 374.5516,-235.4025\"/>\n</g>\n<!-- 84 -->\n<g id=\"node85\" class=\"node\">\n<title>84</title>\n<ellipse fill=\"none\" stroke=\"#ff4500\" cx=\"406.3396\" cy=\"-282.5639\" rx=\"19.1842\" ry=\"12.0417\"/>\n<text text-anchor=\"middle\" x=\"406.3396\" y=\"-280.6639\" font-family=\"monospace\" font-size=\"8.00\" fill=\"#7b68ee\">84</text>\n</g>\n<!-- 74&#45;&#45;84 -->\n<g id=\"edge145\" class=\"edge\">\n<title>74&#45;&#45;84</title>\n<path fill=\"none\" stroke=\"#c0c0c0\" d=\"M382.2833,-276.659C384.3383,-277.1634 386.4315,-277.6772 388.4829,-278.1807\"/>\n</g>\n<!-- 75&#45;&#45;76 -->\n<g id=\"edge146\" class=\"edge\">\n<title>75&#45;&#45;76</title>\n<path fill=\"none\" stroke=\"#c0c0c0\" d=\"M381.0105,-211.2868C382.8829,-203.8928 385.2611,-194.5018 387.1257,-187.139\"/>\n</g>\n<!-- 85 -->\n<g id=\"node86\" class=\"node\">\n<title>85</title>\n<ellipse fill=\"none\" stroke=\"#ff4500\" cx=\"419.9099\" cy=\"-234.1473\" rx=\"19.1842\" ry=\"12.0417\"/>\n<text text-anchor=\"middle\" x=\"419.9099\" y=\"-232.2473\" font-family=\"monospace\" font-size=\"8.00\" fill=\"#7b68ee\">85</text>\n</g>\n<!-- 75&#45;&#45;85 -->\n<g id=\"edge9\" class=\"edge\">\n<title>75&#45;&#45;85</title>\n<path fill=\"none\" stroke=\"#ffa500\" stroke-width=\"2\" d=\"M395.9696,-228.0781C396.0974,-228.1106 396.2254,-228.143 396.3535,-228.1755\"/>\n<polygon fill=\"#ffa500\" stroke=\"#ffa500\" stroke-width=\"2\" points=\"391.5858,-230.5774 402.1393,-229.6422 393.306,-223.792 391.5858,-230.5774\"/>\n</g>\n<!-- 76&#45;&#45;77 -->\n<g id=\"edge147\" class=\"edge\">\n<title>76&#45;&#45;77</title>\n<path fill=\"none\" stroke=\"#c0c0c0\" d=\"M392.9047,-163.0178C394.4195,-156.3143 396.2983,-147.9994 397.8159,-141.2833\"/>\n</g>\n<!-- 86 -->\n<g id=\"node87\" class=\"node\">\n<title>86</title>\n<ellipse fill=\"none\" stroke=\"#ff4500\" cx=\"431.6531\" cy=\"-186.2724\" rx=\"19.1842\" ry=\"12.0417\"/>\n<text text-anchor=\"middle\" x=\"431.6531\" y=\"-184.3724\" font-family=\"monospace\" font-size=\"8.00\" fill=\"#7b68ee\">86</text>\n</g>\n<!-- 76&#45;&#45;86 -->\n<g id=\"edge148\" class=\"edge\">\n<title>76&#45;&#45;86</title>\n<path fill=\"none\" stroke=\"#c0c0c0\" d=\"M408.0065,-179.9005C410.0265,-180.4448 412.0841,-180.9993 414.1005,-181.5426\"/>\n</g>\n<!-- 77&#45;&#45;78 -->\n<g id=\"edge149\" class=\"edge\">\n<title>77&#45;&#45;78</title>\n<path fill=\"none\" stroke=\"#c0c0c0\" d=\"M402.9055,-117.1761C403.9316,-111.9416 405.1333,-105.8109 406.1606,-100.5702\"/>\n</g>\n<!-- 87 -->\n<g id=\"node88\" class=\"node\">\n<title>87</title>\n<ellipse fill=\"none\" stroke=\"#ff4500\" cx=\"441.6559\" cy=\"-140.6754\" rx=\"19.1842\" ry=\"12.0417\"/>\n<text text-anchor=\"middle\" x=\"441.6559\" y=\"-138.7754\" font-family=\"monospace\" font-size=\"8.00\" fill=\"#7b68ee\">87</text>\n</g>\n<!-- 77&#45;&#45;87 -->\n<g id=\"edge150\" class=\"edge\">\n<title>77&#45;&#45;87</title>\n<path fill=\"none\" stroke=\"#c0c0c0\" d=\"M418.2285,-134.0912C420.1428,-134.6292 422.0911,-135.1768 424.0052,-135.7148\"/>\n</g>\n<!-- 78&#45;&#45;79 -->\n<g id=\"edge151\" class=\"edge\">\n<title>78&#45;&#45;79</title>\n<path fill=\"none\" stroke=\"#c0c0c0\" d=\"M410.8304,-76.5179C411.24,-74.3878 411.6664,-72.1707 412.0755,-70.043\"/>\n</g>\n<!-- 88 -->\n<g id=\"node89\" class=\"node\">\n<title>88</title>\n<ellipse fill=\"none\" stroke=\"#ff4500\" cx=\"449.2151\" cy=\"-100.056\" rx=\"19.1842\" ry=\"12.0417\"/>\n<text text-anchor=\"middle\" x=\"449.2151\" y=\"-98.156\" font-family=\"monospace\" font-size=\"8.00\" fill=\"#7b68ee\">88</text>\n</g>\n<!-- 78&#45;&#45;88 -->\n<g id=\"edge152\" class=\"edge\">\n<title>78&#45;&#45;88</title>\n<path fill=\"none\" stroke=\"#c0c0c0\" d=\"M426.0111,-93.505C427.9071,-94.0403 429.8368,-94.5851 431.7327,-95.1203\"/>\n</g>\n<!-- 89 -->\n<g id=\"node90\" class=\"node\">\n<title>89</title>\n<ellipse fill=\"none\" stroke=\"#ff4500\" cx=\"454.3633\" cy=\"-68.6167\" rx=\"19.1842\" ry=\"12.0417\"/>\n<text text-anchor=\"middle\" x=\"454.3633\" y=\"-66.7167\" font-family=\"monospace\" font-size=\"8.00\" fill=\"#7b68ee\">89</text>\n</g>\n<!-- 79&#45;&#45;89 -->\n<g id=\"edge153\" class=\"edge\">\n<title>79&#45;&#45;89</title>\n<path fill=\"none\" stroke=\"#c0c0c0\" d=\"M432.031,-62.7341C433.5374,-63.1309 435.0618,-63.5324 436.5693,-63.9295\"/>\n</g>\n<!-- 80&#45;&#45;81 -->\n<g id=\"edge154\" class=\"edge\">\n<title>80&#45;&#45;81</title>\n<path fill=\"none\" stroke=\"#c0c0c0\" d=\"M355.2607,-423.8731C355.7019,-423.0229 356.1467,-422.1657 356.5874,-421.3165\"/>\n</g>\n<!-- 90 -->\n<g id=\"node91\" class=\"node\">\n<title>90</title>\n<ellipse fill=\"none\" stroke=\"#ff4500\" cx=\"379.6306\" cy=\"-437.8889\" rx=\"19.1842\" ry=\"12.0417\"/>\n<text text-anchor=\"middle\" x=\"379.6306\" y=\"-435.9889\" font-family=\"monospace\" font-size=\"8.00\" fill=\"#7b68ee\">90</text>\n</g>\n<!-- 80&#45;&#45;90 -->\n<g id=\"edge155\" class=\"edge\">\n<title>80&#45;&#45;90</title>\n<path fill=\"none\" stroke=\"#c0c0c0\" d=\"M368.3053,-437.0075C368.4008,-437.0149 368.4961,-437.0223 368.5911,-437.0297\"/>\n</g>\n<!-- 81&#45;&#45;82 -->\n<g id=\"edge156\" class=\"edge\">\n<title>81&#45;&#45;82</title>\n<path fill=\"none\" stroke=\"#c0c0c0\" d=\"M367.12,-397.9991C368.8044,-393.639 370.7125,-388.6997 372.3986,-384.335\"/>\n</g>\n<!-- 91 -->\n<g id=\"node92\" class=\"node\">\n<title>91</title>\n<ellipse fill=\"none\" stroke=\"#ff4500\" cx=\"394.9645\" cy=\"-414.5367\" rx=\"19.1842\" ry=\"12.0417\"/>\n<text text-anchor=\"middle\" x=\"394.9645\" y=\"-412.6367\" font-family=\"monospace\" font-size=\"8.00\" fill=\"#7b68ee\">91</text>\n</g>\n<!-- 81&#45;&#45;91 -->\n<g id=\"edge157\" class=\"edge\">\n<title>81&#45;&#45;91</title>\n<path fill=\"none\" stroke=\"#c0c0c0\" d=\"M381.4074,-412.5628C381.5188,-412.579 381.6301,-412.5952 381.7411,-412.6114\"/>\n</g>\n<!-- 82&#45;&#45;83 -->\n<g id=\"edge158\" class=\"edge\">\n<title>82&#45;&#45;83</title>\n<path fill=\"none\" stroke=\"#c0c0c0\" d=\"M381.0322,-360.6716C383.1225,-354.5817 385.6655,-347.1726 387.7551,-341.0848\"/>\n</g>\n<!-- 92 -->\n<g id=\"node93\" class=\"node\">\n<title>92</title>\n<ellipse fill=\"none\" stroke=\"#ff4500\" cx=\"409.4911\" cy=\"-378.6114\" rx=\"19.1842\" ry=\"12.0417\"/>\n<text text-anchor=\"middle\" x=\"409.4911\" y=\"-376.7114\" font-family=\"monospace\" font-size=\"8.00\" fill=\"#7b68ee\">92</text>\n</g>\n<!-- 82&#45;&#45;92 -->\n<g id=\"edge159\" class=\"edge\">\n<title>82&#45;&#45;92</title>\n<path fill=\"none\" stroke=\"#c0c0c0\" d=\"M395.5166,-375.9692C395.6306,-375.9907 395.7445,-376.0123 395.8583,-376.0338\"/>\n</g>\n<!-- 83&#45;&#45;84 -->\n<g id=\"edge160\" class=\"edge\">\n<title>83&#45;&#45;84</title>\n<path fill=\"none\" stroke=\"#c0c0c0\" d=\"M395.6188,-317.0247C397.773,-310.1003 400.4532,-301.4851 402.5948,-294.601\"/>\n</g>\n<!-- 93 -->\n<g id=\"node94\" class=\"node\">\n<title>93</title>\n<ellipse fill=\"none\" stroke=\"#ff4500\" cx=\"424.2057\" cy=\"-336.2564\" rx=\"19.1842\" ry=\"12.0417\"/>\n<text text-anchor=\"middle\" x=\"424.2057\" y=\"-334.3564\" font-family=\"monospace\" font-size=\"8.00\" fill=\"#7b68ee\">93</text>\n</g>\n<!-- 83&#45;&#45;93 -->\n<g id=\"edge161\" class=\"edge\">\n<title>83&#45;&#45;93</title>\n<path fill=\"none\" stroke=\"#c0c0c0\" d=\"M409.897,-333.1874C410.013,-333.2123 410.1288,-333.2371 410.2445,-333.262\"/>\n</g>\n<!-- 84&#45;&#45;85 -->\n<g id=\"edge162\" class=\"edge\">\n<title>84&#45;&#45;85</title>\n<path fill=\"none\" stroke=\"#c0c0c0\" d=\"M409.764,-270.3463C411.8368,-262.9507 414.4696,-253.5576 416.5337,-246.1932\"/>\n</g>\n<!-- 94 -->\n<g id=\"node95\" class=\"node\">\n<title>94</title>\n<ellipse fill=\"none\" stroke=\"#ff4500\" cx=\"438.9317\" cy=\"-290.2797\" rx=\"19.1842\" ry=\"12.0417\"/>\n<text text-anchor=\"middle\" x=\"438.9317\" y=\"-288.3797\" font-family=\"monospace\" font-size=\"8.00\" fill=\"#7b68ee\">94</text>\n</g>\n<!-- 84&#45;&#45;94 -->\n<g id=\"edge163\" class=\"edge\">\n<title>84&#45;&#45;94</title>\n<path fill=\"none\" stroke=\"#c0c0c0\" d=\"M424.5415,-286.873C424.6581,-286.9006 424.7746,-286.9282 424.891,-286.9557\"/>\n</g>\n<!-- 85&#45;&#45;86 -->\n<g id=\"edge164\" class=\"edge\">\n<title>85&#45;&#45;86</title>\n<path fill=\"none\" stroke=\"#c0c0c0\" d=\"M422.8732,-222.0664C424.667,-214.7536 426.9453,-205.4656 428.7315,-198.1835\"/>\n</g>\n<!-- 95 -->\n<g id=\"node96\" class=\"node\">\n<title>95</title>\n<ellipse fill=\"none\" stroke=\"#ff4500\" cx=\"451.9486\" cy=\"-242.2422\" rx=\"19.1842\" ry=\"12.0417\"/>\n<text text-anchor=\"middle\" x=\"451.9486\" y=\"-240.3422\" font-family=\"monospace\" font-size=\"8.00\" fill=\"#7b68ee\">95</text>\n</g>\n<!-- 85&#45;&#45;95 -->\n<g id=\"edge10\" class=\"edge\">\n<title>85&#45;&#45;95</title>\n<path fill=\"none\" stroke=\"#ffa500\" stroke-width=\"2\" d=\"M437.8027,-238.6681C437.86,-238.6826 437.9173,-238.6971 437.9746,-238.7115\"/>\n<polygon fill=\"#ffa500\" stroke=\"#ffa500\" stroke-width=\"2\" points=\"427.5919,-239.6944 438.1463,-238.7549 429.3097,-232.9076 427.5919,-239.6944\"/>\n</g>\n<!-- 86&#45;&#45;87 -->\n<g id=\"edge165\" class=\"edge\">\n<title>86&#45;&#45;87</title>\n<path fill=\"none\" stroke=\"#c0c0c0\" d=\"M434.2813,-174.2923C435.7399,-167.6431 437.5492,-159.3955 439.0106,-152.7338\"/>\n</g>\n<!-- 96 -->\n<g id=\"node97\" class=\"node\">\n<title>96</title>\n<ellipse fill=\"none\" stroke=\"#ff4500\" cx=\"463.4618\" cy=\"-194.8155\" rx=\"19.1842\" ry=\"12.0417\"/>\n<text text-anchor=\"middle\" x=\"463.4618\" y=\"-192.9155\" font-family=\"monospace\" font-size=\"8.00\" fill=\"#7b68ee\">96</text>\n</g>\n<!-- 86&#45;&#45;96 -->\n<g id=\"edge166\" class=\"edge\">\n<title>86&#45;&#45;96</title>\n<path fill=\"none\" stroke=\"#c0c0c0\" d=\"M449.4175,-191.0435C449.5313,-191.0741 449.645,-191.1046 449.7586,-191.1351\"/>\n</g>\n<!-- 87&#45;&#45;88 -->\n<g id=\"edge167\" class=\"edge\">\n<title>87&#45;&#45;88</title>\n<path fill=\"none\" stroke=\"#c0c0c0\" d=\"M443.883,-128.7079C444.8586,-123.4659 446.0011,-117.3265 446.9778,-112.0783\"/>\n</g>\n<!-- 97 -->\n<g id=\"node98\" class=\"node\">\n<title>97</title>\n<ellipse fill=\"none\" stroke=\"#ff4500\" cx=\"473.2474\" cy=\"-149.6351\" rx=\"19.1842\" ry=\"12.0417\"/>\n<text text-anchor=\"middle\" x=\"473.2474\" y=\"-147.7351\" font-family=\"monospace\" font-size=\"8.00\" fill=\"#7b68ee\">97</text>\n</g>\n<!-- 87&#45;&#45;97 -->\n<g id=\"edge168\" class=\"edge\">\n<title>87&#45;&#45;97</title>\n<path fill=\"none\" stroke=\"#c0c0c0\" d=\"M459.299,-145.6792C459.412,-145.7112 459.525,-145.7433 459.6378,-145.7752\"/>\n</g>\n<!-- 88&#45;&#45;89 -->\n<g id=\"edge169\" class=\"edge\">\n<title>88&#45;&#45;89</title>\n<path fill=\"none\" stroke=\"#c0c0c0\" d=\"M451.1908,-87.9907C451.5765,-85.6357 451.9811,-83.1648 452.3674,-80.8057\"/>\n</g>\n<!-- 98 -->\n<g id=\"node99\" class=\"node\">\n<title>98</title>\n<ellipse fill=\"none\" stroke=\"#ff4500\" cx=\"480.6026\" cy=\"-109.2479\" rx=\"19.1842\" ry=\"12.0417\"/>\n<text text-anchor=\"middle\" x=\"480.6026\" y=\"-107.3479\" font-family=\"monospace\" font-size=\"8.00\" fill=\"#7b68ee\">98</text>\n</g>\n<!-- 88&#45;&#45;98 -->\n<g id=\"edge170\" class=\"edge\">\n<title>88&#45;&#45;98</title>\n<path fill=\"none\" stroke=\"#c0c0c0\" d=\"M466.7442,-105.1894C466.8566,-105.2223 466.9688,-105.2552 467.0808,-105.288\"/>\n</g>\n<!-- 99 -->\n<g id=\"node100\" class=\"node\">\n<title>99</title>\n<ellipse fill=\"none\" stroke=\"#ff4500\" cx=\"485.0225\" cy=\"-77.9858\" rx=\"19.1842\" ry=\"12.0417\"/>\n<text text-anchor=\"middle\" x=\"485.0225\" y=\"-76.0858\" font-family=\"monospace\" font-size=\"8.00\" fill=\"#7b68ee\">99</text>\n</g>\n<!-- 89&#45;&#45;99 -->\n<g id=\"edge171\" class=\"edge\">\n<title>89&#45;&#45;99</title>\n<path fill=\"none\" stroke=\"#c0c0c0\" d=\"M471.8423,-73.9581C471.9499,-73.991 472.0573,-74.0238 472.1646,-74.0566\"/>\n</g>\n<!-- 90&#45;&#45;91 -->\n<g id=\"edge172\" class=\"edge\">\n<title>90&#45;&#45;91</title>\n<path fill=\"none\" stroke=\"#c0c0c0\" d=\"M386.9383,-426.76C387.1234,-426.478 387.3088,-426.1957 387.4941,-425.9135\"/>\n</g>\n<!-- 91&#45;&#45;92 -->\n<g id=\"edge173\" class=\"edge\">\n<title>91&#45;&#45;92</title>\n<path fill=\"none\" stroke=\"#c0c0c0\" d=\"M399.721,-402.7734C401.3098,-398.8444 403.0808,-394.4644 404.6741,-390.5241\"/>\n</g>\n<!-- 92&#45;&#45;93 -->\n<g id=\"edge174\" class=\"edge\">\n<title>92&#45;&#45;93</title>\n<path fill=\"none\" stroke=\"#c0c0c0\" d=\"M413.6683,-366.5875C415.6736,-360.8156 418.069,-353.9205 420.0689,-348.1638\"/>\n</g>\n<!-- 93&#45;&#45;94 -->\n<g id=\"edge175\" class=\"edge\">\n<title>93&#45;&#45;94</title>\n<path fill=\"none\" stroke=\"#c0c0c0\" d=\"M428.0748,-324.1766C430.2563,-317.3655 432.9705,-308.8913 435.1394,-302.1199\"/>\n</g>\n<!-- 94&#45;&#45;95 -->\n<g id=\"edge176\" class=\"edge\">\n<title>94&#45;&#45;95</title>\n<path fill=\"none\" stroke=\"#c0c0c0\" d=\"M442.2164,-278.1578C444.2047,-270.8201 446.7301,-261.5005 448.71,-254.1938\"/>\n</g>\n<!-- 95&#45;&#45;96 -->\n<g id=\"edge177\" class=\"edge\">\n<title>95&#45;&#45;96</title>\n<path fill=\"none\" stroke=\"#c0c0c0\" d=\"M454.8538,-230.2744C456.5858,-223.1398 458.7785,-214.1074 460.5174,-206.9444\"/>\n</g>\n<!-- 96&#45;&#45;97 -->\n<g id=\"edge178\" class=\"edge\">\n<title>96&#45;&#45;97</title>\n<path fill=\"none\" stroke=\"#c0c0c0\" d=\"M466.1358,-182.4698C467.5392,-175.9902 469.2516,-168.0841 470.6443,-161.6536\"/>\n</g>\n<!-- 97&#45;&#45;98 -->\n<g id=\"edge179\" class=\"edge\">\n<title>97&#45;&#45;98</title>\n<path fill=\"none\" stroke=\"#c0c0c0\" d=\"M475.4942,-137.2981C476.4236,-132.1947 477.4975,-126.298 478.4201,-121.2321\"/>\n</g>\n<!-- 98&#45;&#45;99 -->\n<g id=\"edge180\" class=\"edge\">\n<title>98&#45;&#45;99</title>\n<path fill=\"none\" stroke=\"#c0c0c0\" d=\"M482.2988,-97.2505C482.6299,-94.9088 482.9773,-92.4518 483.3089,-90.1061\"/>\n</g>\n</g>\n</svg>\n"
          },
          "metadata": {},
          "execution_count": 127
        }
      ]
    },
    {
      "cell_type": "markdown",
      "metadata": {
        "id": "KKdWayQmLgGF"
      },
      "source": [
        "#Con el grafo trabajado"
      ]
    },
    {
      "cell_type": "code",
      "metadata": {
        "id": "IX4ZfDc-Mi8l"
      },
      "source": [
        "def BFSPointToPointEdges(G, source, target):\n",
        "  path,_ = bfsPointToPoint(G, source, target)\n",
        "  t = target\n",
        "  targetPath = []\n",
        "  targetPath.append(target)\n",
        "  targetPath.append(path[t])\n",
        "  while path[t] != source:\n",
        "    t = path[t]\n",
        "    targetPath.append(path[t])\n",
        "  return len(targetPath)-1"
      ],
      "execution_count": 128,
      "outputs": []
    },
    {
      "cell_type": "code",
      "metadata": {
        "id": "DqhQCrG08KH9"
      },
      "source": [
        "almacenes2 = [] ##Arreglo de almacenes [Nombre del almacen, posicion X, posicion Y]\n",
        "with open(\"Archivos/almacenes.csv\", newline=\"\") as csvfile:\n",
        "    reader = csv.reader(csvfile, delimiter=\",\")\n",
        "    for row in reader:\n",
        "      if row[0] != 'Almacenes':\n",
        "        almacenes2.append(row)  \n",
        "    print(almacenes2)"
      ],
      "execution_count": null,
      "outputs": []
    },
    {
      "cell_type": "code",
      "metadata": {
        "id": "7hdjrmD78Rg2"
      },
      "source": [
        "puntosEntrega2 = [] ##Arreglo de puntos de entrega [Nombre del punto, posicion X, posicion Y]\n",
        "with open(\"Archivos/puntos_entrega.csv\", newline=\"\") as csvfile:\n",
        "    reader = csv.reader(csvfile, delimiter=\",\")\n",
        "    for row in reader:\n",
        "      if row[0] != 'Puntos de Entrega':\n",
        "        puntosEntrega2.append(row)  \n",
        "    print(puntosEntrega2)"
      ],
      "execution_count": null,
      "outputs": []
    },
    {
      "cell_type": "code",
      "metadata": {
        "id": "vVKWRTgt8fTU"
      },
      "source": [
        "def dist(a,b):\n",
        "  _, x1, y1 = a\n",
        "  _, x2, y2 = b\n",
        "  return abs(int(x1) - int(x2)) + abs(int(y1) - int(y2))"
      ],
      "execution_count": 131,
      "outputs": []
    },
    {
      "cell_type": "code",
      "metadata": {
        "id": "SQp15yfA8gSz"
      },
      "source": [
        "group = [-1] * len(puntosEntrega2)\n",
        "\n",
        "for i in range(len(puntosEntrega2)):\n",
        "  m = 0\n",
        "  d = dist(puntosEntrega2[i], puntosEntrega2[len(puntosEntrega2)-1])\n",
        "  for j in range(len(almacenes2)):\n",
        "    d2 = dist(puntosEntrega2[i], almacenes2[j])\n",
        "    if d2 < d:\n",
        "      d = d2\n",
        "      m = j\n",
        "  group[i] = m"
      ],
      "execution_count": 132,
      "outputs": []
    },
    {
      "cell_type": "code",
      "metadata": {
        "colab": {
          "base_uri": "https://localhost:8080/"
        },
        "id": "Dl_OoAAX8isM",
        "outputId": "3032bb1b-c0ce-45d6-db9c-faccc501506d"
      },
      "source": [
        "group = np.array(group)\n",
        "\n",
        "cant = []\n",
        "for i in range(len(almacenes)):\n",
        "  cant.append(len(group[group == i]))\n",
        "\n",
        "print(min(cant))\n",
        "print(max(cant))\n",
        "print(np.mean(cant))"
      ],
      "execution_count": 133,
      "outputs": [
        {
          "output_type": "stream",
          "name": "stdout",
          "text": [
            "2\n",
            "185\n",
            "60.0\n"
          ]
        }
      ]
    },
    {
      "cell_type": "code",
      "metadata": {
        "id": "JKsy8YaL_Dju"
      },
      "source": [
        "GRC = quitarPeso(GR)"
      ],
      "execution_count": 134,
      "outputs": []
    },
    {
      "cell_type": "markdown",
      "metadata": {
        "id": "5vJi8bnOO_M8"
      },
      "source": [
        "GRUPOS"
      ]
    },
    {
      "cell_type": "code",
      "metadata": {
        "colab": {
          "base_uri": "https://localhost:8080/"
        },
        "id": "4JdWb3z19Emc",
        "outputId": "f8eb800a-6848-40bc-f5a3-cbf88eb8c0a8"
      },
      "source": [
        "#GRUPO 11\n",
        "group[group == 11]\n",
        "distancias_almacen_punto_entrega_BFS = []\n",
        "for i in range(len(puntosEntrega)):\n",
        "  if group[i] == 11: \n",
        "    camino = BFSPointToPointEdges(GRC, almacenes[11][1], puntosEntrega[i][1])\n",
        "    distancias_almacen_punto_entrega_BFS.append(camino)\n",
        "print(distancias_almacen_punto_entrega_BFS)"
      ],
      "execution_count": 143,
      "outputs": [
        {
          "output_type": "stream",
          "name": "stdout",
          "text": [
            "[163, 42, 62, 82, 48, 70, 55, 35, 116, 121, 78, 49, 144, 63, 82, 84, 70, 53, 38, 111, 81, 118, 78, 50, 17, 78, 71, 92, 51, 86, 101, 68, 106, 27, 159, 76, 62, 90, 54, 43, 30, 116, 100, 50, 111, 34, 74, 33, 25, 137, 82, 92, 131, 55, 30, 125, 89, 26, 87, 158, 50, 119, 144, 33, 65, 77, 66, 49, 145, 43, 84, 103, 97, 65]\n"
          ]
        }
      ]
    },
    {
      "cell_type": "code",
      "metadata": {
        "colab": {
          "base_uri": "https://localhost:8080/"
        },
        "id": "h1uHaIzR_cgM",
        "outputId": "73a6316a-586d-4126-9ebb-38b72d9dae1a"
      },
      "source": [
        "#GRUPO 12\n",
        "group[group == 12]\n",
        "distancias_almacen_punto_entrega_BFS = []\n",
        "for i in range(len(puntosEntrega)):\n",
        "  if group[i] == 12: \n",
        "    camino = BFSPointToPointEdges(GRC, almacenes[12][1], puntosEntrega[i][1])\n",
        "    distancias_almacen_punto_entrega_BFS.append(camino)\n",
        "print(distancias_almacen_punto_entrega_BFS)"
      ],
      "execution_count": 144,
      "outputs": [
        {
          "output_type": "stream",
          "name": "stdout",
          "text": [
            "[32, 49, 37, 129, 109, 120, 74, 64, 42, 51, 47, 60, 48, 47, 88, 38, 52, 7, 36, 122, 5, 139, 85, 44, 64, 53, 58, 26, 99, 77, 109, 76, 75, 71, 19, 69, 19, 36, 151, 98, 139, 139, 75, 56, 150, 78]\n"
          ]
        }
      ]
    },
    {
      "cell_type": "code",
      "metadata": {
        "colab": {
          "base_uri": "https://localhost:8080/"
        },
        "id": "FTVhYWc-NcWd",
        "outputId": "bbadf347-4c83-4b8d-8659-7fa5c7eaad70"
      },
      "source": [
        "#GRUPO 13\n",
        "group[group == 13]\n",
        "distancias_almacen_punto_entrega_BFS = []\n",
        "for i in range(len(puntosEntrega)):\n",
        "  if group[i] == 13: \n",
        "    camino = BFSPointToPointEdges(GRC, almacenes[13][1], puntosEntrega[i][1])\n",
        "    distancias_almacen_punto_entrega_BFS.append(camino)\n",
        "print(distancias_almacen_punto_entrega_BFS)"
      ],
      "execution_count": 145,
      "outputs": [
        {
          "output_type": "stream",
          "name": "stdout",
          "text": [
            "[31, 108, 55, 137, 127, 90, 94, 60, 9, 72, 32, 104, 46, 103, 25, 126, 70, 114, 63, 38, 64, 22, 138, 46, 47, 78, 73, 141, 113, 40, 90, 90, 64, 64, 33, 34, 80, 40, 78, 30, 70, 8, 70, 108, 55, 29, 59, 67, 85, 150, 61, 39, 90, 85, 39, 59, 122, 79]\n"
          ]
        }
      ]
    },
    {
      "cell_type": "code",
      "metadata": {
        "colab": {
          "base_uri": "https://localhost:8080/"
        },
        "id": "5C2YeJj_Nvgl",
        "outputId": "fb1cb248-203e-48e5-9820-ca64e1bd3d81"
      },
      "source": [
        "#GRUPO 14\n",
        "group[group == 14]\n",
        "distancias_almacen_punto_entrega_BFS = []\n",
        "for i in range(len(puntosEntrega)):\n",
        "  if group[i] == 14: \n",
        "    camino = BFSPointToPointEdges(GRC, almacenes[14][1], puntosEntrega[i][1])\n",
        "    distancias_almacen_punto_entrega_BFS.append(camino)\n",
        "print(distancias_almacen_punto_entrega_BFS)"
      ],
      "execution_count": 146,
      "outputs": [
        {
          "output_type": "stream",
          "name": "stdout",
          "text": [
            "[138, 123, 98, 129, 128, 182, 57, 26, 162, 114, 156, 100, 149, 48, 124, 51, 61, 150, 62, 36, 39, 110, 69, 66, 73, 64, 21, 109, 96, 39, 146, 83, 116, 117, 15, 38, 48, 137, 70, 173, 172, 109, 120, 70, 116, 42, 119, 77, 84, 81, 169, 62, 50, 47, 149, 136, 158, 37, 122, 125, 24, 93, 80, 119, 99, 78, 62, 50, 149, 134, 100, 52, 90, 160, 170, 166, 104, 125, 101, 155, 95, 88, 42, 102, 165, 130, 125, 60, 146, 112, 101, 86, 131, 58, 62, 148, 108, 87, 98]\n"
          ]
        }
      ]
    },
    {
      "cell_type": "code",
      "metadata": {
        "colab": {
          "base_uri": "https://localhost:8080/"
        },
        "id": "-ltT9XtBN4b9",
        "outputId": "a7e01a00-992a-4486-a499-cc5981dde11f"
      },
      "source": [
        "#GRUPO 15\n",
        "group[group == 15]\n",
        "distancias_almacen_punto_entrega_BFS = []\n",
        "for i in range(len(puntosEntrega)):\n",
        "  if group[i] == 15: \n",
        "    camino = BFSPointToPointEdges(GRC, almacenes[15][1], puntosEntrega[i][1])\n",
        "    distancias_almacen_punto_entrega_BFS.append(camino)\n",
        "print(distancias_almacen_punto_entrega_BFS)"
      ],
      "execution_count": 147,
      "outputs": [
        {
          "output_type": "stream",
          "name": "stdout",
          "text": [
            "[220, 32, 13, 103, 161, 63, 111, 53, 94, 105, 196, 182, 108, 53, 74, 216, 112, 60, 27, 84, 196, 82, 208, 190, 149, 104, 148, 50, 314, 124, 86, 127, 223, 51, 94, 75, 62, 160, 207, 149, 184, 89, 118, 111, 323, 141, 264, 57, 153, 150, 187, 160, 238, 188, 241, 200, 241, 94, 69, 180, 65, 83, 200, 172, 43, 99, 234, 90, 204, 57, 220, 59, 144, 145, 109, 228, 182, 89, 148, 21, 99, 89, 314, 256, 211, 79, 263, 208, 216, 246, 54, 71, 223, 69, 129, 222, 187, 154, 182, 300, 123, 261, 155, 171, 133, 171, 67, 75, 105, 117, 221, 86, 68, 97, 136, 194, 172, 92, 109, 126, 89, 282, 43, 142, 250, 13, 104, 134, 262, 175, 178, 249, 51, 209, 83, 176, 193, 101, 31, 204, 122, 50, 189, 116, 214, 123, 235, 40, 121, 211, 99, 226, 73, 164, 107, 134, 156, 116, 244]\n"
          ]
        }
      ]
    },
    {
      "cell_type": "code",
      "metadata": {
        "colab": {
          "base_uri": "https://localhost:8080/"
        },
        "id": "EQ0_e-mLOeLF",
        "outputId": "5727a10b-ec86-4591-ef16-4df79bc41caa"
      },
      "source": [
        "#GRUPO 16\n",
        "group[group == 16]\n",
        "distancias_almacen_punto_entrega_BFS = []\n",
        "for i in range(len(puntosEntrega)):\n",
        "  if group[i] == 16: \n",
        "    camino = BFSPointToPointEdges(GRC, almacenes[16][1], puntosEntrega[i][1])\n",
        "    distancias_almacen_punto_entrega_BFS.append(camino)\n",
        "print(distancias_almacen_punto_entrega_BFS)"
      ],
      "execution_count": 148,
      "outputs": [
        {
          "output_type": "stream",
          "name": "stdout",
          "text": [
            "[161, 140, 76, 76, 123, 57, 30, 153, 154, 113, 154, 168, 63, 41, 33, 139, 45, 110, 84, 17, 7, 51, 148, 64, 110, 63, 20, 61, 165, 167, 61, 61, 68, 64, 82, 88, 70, 56, 67, 132, 35, 120, 150, 166, 112]\n"
          ]
        }
      ]
    },
    {
      "cell_type": "code",
      "metadata": {
        "colab": {
          "base_uri": "https://localhost:8080/"
        },
        "id": "GfxYTQN8Oi8d",
        "outputId": "c3bbf6ae-53d5-42cd-d4f2-f3bd9e10dc31"
      },
      "source": [
        "#GRUPO 17\n",
        "group[group == 17]\n",
        "distancias_almacen_punto_entrega_BFS = []\n",
        "for i in range(len(puntosEntrega)):\n",
        "  if group[i] == 17: \n",
        "    camino = BFSPointToPointEdges(GRC, almacenes[17][1], puntosEntrega[i][1])\n",
        "    distancias_almacen_punto_entrega_BFS.append(camino)\n",
        "print(distancias_almacen_punto_entrega_BFS)"
      ],
      "execution_count": 149,
      "outputs": [
        {
          "output_type": "stream",
          "name": "stdout",
          "text": [
            "[33, 60, 56, 49, 47, 15, 46, 15, 73, 25, 3, 50, 57, 49]\n"
          ]
        }
      ]
    },
    {
      "cell_type": "code",
      "metadata": {
        "colab": {
          "base_uri": "https://localhost:8080/"
        },
        "id": "XDlfRHUnOp0e",
        "outputId": "dfcc860a-051e-47a5-dbbe-fb73feda0f54"
      },
      "source": [
        "#GRUPO 18\n",
        "group[group == 18]\n",
        "distancias_almacen_punto_entrega_BFS = []\n",
        "for i in range(len(puntosEntrega)):\n",
        "  if group[i] == 18: \n",
        "    camino = BFSPointToPointEdges(GRC, almacenes[18][1], puntosEntrega[i][1])\n",
        "    distancias_almacen_punto_entrega_BFS.append(camino)\n",
        "print(distancias_almacen_punto_entrega_BFS)"
      ],
      "execution_count": 150,
      "outputs": [
        {
          "output_type": "stream",
          "name": "stdout",
          "text": [
            "[103, 85, 94, 153, 49, 113, 125, 58, 46, 106, 123, 168, 118, 128, 77, 70, 117, 85, 140, 88, 186, 32, 129, 136, 128, 140, 118, 131, 141, 106, 148, 98, 141, 149, 121, 99, 104, 54, 40, 42, 45, 54, 56, 54, 134, 70, 84, 132, 69, 46, 90, 92, 28, 82, 84, 136, 57, 104, 94, 112, 152, 105, 171, 75, 32, 65, 154, 136, 41, 86, 65, 150, 38, 125, 49, 84, 140, 136, 163, 43, 78, 83, 129, 53, 80, 86, 85, 123, 31, 58, 35, 16, 52, 89, 43, 165, 44, 93, 78, 85, 68, 48, 71, 109, 143, 119, 170, 132]\n"
          ]
        }
      ]
    },
    {
      "cell_type": "code",
      "metadata": {
        "colab": {
          "base_uri": "https://localhost:8080/"
        },
        "id": "6VQYulTxOv61",
        "outputId": "f9837647-05e9-4afc-9361-f4da2d35cb80"
      },
      "source": [
        "#GRUPO 19\n",
        "group[group == 19]\n",
        "distancias_almacen_punto_entrega_BFS = []\n",
        "for i in range(len(puntosEntrega)):\n",
        "  if group[i] == 19: \n",
        "    camino = BFSPointToPointEdges(GRC, almacenes[19][1], puntosEntrega[i][1])\n",
        "    distancias_almacen_punto_entrega_BFS.append(camino)\n",
        "print(distancias_almacen_punto_entrega_BFS)"
      ],
      "execution_count": 151,
      "outputs": [
        {
          "output_type": "stream",
          "name": "stdout",
          "text": [
            "[70, 63, 21, 14, 15, 34, 12, 87, 21, 35, 9, 13, 21, 30, 45, 20]\n"
          ]
        }
      ]
    },
    {
      "cell_type": "code",
      "metadata": {
        "colab": {
          "base_uri": "https://localhost:8080/"
        },
        "id": "MZlHiWcIO2q9",
        "outputId": "a08f6462-ba05-4d66-c6ce-c77e2a01f9f5"
      },
      "source": [
        "#GRUPO 20\n",
        "group[group == 20]\n",
        "distancias_almacen_punto_entrega_BFS = []\n",
        "for i in range(len(puntosEntrega)):\n",
        "  if group[i] == 20: \n",
        "    camino = BFSPointToPointEdges(GRC, almacenes[20][1], puntosEntrega[i][1])\n",
        "    distancias_almacen_punto_entrega_BFS.append(camino)\n",
        "print(distancias_almacen_punto_entrega_BFS)"
      ],
      "execution_count": 152,
      "outputs": [
        {
          "output_type": "stream",
          "name": "stdout",
          "text": [
            "[175, 37, 147, 40, 124, 91, 41, 69, 91, 152, 77, 111, 60, 104, 67, 67, 39, 111, 60, 10, 173, 89, 143, 139, 89, 63, 94, 173, 152, 118, 155, 118, 165, 91, 29, 76, 89, 102, 102, 162, 45, 106, 76, 68, 23, 17, 172, 167, 121, 157, 154, 138, 116, 95, 115, 82, 85, 95, 119, 61, 66, 143, 111, 117, 167, 130, 28, 116, 138, 85, 86, 172, 151, 4, 125, 34, 8, 126, 155, 76, 118, 67]\n"
          ]
        }
      ]
    }
  ]
}